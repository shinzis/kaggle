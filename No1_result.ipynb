{
 "cells": [
  {
   "cell_type": "markdown",
   "metadata": {},
   "source": [
    " ### 1st Place LGB Model(public:0.470, private:0.502)について\n",
    "\n",
    "https://www.kaggle.com/pureheart/1st-place-lgb-model-public-0-470-private-0-502"
   ]
  },
  {
   "cell_type": "markdown",
   "metadata": {},
   "source": [
    "特徴量は２２４？\n",
    "\n",
    "テストを2017-03-12〜2017-04-22に設定。"
   ]
  },
  {
   "cell_type": "markdown",
   "metadata": {},
   "source": [
    "意味わからないとこ全般"
   ]
  },
  {
   "cell_type": "markdown",
   "metadata": {},
   "source": [
    " ### ①ホリデーフラグ\n",
    "```\n",
    "data['dow'] = pd.to_datetime(data['visit_date']).dt.dayofweek\n",
    "date_info['holiday_flg2'] = pd.to_datetime(date_info['visit_date']).dt.dayofweek\n",
    "date_info['holiday_flg2'] = ((date_info['holiday_flg2']>4) | (date_info['holiday_flg']==1)).astype(int)\n",
    "```\n",
    "dayofweekで、月曜日が0、日曜日が6\n",
    "\n",
    "「金土日＋休暇」にフラグしている。"
   ]
  },
  {
   "cell_type": "markdown",
   "metadata": {},
   "source": [
    " ### ②日付差分\n",
    "```\n",
    "def diff_of_days(day1, day2):\n",
    "    days = (parse(day1[:10]) - parse(day2[:10])).days\n",
    "    return days\n",
    "```\n",
    "おいおい関数の中で出てくる。差分の日付を出す理由はなぜ？"
   ]
  },
  {
   "cell_type": "markdown",
   "metadata": {},
   "source": [
    " ### ③end_date,start_date\n",
    "```\n",
    "label_end_date = date_add_days(end_date, n_day)\n",
    "label = data[(data['visit_date'] < label_end_date) & (data['visit_date'] >= end_date)].copy()\n",
    "```\n",
    "関数の中で毎回日数を区切っている？（end_dateとstart_dateが出てくる）\n"
   ]
  },
  {
   "cell_type": "markdown",
   "metadata": {},
   "source": [
    " ### ④曜日ごとの平均\n",
    "```\n",
    "def get_store_week_exp_feat(label, key, n_day):\n",
    "    start_date = date_add_days(key[0], -n_day)\n",
    "    data_temp = data[(data.visit_date < key[0]) & (data.visit_date > start_date)].copy()\n",
    "    data_temp['visit_date'] = data_temp['visit_date'].apply(lambda x: diff_of_days(key[0],x))\n",
    "    data_temp['visitors2'] = data_temp['visitors']\n",
    "    result = None\n",
    "    for i in [0.9,0.95,0.97,0.98,0.985,0.99,0.999,0.9999]:\n",
    "        data_temp['weight'] = data_temp['visit_date'].apply(lambda x: i**x)\n",
    "        data_temp['visitors1'] = data_temp['visitors'] * data_temp['weight']\n",
    "        data_temp['visitors2'] = data_temp['visitors2'] * data_temp['weight']\n",
    "        result1 = data_temp.groupby(['store_id', 'dow'], as_index=False)['visitors1'].agg({'store_dow_exp_mean{}_{}'.format(n_day,i): 'sum'})\n",
    "        result3 = data_temp.groupby(['store_id', 'dow'], as_index=False)['visitors2'].agg({'store_dow_exp_mean2{}_{}'.format(n_day, i): 'sum'})\n",
    "        result2 = data_temp.groupby(['store_id', 'dow'], as_index=False)['weight'].agg({'store_dow_exp_weight_sum{}_{}'.format(n_day,i): 'sum'})\n",
    "        result_temp = result1.merge(result2, on=['store_id', 'dow'], how='left')\n",
    "        result_temp = result_temp.merge(result3, on=['store_id', 'dow'], how='left')\n",
    "        result_temp['store_dow_exp_mean{}_{}'.format(n_day,i)] = result_temp['store_dow_exp_mean{}_{}'.format(n_day,i)]/result_temp['store_dow_exp_weight_sum{}_{}'.format(n_day,i)]\n",
    "        result_temp['store_dow_exp_mean2{}_{}'.format(n_day, i)] = result_temp[ 'store_dow_exp_mean2{}_{}'.format(n_day, i)]/result_temp['store_dow_exp_weight_sum{}_{}'.format(n_day, i)]\n",
    "        if result is None:\n",
    "            result = result_temp\n",
    "        else:\n",
    "            result = result.merge(result_temp,on=['store_id','dow'],how='left')\n",
    "    result = left_merge(label, result, on=['store_id', 'dow']).fillna(0)\n",
    "    return result\n",
    "```\n",
    "曜日ごとのお店の平均、中央値等を出している。（0.9〜0.999の重み付けして乗算している？）\n",
    "\n",
    "end_dateからstart_dateに変わるとn_dayがマイナスされている理由は？"
   ]
  },
  {
   "cell_type": "markdown",
   "metadata": {},
   "source": [
    " ### ⑤ジャンルと曜日\n",
    "```\n",
    "def get_genre_week_feat(label, key, n_day):\n",
    "    start_date = date_add_days(key[0], -n_day)\n",
    "    data_temp = data[(data.visit_date < key[0]) & (data.visit_date > start_date)].copy()\n",
    "    result = data_temp.groupby(['air_genre_name', 'dow'], as_index=False)['visitors'].agg({'genre_dow_min{}'.format(n_day): 'min',\n",
    "                                                                                         'genre_dow_mean{}'.format(n_day): 'mean',\n",
    "                                                                                         'genre_dow_median{}'.format(n_day): 'median',\n",
    "                                                                                         'genre_dow_max{}'.format(n_day): 'max',\n",
    "                                                                                         'genre_dow_count{}'.format(n_day): 'count',\n",
    "                                                                                         'genre_dow_std{}'.format(n_day): 'std',\n",
    "                                                                                         'genre_dow_skew{}'.format(n_day): 'skew'})\n",
    "    result = left_merge(label, result, on=['air_genre_name', 'dow']).fillna(0)\n",
    "    return result\n",
    "```\n",
    "ジャンルと曜日は使っていたが\n",
    "\n",
    "```\n",
    "def get_genre_week_exp_feat(label, key, n_day):\n",
    "    start_date = date_add_days(key[0], -n_day)\n",
    "    data_temp = data[(data.visit_date < key[0]) & (data.visit_date > start_date)].copy()\n",
    "    data_temp['visit_date'] = data_temp['visit_date'].apply(lambda x: diff_of_days(key[0],x))\n",
    "    data_temp['weight'] = data_temp['visit_date'].apply(lambda x: 0.985**x)\n",
    "    data_temp['visitors'] = data_temp['visitors'] * data_temp['weight']\n",
    "    result1 = data_temp.groupby(['air_genre_name', 'dow'], as_index=False)['visitors'].agg({'genre_dow_exp_mean{}'.format(n_day): 'sum'})\n",
    "    result2 = data_temp.groupby(['air_genre_name', 'dow'], as_index=False)['weight'].agg({'genre_dow_exp_weight_sum{}'.format(n_day): 'sum'})\n",
    "    result = result1.merge(result2, on=['air_genre_name', 'dow'], how='left')\n",
    "    result['genre_dow_exp_mean{}'.format(n_day)] = result['genre_dow_exp_mean{}'.format(n_day)]/result['genre_dow_exp_weight_sum{}'.format(n_day)]\n",
    "    result = left_merge(label, result, on=['air_genre_name', 'dow']).fillna(0)\n",
    "    return result\n",
    "```\n",
    "さらに平均と合計に重みをかけて特徴量を追加している？"
   ]
  },
  {
   "cell_type": "markdown",
   "metadata": {},
   "source": [
    " ### ⑥start_date\n",
    "```\n",
    "train_feat = pd.DataFrame()\n",
    "start_date = '2017-03-12'\n",
    "for i in range(58):\n",
    "    train_feat_sub = make_feats(date_add_days(start_date, i*(-7)),39)\n",
    "    train_feat = pd.concat([train_feat,train_feat_sub])\n",
    "for i in range(1,6):\n",
    "    train_feat_sub = make_feats(date_add_days(start_date,i*(7)),42-(i*7))\n",
    "    train_feat = pd.concat([train_feat,train_feat_sub])\n",
    "test_feat = make_feats(date_add_days(start_date, 42),39)\n",
    "```\n",
    "3/12の意味は？\n",
    "\n",
    "-n_dayでstart_dateを3/12より前にしている？なんのため？"
   ]
  },
  {
   "cell_type": "code",
   "execution_count": 8,
   "metadata": {},
   "outputs": [
    {
     "data": {
      "image/png": "[encoded data removed]"
     },
     "metadata": {},
     "output_type": "display_data"
    }
   ],
   "source": [
    "from IPython.display import Image, display_png\n",
    "display_png(Image('5a8bfe5495d7e.png'))"
   ]
  },
  {
   "cell_type": "code",
   "execution_count": null,
   "metadata": {
    "collapsed": true
   },
   "outputs": [],
   "source": []
  }
 ],
 "metadata": {
  "kernelspec": {
   "display_name": "Python 3",
   "language": "python",
   "name": "python3"
  },
  "language_info": {
   "codemirror_mode": {
    "name": "ipython",
    "version": 3
   },
   "file_extension": ".py",
   "mimetype": "text/x-python",
   "name": "python",
   "nbconvert_exporter": "python",
   "pygments_lexer": "ipython3",
   "version": "3.6.1"
  }
 },
 "nbformat": 4,
 "nbformat_minor": 2
}
