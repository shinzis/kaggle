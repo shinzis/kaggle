{
 "cells": [
  {
   "cell_type": "code",
   "execution_count": 1,
   "metadata": {},
   "outputs": [
    {
     "name": "stderr",
     "output_type": "stream",
     "text": [
      "/Users/suzukishinji/anaconda/lib/python3.6/site-packages/sklearn/cross_validation.py:41: DeprecationWarning: This module was deprecated in version 0.18 in favor of the model_selection module into which all the refactored classes and functions are moved. Also note that the interface of the new CV iterators are different from that of this module. This module will be removed in 0.20.\n",
      "  \"This module will be removed in 0.20.\", DeprecationWarning)\n",
      "/Users/suzukishinji/anaconda/lib/python3.6/site-packages/sklearn/grid_search.py:42: DeprecationWarning: This module was deprecated in version 0.18 in favor of the model_selection module into which all the refactored classes and functions are moved. This module will be removed in 0.20.\n",
      "  DeprecationWarning)\n",
      "/Users/suzukishinji/anaconda/lib/python3.6/site-packages/sklearn/learning_curve.py:22: DeprecationWarning: This module was deprecated in version 0.18 in favor of the model_selection module into which all the functions are moved. This module will be removed in 0.20\n",
      "  DeprecationWarning)\n",
      "/Users/suzukishinji/anaconda/lib/python3.6/site-packages/h5py/__init__.py:34: FutureWarning: Conversion of the second argument of issubdtype from `float` to `np.floating` is deprecated. In future, it will be treated as `np.float64 == np.dtype(float).type`.\n",
      "  from ._conv import register_converters as _register_converters\n",
      "Using TensorFlow backend.\n",
      "/Users/suzukishinji/anaconda/lib/python3.6/importlib/_bootstrap.py:205: RuntimeWarning: compiletime version 3.5 of module 'tensorflow.python.framework.fast_tensor_util' does not match runtime version 3.6\n",
      "  return f(*args, **kwds)\n"
     ]
    }
   ],
   "source": [
    "from scipy.stats import skew\n",
    "#from IPython.display import display\n",
    "#import matplotlib.pyplot as plt\n",
    "#import seaborn as sns\n",
    "\n",
    "import glob, re\n",
    "import numpy as np\n",
    "import pandas as pd\n",
    "from sklearn import *\n",
    "#from sklearn.model_selection import cross_val_score, train_test_split\n",
    "#from sklearn.preprocessing import StandardScaler\n",
    "#from sklearn.linear_model import LinearRegression, RidgeCV, LassoCV, ElasticNetCV\n",
    "#from sklearn.metrics import mean_squared_error, make_scorer\n",
    "#from sklearn.model_selection import StratifiedKFold, ParameterGrid\n",
    "import datetime as dt\n",
    "from datetime import datetime\n",
    "from xgboost import XGBRegressor\n",
    "import xgboost as xgb\n",
    "\n",
    "from keras.layers import Embedding, Input, Dense\n",
    "import keras\n",
    "import keras.backend as K\n",
    "\n",
    "import matplotlib.pyplot as plt\n",
    "from keras.models import Sequential, Model"
   ]
  },
  {
   "cell_type": "code",
   "execution_count": 208,
   "metadata": {
    "collapsed": true
   },
   "outputs": [],
   "source": [
    "data = {\n",
    "'as' : pd.read_csv('/Users/suzukishinji/kaggle/recluit/air_store_info.csv'),\n",
    "'tra' : pd.read_csv('/Users/suzukishinji/kaggle/recluit/air_visit_data.csv'),\n",
    "'tes' : pd.read_csv('/Users/suzukishinji/kaggle/recluit/sample_submission-3.csv')}"
   ]
  },
  {
   "cell_type": "code",
   "execution_count": 209,
   "metadata": {},
   "outputs": [
    {
     "data": {
      "text/plain": [
       "(252108, 3)"
      ]
     },
     "execution_count": 209,
     "metadata": {},
     "output_type": "execute_result"
    }
   ],
   "source": [
    "data['tra'].shape"
   ]
  },
  {
   "cell_type": "code",
   "execution_count": 210,
   "metadata": {},
   "outputs": [
    {
     "data": {
      "text/plain": [
       "(829, 5)"
      ]
     },
     "execution_count": 210,
     "metadata": {},
     "output_type": "execute_result"
    }
   ],
   "source": [
    "data['as'].shape"
   ]
  },
  {
   "cell_type": "code",
   "execution_count": 211,
   "metadata": {
    "collapsed": true
   },
   "outputs": [],
   "source": [
    "data['tra']['visit_date'] = pd.to_datetime(data['tra']['visit_date'])\n",
    "data['tra']['dow'] = data['tra']['visit_date'].dt.dayofweek\n",
    "data['tra']['year'] = data['tra']['visit_date'].dt.year\n",
    "data['tra']['month'] = data['tra']['visit_date'].dt.month\n",
    "data['tra']['visit_date'] = data['tra']['visit_date'].dt.date"
   ]
  },
  {
   "cell_type": "code",
   "execution_count": 212,
   "metadata": {},
   "outputs": [
    {
     "data": {
      "text/plain": [
       "(252108, 6)"
      ]
     },
     "execution_count": 212,
     "metadata": {},
     "output_type": "execute_result"
    }
   ],
   "source": [
    "data['tra'].shape"
   ]
  },
  {
   "cell_type": "code",
   "execution_count": 213,
   "metadata": {
    "collapsed": true
   },
   "outputs": [],
   "source": [
    "data['tes']['visit_date'] = data['tes']['id'].map(lambda x: str(x).split('_')[2])\n",
    "data['tes']['air_store_id'] = data['tes']['id'].map(lambda x: '_'.join(x.split('_')[:2]))\n",
    "data['tes']['visit_date'] = pd.to_datetime(data['tes']['visit_date'])\n",
    "data['tes']['dow'] = data['tes']['visit_date'].dt.dayofweek\n",
    "data['tes']['year'] = data['tes']['visit_date'].dt.year\n",
    "data['tes']['month'] = data['tes']['visit_date'].dt.month\n",
    "data['tes']['visit_date'] = data['tes']['visit_date'].dt.date"
   ]
  },
  {
   "cell_type": "code",
   "execution_count": 214,
   "metadata": {
    "collapsed": true
   },
   "outputs": [],
   "source": [
    "unique_stores = data['tes']['air_store_id'].unique()"
   ]
  },
  {
   "cell_type": "code",
   "execution_count": 215,
   "metadata": {},
   "outputs": [
    {
     "data": {
      "text/plain": [
       "(252108, 6)"
      ]
     },
     "execution_count": 215,
     "metadata": {},
     "output_type": "execute_result"
    }
   ],
   "source": [
    "data['tra'].shape"
   ]
  },
  {
   "cell_type": "code",
   "execution_count": 216,
   "metadata": {},
   "outputs": [],
   "source": [
    "train = pd.merge(data['tra'], data['as'], how ='left', on = ('air_store_id'))\n",
    "test = pd.merge(data['tes'], data['as'], how ='left', on = ('air_store_id'))"
   ]
  },
  {
   "cell_type": "code",
   "execution_count": 217,
   "metadata": {},
   "outputs": [
    {
     "data": {
      "text/plain": [
       "(32019, 11)"
      ]
     },
     "execution_count": 217,
     "metadata": {},
     "output_type": "execute_result"
    }
   ],
   "source": [
    "test.shape"
   ]
  },
  {
   "cell_type": "code",
   "execution_count": 218,
   "metadata": {},
   "outputs": [],
   "source": [
    "test_temp = test['air_area_name'].str.split(' ', expand=True)\n",
    "test_temp.columns = ['area-1', 'area-2', 'area-3','area-4','area-5']\n",
    "test = pd.concat([test,test_temp ], axis = 1)\n",
    "test = test.drop(\"air_area_name\", axis = 1)"
   ]
  },
  {
   "cell_type": "code",
   "execution_count": 219,
   "metadata": {},
   "outputs": [],
   "source": [
    "train_temp = train['air_area_name'].str.split(' ', expand=True)\n",
    "train_temp.columns = ['area-1', 'area-2', 'area-3','area-4','area-5']\n",
    "train = pd.concat([train,train_temp ], axis = 1)\n",
    "train = train.drop(\"air_area_name\", axis = 1)"
   ]
  },
  {
   "cell_type": "code",
   "execution_count": 220,
   "metadata": {},
   "outputs": [
    {
     "data": {
      "text/plain": [
       "Tōkyō-to         133063\n",
       "Fukuoka-ken       39645\n",
       "Ōsaka-fu          22821\n",
       "Hyōgo-ken         17846\n",
       "Hokkaidō          13055\n",
       "Hiroshima-ken      9858\n",
       "Miyagi-ken         5959\n",
       "Shizuoka-ken       5798\n",
       "Niigata-ken        4063\n",
       "Name: area-1, dtype: int64"
      ]
     },
     "execution_count": 220,
     "metadata": {},
     "output_type": "execute_result"
    }
   ],
   "source": [
    "train['area-1'].value_counts()"
   ]
  },
  {
   "cell_type": "code",
   "execution_count": 221,
   "metadata": {},
   "outputs": [],
   "source": [
    "tokyo = train[train['area-1'] =='Tōkyō-to' ]\n",
    "fukuoka = train[train['area-1'] =='Fukuoka-ken' ]\n",
    "osaka = train[train['area-1'] =='Ōsaka-fu' ]\n",
    "hyougo = train[train['area-1'] =='Hyōgo-ken' ]\n",
    "hokkaido = train[train['area-1'] =='Hokkaidō' ]\n",
    "hiroshima = train[train['area-1'] =='Hiroshima-ken' ]\n",
    "miyagi = train[train['area-1'] =='Miyagi-ken' ]\n",
    "shizuoka = train[train['area-1'] =='Shizuoka-ken' ]\n",
    "niigata = train[train['area-1'] =='Niigata-ken' ]\n",
    "\n",
    "tokyo_t = test[test['area-1'] =='Tōkyō-to' ]\n",
    "fukuoka_t = test[test['area-1'] =='Fukuoka-ken' ]\n",
    "osaka_t = test[test['area-1'] =='Ōsaka-fu' ]\n",
    "hyougo_t = test[test['area-1'] =='Hyōgo-ken' ]\n",
    "hokkaido_t = test[test['area-1'] =='Hokkaidō' ]\n",
    "hiroshima_t = test[test['area-1'] =='Hiroshima-ken' ]\n",
    "miyagi_t = test[test['area-1'] =='Miyagi-ken' ]\n",
    "shizuoka_t = test[test['area-1'] =='Shizuoka-ken' ]\n",
    "niigata_t = test[test['area-1'] =='Niigata-ken' ]"
   ]
  },
  {
   "cell_type": "code",
   "execution_count": 222,
   "metadata": {},
   "outputs": [
    {
     "data": {
      "text/html": [
       "<div>\n",
       "<style>\n",
       "    .dataframe thead tr:only-child th {\n",
       "        text-align: right;\n",
       "    }\n",
       "\n",
       "    .dataframe thead th {\n",
       "        text-align: left;\n",
       "    }\n",
       "\n",
       "    .dataframe tbody tr th {\n",
       "        vertical-align: top;\n",
       "    }\n",
       "</style>\n",
       "<table border=\"1\" class=\"dataframe\">\n",
       "  <thead>\n",
       "    <tr style=\"text-align: right;\">\n",
       "      <th></th>\n",
       "      <th>id</th>\n",
       "      <th>visitors</th>\n",
       "      <th>visit_date</th>\n",
       "      <th>air_store_id</th>\n",
       "      <th>dow</th>\n",
       "      <th>year</th>\n",
       "      <th>month</th>\n",
       "      <th>air_genre_name</th>\n",
       "      <th>latitude</th>\n",
       "      <th>longitude</th>\n",
       "      <th>area-1</th>\n",
       "      <th>area-2</th>\n",
       "      <th>area-3</th>\n",
       "      <th>area-4</th>\n",
       "      <th>area-5</th>\n",
       "    </tr>\n",
       "  </thead>\n",
       "  <tbody>\n",
       "    <tr>\n",
       "      <th>1443</th>\n",
       "      <td>air_0b1e72d2d4422b20_2017-04-23</td>\n",
       "      <td>0</td>\n",
       "      <td>2017-04-23</td>\n",
       "      <td>air_0b1e72d2d4422b20</td>\n",
       "      <td>6</td>\n",
       "      <td>2017</td>\n",
       "      <td>4</td>\n",
       "      <td>Izakaya</td>\n",
       "      <td>37.916367</td>\n",
       "      <td>139.036327</td>\n",
       "      <td>Niigata-ken</td>\n",
       "      <td>Niigata-shi</td>\n",
       "      <td>Gakkōchōdōri</td>\n",
       "      <td>1</td>\n",
       "      <td>Banchō</td>\n",
       "    </tr>\n",
       "    <tr>\n",
       "      <th>1444</th>\n",
       "      <td>air_0b1e72d2d4422b20_2017-04-24</td>\n",
       "      <td>0</td>\n",
       "      <td>2017-04-24</td>\n",
       "      <td>air_0b1e72d2d4422b20</td>\n",
       "      <td>0</td>\n",
       "      <td>2017</td>\n",
       "      <td>4</td>\n",
       "      <td>Izakaya</td>\n",
       "      <td>37.916367</td>\n",
       "      <td>139.036327</td>\n",
       "      <td>Niigata-ken</td>\n",
       "      <td>Niigata-shi</td>\n",
       "      <td>Gakkōchōdōri</td>\n",
       "      <td>1</td>\n",
       "      <td>Banchō</td>\n",
       "    </tr>\n",
       "    <tr>\n",
       "      <th>1445</th>\n",
       "      <td>air_0b1e72d2d4422b20_2017-04-25</td>\n",
       "      <td>0</td>\n",
       "      <td>2017-04-25</td>\n",
       "      <td>air_0b1e72d2d4422b20</td>\n",
       "      <td>1</td>\n",
       "      <td>2017</td>\n",
       "      <td>4</td>\n",
       "      <td>Izakaya</td>\n",
       "      <td>37.916367</td>\n",
       "      <td>139.036327</td>\n",
       "      <td>Niigata-ken</td>\n",
       "      <td>Niigata-shi</td>\n",
       "      <td>Gakkōchōdōri</td>\n",
       "      <td>1</td>\n",
       "      <td>Banchō</td>\n",
       "    </tr>\n",
       "    <tr>\n",
       "      <th>1446</th>\n",
       "      <td>air_0b1e72d2d4422b20_2017-04-26</td>\n",
       "      <td>0</td>\n",
       "      <td>2017-04-26</td>\n",
       "      <td>air_0b1e72d2d4422b20</td>\n",
       "      <td>2</td>\n",
       "      <td>2017</td>\n",
       "      <td>4</td>\n",
       "      <td>Izakaya</td>\n",
       "      <td>37.916367</td>\n",
       "      <td>139.036327</td>\n",
       "      <td>Niigata-ken</td>\n",
       "      <td>Niigata-shi</td>\n",
       "      <td>Gakkōchōdōri</td>\n",
       "      <td>1</td>\n",
       "      <td>Banchō</td>\n",
       "    </tr>\n",
       "    <tr>\n",
       "      <th>1447</th>\n",
       "      <td>air_0b1e72d2d4422b20_2017-04-27</td>\n",
       "      <td>0</td>\n",
       "      <td>2017-04-27</td>\n",
       "      <td>air_0b1e72d2d4422b20</td>\n",
       "      <td>3</td>\n",
       "      <td>2017</td>\n",
       "      <td>4</td>\n",
       "      <td>Izakaya</td>\n",
       "      <td>37.916367</td>\n",
       "      <td>139.036327</td>\n",
       "      <td>Niigata-ken</td>\n",
       "      <td>Niigata-shi</td>\n",
       "      <td>Gakkōchōdōri</td>\n",
       "      <td>1</td>\n",
       "      <td>Banchō</td>\n",
       "    </tr>\n",
       "  </tbody>\n",
       "</table>\n",
       "</div>"
      ],
      "text/plain": [
       "                                   id  visitors  visit_date  \\\n",
       "1443  air_0b1e72d2d4422b20_2017-04-23         0  2017-04-23   \n",
       "1444  air_0b1e72d2d4422b20_2017-04-24         0  2017-04-24   \n",
       "1445  air_0b1e72d2d4422b20_2017-04-25         0  2017-04-25   \n",
       "1446  air_0b1e72d2d4422b20_2017-04-26         0  2017-04-26   \n",
       "1447  air_0b1e72d2d4422b20_2017-04-27         0  2017-04-27   \n",
       "\n",
       "              air_store_id  dow  year  month air_genre_name   latitude  \\\n",
       "1443  air_0b1e72d2d4422b20    6  2017      4        Izakaya  37.916367   \n",
       "1444  air_0b1e72d2d4422b20    0  2017      4        Izakaya  37.916367   \n",
       "1445  air_0b1e72d2d4422b20    1  2017      4        Izakaya  37.916367   \n",
       "1446  air_0b1e72d2d4422b20    2  2017      4        Izakaya  37.916367   \n",
       "1447  air_0b1e72d2d4422b20    3  2017      4        Izakaya  37.916367   \n",
       "\n",
       "       longitude       area-1       area-2        area-3 area-4  area-5  \n",
       "1443  139.036327  Niigata-ken  Niigata-shi  Gakkōchōdōri      1  Banchō  \n",
       "1444  139.036327  Niigata-ken  Niigata-shi  Gakkōchōdōri      1  Banchō  \n",
       "1445  139.036327  Niigata-ken  Niigata-shi  Gakkōchōdōri      1  Banchō  \n",
       "1446  139.036327  Niigata-ken  Niigata-shi  Gakkōchōdōri      1  Banchō  \n",
       "1447  139.036327  Niigata-ken  Niigata-shi  Gakkōchōdōri      1  Banchō  "
      ]
     },
     "execution_count": 222,
     "metadata": {},
     "output_type": "execute_result"
    }
   ],
   "source": [
    "niigata_t.head()"
   ]
  },
  {
   "cell_type": "code",
   "execution_count": 223,
   "metadata": {},
   "outputs": [
    {
     "name": "stdout",
     "output_type": "stream",
     "text": [
      "(133063, 3)\n",
      "(39645, 3)\n",
      "(22821, 3)\n",
      "(17846, 3)\n",
      "(13055, 3)\n",
      "(9858, 3)\n",
      "(5959, 3)\n",
      "(5798, 3)\n",
      "(4063, 3)\n"
     ]
    }
   ],
   "source": [
    "tra_tokyo = tokyo[['air_store_id','visit_date','visitors']]\n",
    "tra_fukuoka = fukuoka[['air_store_id','visit_date','visitors']]\n",
    "tra_osaka = osaka[['air_store_id','visit_date','visitors']]\n",
    "tra_hyougo = hyougo[['air_store_id','visit_date','visitors']]\n",
    "tra_hokkaido = hokkaido[['air_store_id','visit_date','visitors']]\n",
    "tra_hiroshima = hiroshima[['air_store_id','visit_date','visitors']]\n",
    "tra_miyagi = miyagi[['air_store_id','visit_date','visitors']]\n",
    "tra_shizuoka = shizuoka[['air_store_id','visit_date','visitors']]\n",
    "tra_niigata = niigata[['air_store_id','visit_date','visitors']]\n",
    "\n",
    "tes_tokyo = tokyo_t[['id','visitors']]\n",
    "tes_fukuoka = fukuoka_t[['id','visitors']]\n",
    "tes_osaka = osaka_t[['id','visitors']]\n",
    "tes_hyougo = hyougo_t[['id','visitors']]\n",
    "tes_hokkaido = hokkaido_t[['id','visitors']]\n",
    "tes_hiroshima = hiroshima_t[['id','visitors']]\n",
    "tes_miyagi = miyagi_t[['id','visitors']]\n",
    "tes_shizuoka = shizuoka_t[['id','visitors']]\n",
    "tes_niigata = niigata_t[['id','visitors']]\n",
    "print(tra_tokyo.shape)\n",
    "print(tra_fukuoka.shape)\n",
    "print(tra_osaka.shape)\n",
    "print(tra_hyougo.shape)\n",
    "print(tra_hokkaido.shape)\n",
    "print(tra_hiroshima.shape)\n",
    "print(tra_miyagi.shape)\n",
    "print(tra_shizuoka.shape)\n",
    "print(tra_niigata.shape)"
   ]
  },
  {
   "cell_type": "code",
   "execution_count": 224,
   "metadata": {},
   "outputs": [
    {
     "data": {
      "text/html": [
       "<div>\n",
       "<style>\n",
       "    .dataframe thead tr:only-child th {\n",
       "        text-align: right;\n",
       "    }\n",
       "\n",
       "    .dataframe thead th {\n",
       "        text-align: left;\n",
       "    }\n",
       "\n",
       "    .dataframe tbody tr th {\n",
       "        vertical-align: top;\n",
       "    }\n",
       "</style>\n",
       "<table border=\"1\" class=\"dataframe\">\n",
       "  <thead>\n",
       "    <tr style=\"text-align: right;\">\n",
       "      <th></th>\n",
       "      <th>id</th>\n",
       "      <th>visitors</th>\n",
       "    </tr>\n",
       "  </thead>\n",
       "  <tbody>\n",
       "    <tr>\n",
       "      <th>3315</th>\n",
       "      <td>air_20add8092c9bb51d_2017-04-23</td>\n",
       "      <td>0</td>\n",
       "    </tr>\n",
       "    <tr>\n",
       "      <th>3316</th>\n",
       "      <td>air_20add8092c9bb51d_2017-04-24</td>\n",
       "      <td>0</td>\n",
       "    </tr>\n",
       "    <tr>\n",
       "      <th>3317</th>\n",
       "      <td>air_20add8092c9bb51d_2017-04-25</td>\n",
       "      <td>0</td>\n",
       "    </tr>\n",
       "    <tr>\n",
       "      <th>3318</th>\n",
       "      <td>air_20add8092c9bb51d_2017-04-26</td>\n",
       "      <td>0</td>\n",
       "    </tr>\n",
       "    <tr>\n",
       "      <th>3319</th>\n",
       "      <td>air_20add8092c9bb51d_2017-04-27</td>\n",
       "      <td>0</td>\n",
       "    </tr>\n",
       "  </tbody>\n",
       "</table>\n",
       "</div>"
      ],
      "text/plain": [
       "                                   id  visitors\n",
       "3315  air_20add8092c9bb51d_2017-04-23         0\n",
       "3316  air_20add8092c9bb51d_2017-04-24         0\n",
       "3317  air_20add8092c9bb51d_2017-04-25         0\n",
       "3318  air_20add8092c9bb51d_2017-04-26         0\n",
       "3319  air_20add8092c9bb51d_2017-04-27         0"
      ]
     },
     "execution_count": 224,
     "metadata": {},
     "output_type": "execute_result"
    }
   ],
   "source": [
    "tes_shizuoka.head()"
   ]
  },
  {
   "cell_type": "code",
   "execution_count": 225,
   "metadata": {},
   "outputs": [],
   "source": [
    "tra_tokyo[['air_store_id', 'visit_date','visitors']].to_csv('tra_tokyo.csv', index = False)\n",
    "tra_fukuoka[['air_store_id', 'visit_date','visitors']].to_csv('tra_fukuoka.csv', index = False)\n",
    "tra_osaka[['air_store_id', 'visit_date','visitors']].to_csv('tra_osaka.csv', index = False)\n",
    "tra_hyougo[['air_store_id', 'visit_date','visitors']].to_csv('tra_hyougo.csv', index = False)\n",
    "tra_hokkaido[['air_store_id', 'visit_date','visitors']].to_csv('tra_hokkaido.csv', index = False)\n",
    "tra_hiroshima[['air_store_id', 'visit_date','visitors']].to_csv('tra_hiroshima.csv', index = False)\n",
    "tra_miyagi[['air_store_id', 'visit_date','visitors']].to_csv('tra_miyagi.csv', index = False)\n",
    "tra_shizuoka[['air_store_id', 'visit_date','visitors']].to_csv('tra_shizuoka.csv', index = False)\n",
    "\n",
    "tes_tokyo[['id','visitors']].to_csv('tes_tokyo.csv', index = False)\n",
    "tes_fukuoka[['id','visitors']].to_csv('tes_fukuoka.csv', index = False)\n",
    "tes_osaka[['id','visitors']].to_csv('tes_osaka.csv', index = False)\n",
    "tes_hyougo[['id','visitors']].to_csv('tes_hyougo.csv', index = False)\n",
    "tes_hokkaido[['id','visitors']].to_csv('tes_hokkaido.csv', index = False)\n",
    "tes_hiroshima[['id','visitors']].to_csv('tes_hiroshima.csv', index = False)\n",
    "tes_miyagi[['id','visitors']].to_csv('tes_miyagi.csv', index = False)\n",
    "tes_shizuoka[['id','visitors']].to_csv('tes_shizuoka.csv', index = False)"
   ]
  },
  {
   "cell_type": "code",
   "execution_count": 226,
   "metadata": {},
   "outputs": [
    {
     "data": {
      "text/html": [
       "<div>\n",
       "<style>\n",
       "    .dataframe thead tr:only-child th {\n",
       "        text-align: right;\n",
       "    }\n",
       "\n",
       "    .dataframe thead th {\n",
       "        text-align: left;\n",
       "    }\n",
       "\n",
       "    .dataframe tbody tr th {\n",
       "        vertical-align: top;\n",
       "    }\n",
       "</style>\n",
       "<table border=\"1\" class=\"dataframe\">\n",
       "  <thead>\n",
       "    <tr style=\"text-align: right;\">\n",
       "      <th></th>\n",
       "      <th>id</th>\n",
       "      <th>visitors</th>\n",
       "    </tr>\n",
       "  </thead>\n",
       "  <tbody>\n",
       "    <tr>\n",
       "      <th>0</th>\n",
       "      <td>air_00a91d42b08b08d9_2017-04-23</td>\n",
       "      <td>0</td>\n",
       "    </tr>\n",
       "    <tr>\n",
       "      <th>1</th>\n",
       "      <td>air_00a91d42b08b08d9_2017-04-24</td>\n",
       "      <td>0</td>\n",
       "    </tr>\n",
       "    <tr>\n",
       "      <th>2</th>\n",
       "      <td>air_00a91d42b08b08d9_2017-04-25</td>\n",
       "      <td>0</td>\n",
       "    </tr>\n",
       "    <tr>\n",
       "      <th>3</th>\n",
       "      <td>air_00a91d42b08b08d9_2017-04-26</td>\n",
       "      <td>0</td>\n",
       "    </tr>\n",
       "    <tr>\n",
       "      <th>4</th>\n",
       "      <td>air_00a91d42b08b08d9_2017-04-27</td>\n",
       "      <td>0</td>\n",
       "    </tr>\n",
       "  </tbody>\n",
       "</table>\n",
       "</div>"
      ],
      "text/plain": [
       "                                id  visitors\n",
       "0  air_00a91d42b08b08d9_2017-04-23         0\n",
       "1  air_00a91d42b08b08d9_2017-04-24         0\n",
       "2  air_00a91d42b08b08d9_2017-04-25         0\n",
       "3  air_00a91d42b08b08d9_2017-04-26         0\n",
       "4  air_00a91d42b08b08d9_2017-04-27         0"
      ]
     },
     "execution_count": 226,
     "metadata": {},
     "output_type": "execute_result"
    }
   ],
   "source": [
    "area = pd.read_csv('/Users/suzukishinji/kaggle/recluit/tes_tokyo.csv')\n",
    "area.head()"
   ]
  },
  {
   "cell_type": "code",
   "execution_count": 141,
   "metadata": {},
   "outputs": [
    {
     "data": {
      "text/plain": [
       "(39645, 3)"
      ]
     },
     "execution_count": 141,
     "metadata": {},
     "output_type": "execute_result"
    }
   ],
   "source": [
    "area.shape"
   ]
  },
  {
   "cell_type": "code",
   "execution_count": null,
   "metadata": {
    "collapsed": true
   },
   "outputs": [],
   "source": []
  }
 ],
 "metadata": {
  "kernelspec": {
   "display_name": "Python 3",
   "language": "python",
   "name": "python3"
  },
  "language_info": {
   "codemirror_mode": {
    "name": "ipython",
    "version": 3
   },
   "file_extension": ".py",
   "mimetype": "text/x-python",
   "name": "python",
   "nbconvert_exporter": "python",
   "pygments_lexer": "ipython3",
   "version": "3.6.1"
  }
 },
 "nbformat": 4,
 "nbformat_minor": 2
}
