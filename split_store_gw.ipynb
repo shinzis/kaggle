{
 "cells": [
  {
   "cell_type": "code",
   "execution_count": 84,
   "metadata": {
    "collapsed": true
   },
   "outputs": [],
   "source": [
    "import numpy as np\n",
    "import pandas as pd\n",
    "import datetime as dt\n",
    "from datetime import datetime"
   ]
  },
  {
   "cell_type": "code",
   "execution_count": 129,
   "metadata": {
    "collapsed": true
   },
   "outputs": [],
   "source": [
    "tra = pd.read_csv('/Users/suzukishinji/kaggle/recluit/air_visit_data.csv')\n",
    "tes = pd.read_csv('/Users/suzukishinji/kaggle/recluit/sample_submission-3.csv')"
   ]
  },
  {
   "cell_type": "code",
   "execution_count": 130,
   "metadata": {},
   "outputs": [
    {
     "name": "stdout",
     "output_type": "stream",
     "text": [
      "(252108, 3)\n",
      "(32019, 2)\n"
     ]
    }
   ],
   "source": [
    "print(tra.shape)\n",
    "print(tes.shape)"
   ]
  },
  {
   "cell_type": "code",
   "execution_count": 114,
   "metadata": {
    "collapsed": true
   },
   "outputs": [],
   "source": [
    "tra['visit_date'] = pd.to_datetime(tra['visit_date'])\n",
    "tra['visit_date'] = pd.to_datetime(tra['visit_date'])\n",
    "tra['dow'] = tra['visit_date'].dt.dayofweek\n",
    "tra['year'] = tra['visit_date'].dt.year\n",
    "tra['month'] = tra['visit_date'].dt.month\n",
    "tra['visit_date'] = tra['visit_date'].dt.date\n",
    "\n",
    "tes['visit_date'] = tes['id'].map(lambda x: str(x).split('_')[2])\n",
    "tes['air_store_id'] = tes['id'].map(lambda x: '_'.join(x.split('_')[:2]))\n",
    "tes['visit_date'] = pd.to_datetime(tes['visit_date'])\n",
    "tes['dow'] = tes['visit_date'].dt.dayofweek\n",
    "tes['year'] = tes['visit_date'].dt.year\n",
    "tes['month'] = tes['visit_date'].dt.month\n",
    "tes['visit_date'] = tes['visit_date'].dt.date"
   ]
  },
  {
   "cell_type": "code",
   "execution_count": 115,
   "metadata": {
    "collapsed": true
   },
   "outputs": [],
   "source": [
    "combine = [tra, tes]\n",
    "gw_list = ['2016-04-23','2016-04-24','2016-04-25','2016-04-26','2016-04-27','2016-04-28','2016-04-29','2016-04-30','2016-04-23','2016-05-01','2016-05-02','2016-05-03','2016-05-04','2016-05-05','2016-05-06','2016-05-07','2016-05-08','2016-05-09','2016-05-10','2016-05-11','2016-05-12','2016-05-13','2016-05-14','2016-05-15','2017-04-22','2017-04-23','2017-04-24','2017-04-25','2017-04-26','2017-04-27','2017-04-28','2017-04-29','2017-04-30','2017-05-01','2017-05-02','2017-05-03','2017-05-04','2017-05-05','2017-05-06','2017-05-07','2017-05-08','2017-05-09','2017-05-10','2017-05-11','2017-05-12','2017-05-13','2017-05-14']\n",
    "tra['gw_flg'] = 0\n",
    "tes['gw_flg'] = 0\n",
    "update_gw_list = [[\"0\" for i in range(3)] for j in range(len(gw_list))]"
   ]
  },
  {
   "cell_type": "code",
   "execution_count": 116,
   "metadata": {
    "collapsed": true
   },
   "outputs": [],
   "source": [
    "from datetime import date\n",
    "for index, gw_date in enumerate(gw_list):\n",
    "    temp_list = gw_date.split(\"-\")\n",
    "    for col_i, temp_figure in enumerate(temp_list):\n",
    "        update_gw_list[index][col_i]=int(temp_figure)\n",
    "        \n",
    "    #print(\"{}  {}  {}\".format(update_list[index][0],update_list[index][1],update_list[index][2]))\n",
    "\n",
    "for dataset in combine:\n",
    "    for index in range(len(update_gw_list)):\n",
    "        dataset.loc[dataset.visit_date == date(update_gw_list[index][0],update_gw_list[index][1],update_gw_list[index][2]), 'gw_flg'] = 1\n",
    "        "
   ]
  },
  {
   "cell_type": "code",
   "execution_count": 117,
   "metadata": {},
   "outputs": [
    {
     "name": "stdout",
     "output_type": "stream",
     "text": [
      "           air_store_id  visit_date  visitors  dow  year  month  gw_flg\n",
      "0  air_ba937bf13d40fb24  2016-01-13        25    2  2016      1       0\n",
      "1  air_ba937bf13d40fb24  2016-01-14        32    3  2016      1       0\n",
      "2  air_ba937bf13d40fb24  2016-01-15        29    4  2016      1       0\n",
      "3  air_ba937bf13d40fb24  2016-01-16        22    5  2016      1       0\n",
      "4  air_ba937bf13d40fb24  2016-01-18         6    0  2016      1       0\n"
     ]
    },
    {
     "data": {
      "text/html": [
       "<div>\n",
       "<style>\n",
       "    .dataframe thead tr:only-child th {\n",
       "        text-align: right;\n",
       "    }\n",
       "\n",
       "    .dataframe thead th {\n",
       "        text-align: left;\n",
       "    }\n",
       "\n",
       "    .dataframe tbody tr th {\n",
       "        vertical-align: top;\n",
       "    }\n",
       "</style>\n",
       "<table border=\"1\" class=\"dataframe\">\n",
       "  <thead>\n",
       "    <tr style=\"text-align: right;\">\n",
       "      <th></th>\n",
       "      <th>id</th>\n",
       "      <th>visitors</th>\n",
       "      <th>visit_date</th>\n",
       "      <th>air_store_id</th>\n",
       "      <th>dow</th>\n",
       "      <th>year</th>\n",
       "      <th>month</th>\n",
       "      <th>gw_flg</th>\n",
       "    </tr>\n",
       "  </thead>\n",
       "  <tbody>\n",
       "    <tr>\n",
       "      <th>0</th>\n",
       "      <td>air_00a91d42b08b08d9_2017-04-23</td>\n",
       "      <td>0</td>\n",
       "      <td>2017-04-23</td>\n",
       "      <td>air_00a91d42b08b08d9</td>\n",
       "      <td>6</td>\n",
       "      <td>2017</td>\n",
       "      <td>4</td>\n",
       "      <td>1</td>\n",
       "    </tr>\n",
       "    <tr>\n",
       "      <th>1</th>\n",
       "      <td>air_00a91d42b08b08d9_2017-04-24</td>\n",
       "      <td>0</td>\n",
       "      <td>2017-04-24</td>\n",
       "      <td>air_00a91d42b08b08d9</td>\n",
       "      <td>0</td>\n",
       "      <td>2017</td>\n",
       "      <td>4</td>\n",
       "      <td>1</td>\n",
       "    </tr>\n",
       "    <tr>\n",
       "      <th>2</th>\n",
       "      <td>air_00a91d42b08b08d9_2017-04-25</td>\n",
       "      <td>0</td>\n",
       "      <td>2017-04-25</td>\n",
       "      <td>air_00a91d42b08b08d9</td>\n",
       "      <td>1</td>\n",
       "      <td>2017</td>\n",
       "      <td>4</td>\n",
       "      <td>1</td>\n",
       "    </tr>\n",
       "    <tr>\n",
       "      <th>3</th>\n",
       "      <td>air_00a91d42b08b08d9_2017-04-26</td>\n",
       "      <td>0</td>\n",
       "      <td>2017-04-26</td>\n",
       "      <td>air_00a91d42b08b08d9</td>\n",
       "      <td>2</td>\n",
       "      <td>2017</td>\n",
       "      <td>4</td>\n",
       "      <td>1</td>\n",
       "    </tr>\n",
       "    <tr>\n",
       "      <th>4</th>\n",
       "      <td>air_00a91d42b08b08d9_2017-04-27</td>\n",
       "      <td>0</td>\n",
       "      <td>2017-04-27</td>\n",
       "      <td>air_00a91d42b08b08d9</td>\n",
       "      <td>3</td>\n",
       "      <td>2017</td>\n",
       "      <td>4</td>\n",
       "      <td>1</td>\n",
       "    </tr>\n",
       "  </tbody>\n",
       "</table>\n",
       "</div>"
      ],
      "text/plain": [
       "                                id  visitors  visit_date  \\\n",
       "0  air_00a91d42b08b08d9_2017-04-23         0  2017-04-23   \n",
       "1  air_00a91d42b08b08d9_2017-04-24         0  2017-04-24   \n",
       "2  air_00a91d42b08b08d9_2017-04-25         0  2017-04-25   \n",
       "3  air_00a91d42b08b08d9_2017-04-26         0  2017-04-26   \n",
       "4  air_00a91d42b08b08d9_2017-04-27         0  2017-04-27   \n",
       "\n",
       "           air_store_id  dow  year  month  gw_flg  \n",
       "0  air_00a91d42b08b08d9    6  2017      4       1  \n",
       "1  air_00a91d42b08b08d9    0  2017      4       1  \n",
       "2  air_00a91d42b08b08d9    1  2017      4       1  \n",
       "3  air_00a91d42b08b08d9    2  2017      4       1  \n",
       "4  air_00a91d42b08b08d9    3  2017      4       1  "
      ]
     },
     "execution_count": 117,
     "metadata": {},
     "output_type": "execute_result"
    }
   ],
   "source": [
    "print(tra.head())\n",
    "tes.head()"
   ]
  },
  {
   "cell_type": "code",
   "execution_count": 118,
   "metadata": {
    "collapsed": true
   },
   "outputs": [],
   "source": [
    "tra_gw = tra[tra['gw_flg'] == 1]\n",
    "tra = tra[tra['gw_flg'] == 0]\n",
    "\n",
    "tes_gw = tes[tes['gw_flg'] == 1]\n",
    "tes = tes[tes['gw_flg'] == 0]\n"
   ]
  },
  {
   "cell_type": "code",
   "execution_count": 119,
   "metadata": {},
   "outputs": [
    {
     "data": {
      "text/html": [
       "<div>\n",
       "<style>\n",
       "    .dataframe thead tr:only-child th {\n",
       "        text-align: right;\n",
       "    }\n",
       "\n",
       "    .dataframe thead th {\n",
       "        text-align: left;\n",
       "    }\n",
       "\n",
       "    .dataframe tbody tr th {\n",
       "        vertical-align: top;\n",
       "    }\n",
       "</style>\n",
       "<table border=\"1\" class=\"dataframe\">\n",
       "  <thead>\n",
       "    <tr style=\"text-align: right;\">\n",
       "      <th></th>\n",
       "      <th>visitors</th>\n",
       "      <th>dow</th>\n",
       "      <th>year</th>\n",
       "      <th>month</th>\n",
       "      <th>gw_flg</th>\n",
       "    </tr>\n",
       "  </thead>\n",
       "  <tbody>\n",
       "    <tr>\n",
       "      <th>count</th>\n",
       "      <td>18062.000</td>\n",
       "      <td>18062.000</td>\n",
       "      <td>18062.000</td>\n",
       "      <td>18062.000</td>\n",
       "      <td>18062.000</td>\n",
       "    </tr>\n",
       "    <tr>\n",
       "      <th>mean</th>\n",
       "      <td>0.000</td>\n",
       "      <td>3.136</td>\n",
       "      <td>2017.000</td>\n",
       "      <td>4.636</td>\n",
       "      <td>1.000</td>\n",
       "    </tr>\n",
       "    <tr>\n",
       "      <th>std</th>\n",
       "      <td>0.000</td>\n",
       "      <td>2.052</td>\n",
       "      <td>0.000</td>\n",
       "      <td>0.481</td>\n",
       "      <td>0.000</td>\n",
       "    </tr>\n",
       "    <tr>\n",
       "      <th>min</th>\n",
       "      <td>0.000</td>\n",
       "      <td>0.000</td>\n",
       "      <td>2017.000</td>\n",
       "      <td>4.000</td>\n",
       "      <td>1.000</td>\n",
       "    </tr>\n",
       "    <tr>\n",
       "      <th>25%</th>\n",
       "      <td>0.000</td>\n",
       "      <td>1.000</td>\n",
       "      <td>2017.000</td>\n",
       "      <td>4.000</td>\n",
       "      <td>1.000</td>\n",
       "    </tr>\n",
       "    <tr>\n",
       "      <th>50%</th>\n",
       "      <td>0.000</td>\n",
       "      <td>3.000</td>\n",
       "      <td>2017.000</td>\n",
       "      <td>5.000</td>\n",
       "      <td>1.000</td>\n",
       "    </tr>\n",
       "    <tr>\n",
       "      <th>75%</th>\n",
       "      <td>0.000</td>\n",
       "      <td>5.000</td>\n",
       "      <td>2017.000</td>\n",
       "      <td>5.000</td>\n",
       "      <td>1.000</td>\n",
       "    </tr>\n",
       "    <tr>\n",
       "      <th>max</th>\n",
       "      <td>0.000</td>\n",
       "      <td>6.000</td>\n",
       "      <td>2017.000</td>\n",
       "      <td>5.000</td>\n",
       "      <td>1.000</td>\n",
       "    </tr>\n",
       "  </tbody>\n",
       "</table>\n",
       "</div>"
      ],
      "text/plain": [
       "       visitors       dow      year     month    gw_flg\n",
       "count 18062.000 18062.000 18062.000 18062.000 18062.000\n",
       "mean      0.000     3.136  2017.000     4.636     1.000\n",
       "std       0.000     2.052     0.000     0.481     0.000\n",
       "min       0.000     0.000  2017.000     4.000     1.000\n",
       "25%       0.000     1.000  2017.000     4.000     1.000\n",
       "50%       0.000     3.000  2017.000     5.000     1.000\n",
       "75%       0.000     5.000  2017.000     5.000     1.000\n",
       "max       0.000     6.000  2017.000     5.000     1.000"
      ]
     },
     "execution_count": 119,
     "metadata": {},
     "output_type": "execute_result"
    }
   ],
   "source": [
    "tes_gw.describe()"
   ]
  },
  {
   "cell_type": "code",
   "execution_count": 120,
   "metadata": {
    "collapsed": true
   },
   "outputs": [],
   "source": [
    "year_2016 = tra[tra['year'] == 2016]\n",
    "month_1 = year_2016[year_2016['month'] == 1]\n",
    "month_2 = year_2016[year_2016['month'] == 2]\n",
    "month_3 = year_2016[year_2016['month'] == 3]\n",
    "month_4 = year_2016[year_2016['month'] == 4]\n",
    "month_5 = year_2016[year_2016['month'] == 5]\n",
    "month_6 = year_2016[year_2016['month'] == 6]\n",
    "tra_store_316_6 = pd.concat([month_1,month_2,month_3,month_4,month_5,month_6])"
   ]
  },
  {
   "cell_type": "code",
   "execution_count": 121,
   "metadata": {},
   "outputs": [],
   "source": [
    "id = list(tra_store_316_6['air_store_id'].values.flatten())"
   ]
  },
  {
   "cell_type": "code",
   "execution_count": 122,
   "metadata": {},
   "outputs": [],
   "source": [
    "tra_store_316_all = tra[tra['air_store_id'].isin(id)]\n",
    "tra_store_513 = tra[~tra['air_store_id'].isin(id)]\n",
    "#data[data['a'].isin([1,2])]"
   ]
  },
  {
   "cell_type": "code",
   "execution_count": 123,
   "metadata": {},
   "outputs": [],
   "source": [
    "tes_store_316 = tes[tes['air_store_id'].isin(id)]\n",
    "tes_store_513 = tes[~tes['air_store_id'].isin(id)]"
   ]
  },
  {
   "cell_type": "code",
   "execution_count": 124,
   "metadata": {},
   "outputs": [],
   "source": [
    "tra_store_513_316 = pd.concat([tra_store_316_6, tra_store_513])"
   ]
  },
  {
   "cell_type": "code",
   "execution_count": 125,
   "metadata": {},
   "outputs": [
    {
     "data": {
      "text/html": [
       "<div>\n",
       "<style>\n",
       "    .dataframe thead tr:only-child th {\n",
       "        text-align: right;\n",
       "    }\n",
       "\n",
       "    .dataframe thead th {\n",
       "        text-align: left;\n",
       "    }\n",
       "\n",
       "    .dataframe tbody tr th {\n",
       "        vertical-align: top;\n",
       "    }\n",
       "</style>\n",
       "<table border=\"1\" class=\"dataframe\">\n",
       "  <thead>\n",
       "    <tr style=\"text-align: right;\">\n",
       "      <th></th>\n",
       "      <th>air_store_id</th>\n",
       "      <th>visit_date</th>\n",
       "      <th>visitors</th>\n",
       "      <th>dow</th>\n",
       "      <th>year</th>\n",
       "      <th>month</th>\n",
       "      <th>gw_flg</th>\n",
       "    </tr>\n",
       "  </thead>\n",
       "  <tbody>\n",
       "    <tr>\n",
       "      <th>0</th>\n",
       "      <td>air_ba937bf13d40fb24</td>\n",
       "      <td>2016-01-13</td>\n",
       "      <td>25</td>\n",
       "      <td>2</td>\n",
       "      <td>2016</td>\n",
       "      <td>1</td>\n",
       "      <td>0</td>\n",
       "    </tr>\n",
       "    <tr>\n",
       "      <th>1</th>\n",
       "      <td>air_ba937bf13d40fb24</td>\n",
       "      <td>2016-01-14</td>\n",
       "      <td>32</td>\n",
       "      <td>3</td>\n",
       "      <td>2016</td>\n",
       "      <td>1</td>\n",
       "      <td>0</td>\n",
       "    </tr>\n",
       "    <tr>\n",
       "      <th>2</th>\n",
       "      <td>air_ba937bf13d40fb24</td>\n",
       "      <td>2016-01-15</td>\n",
       "      <td>29</td>\n",
       "      <td>4</td>\n",
       "      <td>2016</td>\n",
       "      <td>1</td>\n",
       "      <td>0</td>\n",
       "    </tr>\n",
       "    <tr>\n",
       "      <th>3</th>\n",
       "      <td>air_ba937bf13d40fb24</td>\n",
       "      <td>2016-01-16</td>\n",
       "      <td>22</td>\n",
       "      <td>5</td>\n",
       "      <td>2016</td>\n",
       "      <td>1</td>\n",
       "      <td>0</td>\n",
       "    </tr>\n",
       "    <tr>\n",
       "      <th>4</th>\n",
       "      <td>air_ba937bf13d40fb24</td>\n",
       "      <td>2016-01-18</td>\n",
       "      <td>6</td>\n",
       "      <td>0</td>\n",
       "      <td>2016</td>\n",
       "      <td>1</td>\n",
       "      <td>0</td>\n",
       "    </tr>\n",
       "  </tbody>\n",
       "</table>\n",
       "</div>"
      ],
      "text/plain": [
       "           air_store_id  visit_date  visitors  dow  year  month  gw_flg\n",
       "0  air_ba937bf13d40fb24  2016-01-13        25    2  2016      1       0\n",
       "1  air_ba937bf13d40fb24  2016-01-14        32    3  2016      1       0\n",
       "2  air_ba937bf13d40fb24  2016-01-15        29    4  2016      1       0\n",
       "3  air_ba937bf13d40fb24  2016-01-16        22    5  2016      1       0\n",
       "4  air_ba937bf13d40fb24  2016-01-18         6    0  2016      1       0"
      ]
     },
     "execution_count": 125,
     "metadata": {},
     "output_type": "execute_result"
    }
   ],
   "source": [
    "tra_store_316_6.head()"
   ]
  },
  {
   "cell_type": "code",
   "execution_count": 126,
   "metadata": {},
   "outputs": [],
   "source": [
    "tra_store_316_6[['air_store_id', 'visit_date','visitors']].to_csv('tra_store_316_6.csv', index = False)\n",
    "tra_store_316_all[['air_store_id', 'visit_date','visitors']].to_csv('tra_store_316_all.csv', index = False)\n",
    "tra_store_513_316[['air_store_id', 'visit_date','visitors']].to_csv('tra_store_513.csv', index = False)\n",
    "tra_gw[['air_store_id', 'visit_date','visitors']].to_csv('tra_gw.csv', index = False)\n",
    "\n",
    "tes_store_316[['id','visitors']].to_csv('tes_store_316.csv', index = False)\n",
    "tes_store_513[['id','visitors']].to_csv('tes_store_513.csv', index = False)\n",
    "tes_gw[['id','visitors']].to_csv('tes_gw.csv', index = False)"
   ]
  },
  {
   "cell_type": "code",
   "execution_count": 132,
   "metadata": {
    "collapsed": true
   },
   "outputs": [],
   "source": [
    "tra_316_6 = pd.read_csv('/Users/suzukishinji/kaggle/recluit/tra_store_316_6.csv')\n",
    "tra_316_all = pd.read_csv('/Users/suzukishinji/kaggle/recluit/tra_store_316_all.csv')\n",
    "tra_513 = pd.read_csv('/Users/suzukishinji/kaggle/recluit/tra_store_513.csv')\n",
    "tra_gw = pd.read_csv('/Users/suzukishinji/kaggle/recluit/tra_gw.csv')\n",
    "tes_316 = pd.read_csv('/Users/suzukishinji/kaggle/recluit/tes_store_316.csv')\n",
    "tes_513 = pd.read_csv('/Users/suzukishinji/kaggle/recluit/tes_store_513.csv')\n",
    "tes_gw = pd.read_csv('/Users/suzukishinji/kaggle/recluit/tes_gw.csv')"
   ]
  },
  {
   "cell_type": "code",
   "execution_count": 133,
   "metadata": {},
   "outputs": [
    {
     "name": "stdout",
     "output_type": "stream",
     "text": [
      "(252108, 3)\n",
      "(41680, 3)\n",
      "(120382, 3)\n",
      "(124933, 3)\n",
      "(6793, 3)\n",
      "\n",
      "(166613, 3)\n",
      "\n",
      "(32019, 2)\n",
      "(5321, 2)\n",
      "(8636, 2)\n",
      "(18062, 2)\n"
     ]
    }
   ],
   "source": [
    "print(tra.shape)\n",
    "print(tra_316_6.shape)\n",
    "print(tra_316_all.shape)\n",
    "print(tra_513.shape)\n",
    "print(tra_gw.shape)\n",
    "print()\n",
    "tra_513_316 = pd.concat([tra_316_6, tra_513])\n",
    "print(tra_513_316.shape)\n",
    "print()\n",
    "print(tes.shape)\n",
    "print(tes_316.shape)\n",
    "print(tes_513.shape)\n",
    "print(tes_gw.shape)"
   ]
  },
  {
   "cell_type": "code",
   "execution_count": 138,
   "metadata": {},
   "outputs": [],
   "source": [
    "tra = pd.read_csv('/Users/suzukishinji/kaggle/recluit/air_visit_data.csv')\n",
    "tra['visit_date'] = pd.to_datetime(tra['visit_date'])\n",
    "tra['visit_date'] = pd.to_datetime(tra['visit_date'])\n",
    "tra['dow'] = tra['visit_date'].dt.dayofweek\n",
    "tra['year'] = tra['visit_date'].dt.year\n",
    "tra['month'] = tra['visit_date'].dt.month\n",
    "tra['visit_date'] = tra['visit_date'].dt.date"
   ]
  },
  {
   "cell_type": "code",
   "execution_count": 139,
   "metadata": {},
   "outputs": [
    {
     "data": {
      "text/html": [
       "<div>\n",
       "<style>\n",
       "    .dataframe thead tr:only-child th {\n",
       "        text-align: right;\n",
       "    }\n",
       "\n",
       "    .dataframe thead th {\n",
       "        text-align: left;\n",
       "    }\n",
       "\n",
       "    .dataframe tbody tr th {\n",
       "        vertical-align: top;\n",
       "    }\n",
       "</style>\n",
       "<table border=\"1\" class=\"dataframe\">\n",
       "  <thead>\n",
       "    <tr style=\"text-align: right;\">\n",
       "      <th></th>\n",
       "      <th>air_store_id</th>\n",
       "      <th>visit_date</th>\n",
       "      <th>visitors</th>\n",
       "      <th>dow</th>\n",
       "      <th>year</th>\n",
       "      <th>month</th>\n",
       "    </tr>\n",
       "  </thead>\n",
       "  <tbody>\n",
       "    <tr>\n",
       "      <th>189299</th>\n",
       "      <td>air_fab092c35776a9b1</td>\n",
       "      <td>2016-01-01</td>\n",
       "      <td>19</td>\n",
       "      <td>4</td>\n",
       "      <td>2016</td>\n",
       "      <td>1</td>\n",
       "    </tr>\n",
       "    <tr>\n",
       "      <th>200675</th>\n",
       "      <td>air_f26f36ec4dc5adb0</td>\n",
       "      <td>2016-01-01</td>\n",
       "      <td>64</td>\n",
       "      <td>4</td>\n",
       "      <td>2016</td>\n",
       "      <td>1</td>\n",
       "    </tr>\n",
       "    <tr>\n",
       "      <th>213541</th>\n",
       "      <td>air_d97dabf7aae60da5</td>\n",
       "      <td>2016-01-01</td>\n",
       "      <td>102</td>\n",
       "      <td>4</td>\n",
       "      <td>2016</td>\n",
       "      <td>1</td>\n",
       "    </tr>\n",
       "    <tr>\n",
       "      <th>161915</th>\n",
       "      <td>air_39dccf7df20b1c6a</td>\n",
       "      <td>2016-01-01</td>\n",
       "      <td>55</td>\n",
       "      <td>4</td>\n",
       "      <td>2016</td>\n",
       "      <td>1</td>\n",
       "    </tr>\n",
       "    <tr>\n",
       "      <th>142213</th>\n",
       "      <td>air_79f528087f49df06</td>\n",
       "      <td>2016-01-01</td>\n",
       "      <td>42</td>\n",
       "      <td>4</td>\n",
       "      <td>2016</td>\n",
       "      <td>1</td>\n",
       "    </tr>\n",
       "  </tbody>\n",
       "</table>\n",
       "</div>"
      ],
      "text/plain": [
       "                air_store_id  visit_date  visitors  dow  year  month\n",
       "189299  air_fab092c35776a9b1  2016-01-01        19    4  2016      1\n",
       "200675  air_f26f36ec4dc5adb0  2016-01-01        64    4  2016      1\n",
       "213541  air_d97dabf7aae60da5  2016-01-01       102    4  2016      1\n",
       "161915  air_39dccf7df20b1c6a  2016-01-01        55    4  2016      1\n",
       "142213  air_79f528087f49df06  2016-01-01        42    4  2016      1"
      ]
     },
     "execution_count": 139,
     "metadata": {},
     "output_type": "execute_result"
    }
   ],
   "source": [
    "tra_s = tra.sort_values(['visit_date'])\n",
    "tra_s.head()"
   ]
  },
  {
   "cell_type": "code",
   "execution_count": 140,
   "metadata": {},
   "outputs": [
    {
     "data": {
      "text/html": [
       "<div>\n",
       "<style>\n",
       "    .dataframe thead tr:only-child th {\n",
       "        text-align: right;\n",
       "    }\n",
       "\n",
       "    .dataframe thead th {\n",
       "        text-align: left;\n",
       "    }\n",
       "\n",
       "    .dataframe tbody tr th {\n",
       "        vertical-align: top;\n",
       "    }\n",
       "</style>\n",
       "<table border=\"1\" class=\"dataframe\">\n",
       "  <thead>\n",
       "    <tr style=\"text-align: right;\">\n",
       "      <th></th>\n",
       "      <th>air_store_id</th>\n",
       "      <th>visit_date</th>\n",
       "      <th>visitors</th>\n",
       "      <th>dow</th>\n",
       "      <th>year</th>\n",
       "      <th>month</th>\n",
       "    </tr>\n",
       "  </thead>\n",
       "  <tbody>\n",
       "    <tr>\n",
       "      <th>86756</th>\n",
       "      <td>air_6a15e4eae523189d</td>\n",
       "      <td>2017-04-22</td>\n",
       "      <td>12</td>\n",
       "      <td>5</td>\n",
       "      <td>2017</td>\n",
       "      <td>4</td>\n",
       "    </tr>\n",
       "    <tr>\n",
       "      <th>86990</th>\n",
       "      <td>air_bf13014b6e3e60ca</td>\n",
       "      <td>2017-04-22</td>\n",
       "      <td>49</td>\n",
       "      <td>5</td>\n",
       "      <td>2017</td>\n",
       "      <td>4</td>\n",
       "    </tr>\n",
       "    <tr>\n",
       "      <th>87238</th>\n",
       "      <td>air_c52c63c781fe48f6</td>\n",
       "      <td>2017-04-22</td>\n",
       "      <td>41</td>\n",
       "      <td>5</td>\n",
       "      <td>2017</td>\n",
       "      <td>4</td>\n",
       "    </tr>\n",
       "    <tr>\n",
       "      <th>80983</th>\n",
       "      <td>air_59cc9b2b209c6331</td>\n",
       "      <td>2017-04-22</td>\n",
       "      <td>12</td>\n",
       "      <td>5</td>\n",
       "      <td>2017</td>\n",
       "      <td>4</td>\n",
       "    </tr>\n",
       "    <tr>\n",
       "      <th>252107</th>\n",
       "      <td>air_24e8414b9b07decb</td>\n",
       "      <td>2017-04-22</td>\n",
       "      <td>5</td>\n",
       "      <td>5</td>\n",
       "      <td>2017</td>\n",
       "      <td>4</td>\n",
       "    </tr>\n",
       "  </tbody>\n",
       "</table>\n",
       "</div>"
      ],
      "text/plain": [
       "                air_store_id  visit_date  visitors  dow  year  month\n",
       "86756   air_6a15e4eae523189d  2017-04-22        12    5  2017      4\n",
       "86990   air_bf13014b6e3e60ca  2017-04-22        49    5  2017      4\n",
       "87238   air_c52c63c781fe48f6  2017-04-22        41    5  2017      4\n",
       "80983   air_59cc9b2b209c6331  2017-04-22        12    5  2017      4\n",
       "252107  air_24e8414b9b07decb  2017-04-22         5    5  2017      4"
      ]
     },
     "execution_count": 140,
     "metadata": {},
     "output_type": "execute_result"
    }
   ],
   "source": [
    "tra_s.tail()"
   ]
  }
 ],
 "metadata": {
  "kernelspec": {
   "display_name": "Python 3",
   "language": "python",
   "name": "python3"
  },
  "language_info": {
   "codemirror_mode": {
    "name": "ipython",
    "version": 3
   },
   "file_extension": ".py",
   "mimetype": "text/x-python",
   "name": "python",
   "nbconvert_exporter": "python",
   "pygments_lexer": "ipython3",
   "version": "3.6.1"
  }
 },
 "nbformat": 4,
 "nbformat_minor": 2
}
