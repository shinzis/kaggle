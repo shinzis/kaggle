{
 "cells": [
  {
   "cell_type": "code",
   "execution_count": 197,
   "metadata": {
    "collapsed": true
   },
   "outputs": [],
   "source": [
    "import numpy as np\n",
    "import pandas as pd\n",
    "import datetime as dt\n",
    "from datetime import datetime"
   ]
  },
  {
   "cell_type": "code",
   "execution_count": 198,
   "metadata": {
    "collapsed": true
   },
   "outputs": [],
   "source": [
    "tra = pd.read_csv('/Users/suzukishinji/kaggle/recluit/air_visit_data.csv')\n",
    "tes = pd.read_csv('/Users/suzukishinji/kaggle/recluit/sample_submission-3.csv')\n",
    "#air_store =  pd.read_csv('/Users/suzukishinji/kaggle/recluit/air_store_info.csv')"
   ]
  },
  {
   "cell_type": "code",
   "execution_count": 108,
   "metadata": {},
   "outputs": [
    {
     "data": {
      "text/html": [
       "<div>\n",
       "<style>\n",
       "    .dataframe thead tr:only-child th {\n",
       "        text-align: right;\n",
       "    }\n",
       "\n",
       "    .dataframe thead th {\n",
       "        text-align: left;\n",
       "    }\n",
       "\n",
       "    .dataframe tbody tr th {\n",
       "        vertical-align: top;\n",
       "    }\n",
       "</style>\n",
       "<table border=\"1\" class=\"dataframe\">\n",
       "  <thead>\n",
       "    <tr style=\"text-align: right;\">\n",
       "      <th></th>\n",
       "      <th>air_store_id</th>\n",
       "      <th>visit_date</th>\n",
       "      <th>visitors</th>\n",
       "      <th>count</th>\n",
       "    </tr>\n",
       "  </thead>\n",
       "  <tbody>\n",
       "    <tr>\n",
       "      <th>0</th>\n",
       "      <td>air_ba937bf13d40fb24</td>\n",
       "      <td>2016-01-13</td>\n",
       "      <td>25</td>\n",
       "      <td>391</td>\n",
       "    </tr>\n",
       "    <tr>\n",
       "      <th>1</th>\n",
       "      <td>air_ba937bf13d40fb24</td>\n",
       "      <td>2016-01-14</td>\n",
       "      <td>32</td>\n",
       "      <td>391</td>\n",
       "    </tr>\n",
       "    <tr>\n",
       "      <th>2</th>\n",
       "      <td>air_ba937bf13d40fb24</td>\n",
       "      <td>2016-01-15</td>\n",
       "      <td>29</td>\n",
       "      <td>391</td>\n",
       "    </tr>\n",
       "    <tr>\n",
       "      <th>3</th>\n",
       "      <td>air_ba937bf13d40fb24</td>\n",
       "      <td>2016-01-16</td>\n",
       "      <td>22</td>\n",
       "      <td>391</td>\n",
       "    </tr>\n",
       "    <tr>\n",
       "      <th>4</th>\n",
       "      <td>air_ba937bf13d40fb24</td>\n",
       "      <td>2016-01-18</td>\n",
       "      <td>6</td>\n",
       "      <td>391</td>\n",
       "    </tr>\n",
       "  </tbody>\n",
       "</table>\n",
       "</div>"
      ],
      "text/plain": [
       "           air_store_id  visit_date  visitors  count\n",
       "0  air_ba937bf13d40fb24  2016-01-13        25    391\n",
       "1  air_ba937bf13d40fb24  2016-01-14        32    391\n",
       "2  air_ba937bf13d40fb24  2016-01-15        29    391\n",
       "3  air_ba937bf13d40fb24  2016-01-16        22    391\n",
       "4  air_ba937bf13d40fb24  2016-01-18         6    391"
      ]
     },
     "execution_count": 108,
     "metadata": {},
     "output_type": "execute_result"
    }
   ],
   "source": [
    "tmp = tra.groupby(['air_store_id'], as_index = False)['visitors'].count().rename(columns = {'visitors':'count'})\n",
    "tra = pd.merge(tra, tmp, how ='left', on = ['air_store_id'])\n",
    "tra.head()"
   ]
  },
  {
   "cell_type": "code",
   "execution_count": 109,
   "metadata": {},
   "outputs": [
    {
     "data": {
      "text/plain": [
       "(array([2.0000e+01, 0.0000e+00, 1.2800e+02, 1.5800e+02, 6.2000e+01,\n",
       "        2.7700e+02, 2.4300e+02, 9.0000e+01, 2.9200e+02, 1.1100e+02,\n",
       "        3.4500e+02, 2.4400e+02, 4.0400e+02, 0.0000e+00, 9.0400e+02,\n",
       "        8.0900e+02, 8.5600e+02, 7.1600e+02, 1.7050e+03, 2.3820e+03,\n",
       "        2.4890e+03, 4.7900e+03, 6.9880e+03, 1.0566e+04, 1.5353e+04,\n",
       "        1.3623e+04, 9.1650e+03, 1.0014e+04, 1.5711e+04, 2.6697e+04,\n",
       "        5.3370e+03, 3.1000e+02, 2.5420e+03, 1.9670e+03, 2.0110e+03,\n",
       "        3.4490e+03, 2.1310e+03, 2.5440e+03, 4.0850e+03, 8.3900e+03,\n",
       "        7.4120e+03, 1.1976e+04, 1.1004e+04, 7.1100e+03, 9.4000e+03,\n",
       "        3.4820e+03, 6.6650e+03, 9.5460e+03, 1.0628e+04, 1.6977e+04]),\n",
       " array([ 20.  ,  29.14,  38.28,  47.42,  56.56,  65.7 ,  74.84,  83.98,\n",
       "         93.12, 102.26, 111.4 , 120.54, 129.68, 138.82, 147.96, 157.1 ,\n",
       "        166.24, 175.38, 184.52, 193.66, 202.8 , 211.94, 221.08, 230.22,\n",
       "        239.36, 248.5 , 257.64, 266.78, 275.92, 285.06, 294.2 , 303.34,\n",
       "        312.48, 321.62, 330.76, 339.9 , 349.04, 358.18, 367.32, 376.46,\n",
       "        385.6 , 394.74, 403.88, 413.02, 422.16, 431.3 , 440.44, 449.58,\n",
       "        458.72, 467.86, 477.  ]),\n",
       " <a list of 50 Patch objects>)"
      ]
     },
     "execution_count": 109,
     "metadata": {},
     "output_type": "execute_result"
    },
    {
     "data": {
      "image/png": "[encoded data removed]",
      "text/plain": [
       "<matplotlib.figure.Figure at 0x10e49e630>"
      ]
     },
     "metadata": {},
     "output_type": "display_data"
    }
   ],
   "source": [
    "pd.set_option('display.float_format', lambda X: '%.3f' % X)\n",
    "%matplotlib inline\n",
    "plt.hist(tra['count'], bins=50)"
   ]
  },
  {
   "cell_type": "code",
   "execution_count": 114,
   "metadata": {},
   "outputs": [
    {
     "data": {
      "text/html": [
       "<div>\n",
       "<style>\n",
       "    .dataframe thead tr:only-child th {\n",
       "        text-align: right;\n",
       "    }\n",
       "\n",
       "    .dataframe thead th {\n",
       "        text-align: left;\n",
       "    }\n",
       "\n",
       "    .dataframe tbody tr th {\n",
       "        vertical-align: top;\n",
       "    }\n",
       "</style>\n",
       "<table border=\"1\" class=\"dataframe\">\n",
       "  <thead>\n",
       "    <tr style=\"text-align: right;\">\n",
       "      <th></th>\n",
       "      <th>air_store_id</th>\n",
       "      <th>visit_date</th>\n",
       "      <th>visitors</th>\n",
       "      <th>count</th>\n",
       "    </tr>\n",
       "  </thead>\n",
       "  <tbody>\n",
       "    <tr>\n",
       "      <th>251854</th>\n",
       "      <td>air_c7d30ab0e07f31d5</td>\n",
       "      <td>2017-04-01</td>\n",
       "      <td>14</td>\n",
       "      <td>346</td>\n",
       "    </tr>\n",
       "    <tr>\n",
       "      <th>251855</th>\n",
       "      <td>air_c7d30ab0e07f31d5</td>\n",
       "      <td>2017-04-02</td>\n",
       "      <td>1</td>\n",
       "      <td>346</td>\n",
       "    </tr>\n",
       "    <tr>\n",
       "      <th>251856</th>\n",
       "      <td>air_c7d30ab0e07f31d5</td>\n",
       "      <td>2017-04-03</td>\n",
       "      <td>15</td>\n",
       "      <td>346</td>\n",
       "    </tr>\n",
       "    <tr>\n",
       "      <th>251857</th>\n",
       "      <td>air_c7d30ab0e07f31d5</td>\n",
       "      <td>2017-04-04</td>\n",
       "      <td>7</td>\n",
       "      <td>346</td>\n",
       "    </tr>\n",
       "    <tr>\n",
       "      <th>251858</th>\n",
       "      <td>air_c7d30ab0e07f31d5</td>\n",
       "      <td>2017-04-05</td>\n",
       "      <td>26</td>\n",
       "      <td>346</td>\n",
       "    </tr>\n",
       "    <tr>\n",
       "      <th>251859</th>\n",
       "      <td>air_c7d30ab0e07f31d5</td>\n",
       "      <td>2017-04-06</td>\n",
       "      <td>20</td>\n",
       "      <td>346</td>\n",
       "    </tr>\n",
       "    <tr>\n",
       "      <th>251860</th>\n",
       "      <td>air_c7d30ab0e07f31d5</td>\n",
       "      <td>2017-04-07</td>\n",
       "      <td>20</td>\n",
       "      <td>346</td>\n",
       "    </tr>\n",
       "    <tr>\n",
       "      <th>251861</th>\n",
       "      <td>air_c7d30ab0e07f31d5</td>\n",
       "      <td>2017-04-08</td>\n",
       "      <td>7</td>\n",
       "      <td>346</td>\n",
       "    </tr>\n",
       "    <tr>\n",
       "      <th>251862</th>\n",
       "      <td>air_c7d30ab0e07f31d5</td>\n",
       "      <td>2017-04-10</td>\n",
       "      <td>6</td>\n",
       "      <td>346</td>\n",
       "    </tr>\n",
       "    <tr>\n",
       "      <th>251863</th>\n",
       "      <td>air_c7d30ab0e07f31d5</td>\n",
       "      <td>2017-04-11</td>\n",
       "      <td>13</td>\n",
       "      <td>346</td>\n",
       "    </tr>\n",
       "    <tr>\n",
       "      <th>251864</th>\n",
       "      <td>air_c7d30ab0e07f31d5</td>\n",
       "      <td>2017-04-12</td>\n",
       "      <td>22</td>\n",
       "      <td>346</td>\n",
       "    </tr>\n",
       "    <tr>\n",
       "      <th>251865</th>\n",
       "      <td>air_c7d30ab0e07f31d5</td>\n",
       "      <td>2017-04-13</td>\n",
       "      <td>9</td>\n",
       "      <td>346</td>\n",
       "    </tr>\n",
       "    <tr>\n",
       "      <th>251866</th>\n",
       "      <td>air_c7d30ab0e07f31d5</td>\n",
       "      <td>2017-04-14</td>\n",
       "      <td>21</td>\n",
       "      <td>346</td>\n",
       "    </tr>\n",
       "    <tr>\n",
       "      <th>251867</th>\n",
       "      <td>air_c7d30ab0e07f31d5</td>\n",
       "      <td>2017-04-15</td>\n",
       "      <td>10</td>\n",
       "      <td>346</td>\n",
       "    </tr>\n",
       "    <tr>\n",
       "      <th>251868</th>\n",
       "      <td>air_c7d30ab0e07f31d5</td>\n",
       "      <td>2017-04-17</td>\n",
       "      <td>12</td>\n",
       "      <td>346</td>\n",
       "    </tr>\n",
       "    <tr>\n",
       "      <th>251869</th>\n",
       "      <td>air_c7d30ab0e07f31d5</td>\n",
       "      <td>2017-04-18</td>\n",
       "      <td>23</td>\n",
       "      <td>346</td>\n",
       "    </tr>\n",
       "    <tr>\n",
       "      <th>251870</th>\n",
       "      <td>air_c7d30ab0e07f31d5</td>\n",
       "      <td>2017-04-19</td>\n",
       "      <td>18</td>\n",
       "      <td>346</td>\n",
       "    </tr>\n",
       "    <tr>\n",
       "      <th>251871</th>\n",
       "      <td>air_c7d30ab0e07f31d5</td>\n",
       "      <td>2017-04-20</td>\n",
       "      <td>25</td>\n",
       "      <td>346</td>\n",
       "    </tr>\n",
       "    <tr>\n",
       "      <th>251872</th>\n",
       "      <td>air_c7d30ab0e07f31d5</td>\n",
       "      <td>2017-04-21</td>\n",
       "      <td>30</td>\n",
       "      <td>346</td>\n",
       "    </tr>\n",
       "    <tr>\n",
       "      <th>251873</th>\n",
       "      <td>air_c7d30ab0e07f31d5</td>\n",
       "      <td>2017-04-22</td>\n",
       "      <td>24</td>\n",
       "      <td>346</td>\n",
       "    </tr>\n",
       "  </tbody>\n",
       "</table>\n",
       "</div>"
      ],
      "text/plain": [
       "                air_store_id  visit_date  visitors  count\n",
       "251854  air_c7d30ab0e07f31d5  2017-04-01        14    346\n",
       "251855  air_c7d30ab0e07f31d5  2017-04-02         1    346\n",
       "251856  air_c7d30ab0e07f31d5  2017-04-03        15    346\n",
       "251857  air_c7d30ab0e07f31d5  2017-04-04         7    346\n",
       "251858  air_c7d30ab0e07f31d5  2017-04-05        26    346\n",
       "251859  air_c7d30ab0e07f31d5  2017-04-06        20    346\n",
       "251860  air_c7d30ab0e07f31d5  2017-04-07        20    346\n",
       "251861  air_c7d30ab0e07f31d5  2017-04-08         7    346\n",
       "251862  air_c7d30ab0e07f31d5  2017-04-10         6    346\n",
       "251863  air_c7d30ab0e07f31d5  2017-04-11        13    346\n",
       "251864  air_c7d30ab0e07f31d5  2017-04-12        22    346\n",
       "251865  air_c7d30ab0e07f31d5  2017-04-13         9    346\n",
       "251866  air_c7d30ab0e07f31d5  2017-04-14        21    346\n",
       "251867  air_c7d30ab0e07f31d5  2017-04-15        10    346\n",
       "251868  air_c7d30ab0e07f31d5  2017-04-17        12    346\n",
       "251869  air_c7d30ab0e07f31d5  2017-04-18        23    346\n",
       "251870  air_c7d30ab0e07f31d5  2017-04-19        18    346\n",
       "251871  air_c7d30ab0e07f31d5  2017-04-20        25    346\n",
       "251872  air_c7d30ab0e07f31d5  2017-04-21        30    346\n",
       "251873  air_c7d30ab0e07f31d5  2017-04-22        24    346"
      ]
     },
     "execution_count": 114,
     "metadata": {},
     "output_type": "execute_result"
    }
   ],
   "source": [
    "count = tra[tra['count'] > 320]\n",
    "count.tail(20)"
   ]
  },
  {
   "cell_type": "code",
   "execution_count": 115,
   "metadata": {},
   "outputs": [
    {
     "data": {
      "text/plain": [
       "118777"
      ]
     },
     "execution_count": 115,
     "metadata": {},
     "output_type": "execute_result"
    }
   ],
   "source": [
    "count['air_store_id'].count()"
   ]
  },
  {
   "cell_type": "code",
   "execution_count": 199,
   "metadata": {
    "collapsed": true
   },
   "outputs": [],
   "source": [
    "tra['visit_date'] = pd.to_datetime(tra['visit_date'])\n",
    "tra['visit_date'] = pd.to_datetime(tra['visit_date'])\n",
    "tra['dow'] = tra['visit_date'].dt.dayofweek\n",
    "tra['year'] = tra['visit_date'].dt.year\n",
    "tra['month'] = tra['visit_date'].dt.month\n",
    "tra['visit_date'] = tra['visit_date'].dt.date"
   ]
  },
  {
   "cell_type": "code",
   "execution_count": 200,
   "metadata": {
    "collapsed": true
   },
   "outputs": [],
   "source": [
    "year_2016 = tra[tra['year'] == 2016]\n",
    "month_1 = year_2016[year_2016['month'] == 1]\n",
    "month_2 = year_2016[year_2016['month'] == 2]\n",
    "month_3 = year_2016[year_2016['month'] == 3]\n",
    "month_4 = year_2016[year_2016['month'] == 4]\n",
    "month_5 = year_2016[year_2016['month'] == 5]\n",
    "month_6 = year_2016[year_2016['month'] == 6]\n",
    "tra_store_316_6 = pd.concat([month_1,month_2,month_3,month_4,month_5,month_6])"
   ]
  },
  {
   "cell_type": "code",
   "execution_count": 201,
   "metadata": {
    "collapsed": true
   },
   "outputs": [],
   "source": [
    "id = list(tra_store_316_6['air_store_id'].values.flatten())"
   ]
  },
  {
   "cell_type": "code",
   "execution_count": 202,
   "metadata": {
    "collapsed": true
   },
   "outputs": [],
   "source": [
    "tra_store_316_all = tra[tra['air_store_id'].isin(id)]\n",
    "tra_store_513 = tra[~tra['air_store_id'].isin(id)]\n",
    "#data[data['a'].isin([1,2])]"
   ]
  },
  {
   "cell_type": "code",
   "execution_count": 203,
   "metadata": {
    "collapsed": true
   },
   "outputs": [],
   "source": [
    "tes['visit_date'] = tes['id'].map(lambda x: str(x).split('_')[2])\n",
    "tes['air_store_id'] = tes['id'].map(lambda x: '_'.join(x.split('_')[:2]))\n",
    "tes['visit_date'] = pd.to_datetime(tes['visit_date'])\n",
    "tes['dow'] = tes['visit_date'].dt.dayofweek\n",
    "tes['year'] = tes['visit_date'].dt.year\n",
    "tes['month'] = tes['visit_date'].dt.month\n",
    "tes['visit_date'] = tes['visit_date'].dt.date"
   ]
  },
  {
   "cell_type": "code",
   "execution_count": 204,
   "metadata": {
    "collapsed": true
   },
   "outputs": [],
   "source": [
    "tes_store_316 = tes[tes['air_store_id'].isin(id)]\n",
    "tes_store_513 = tes[~tes['air_store_id'].isin(id)]"
   ]
  },
  {
   "cell_type": "code",
   "execution_count": 205,
   "metadata": {
    "collapsed": true
   },
   "outputs": [],
   "source": [
    "tra_store_513_316 = pd.concat([tra_316_6, tra_513])"
   ]
  },
  {
   "cell_type": "code",
   "execution_count": 206,
   "metadata": {
    "collapsed": true
   },
   "outputs": [],
   "source": [
    "tra_store_316_6[['air_store_id', 'visit_date','visitors']].to_csv('tra_store_316_6.csv', index = False)\n",
    "tra_store_316_all[['air_store_id', 'visit_date','visitors']].to_csv('tra_store_316_all.csv', index = False)\n",
    "tra_store_513_316[['air_store_id', 'visit_date','visitors']].to_csv('tra_store_513.csv', index = False)\n",
    "\n",
    "tes_store_316[['id','visitors']].to_csv('tes_store_316.csv', index = False)\n",
    "tes_store_513[['id','visitors']].to_csv('tes_store_513.csv', index = False)"
   ]
  },
  {
   "cell_type": "code",
   "execution_count": 207,
   "metadata": {
    "collapsed": true
   },
   "outputs": [],
   "source": [
    "tra_316_6 = pd.read_csv('/Users/suzukishinji/kaggle/recluit/tra_store_316_6.csv')\n",
    "tra_316_all = pd.read_csv('/Users/suzukishinji/kaggle/recluit/tra_store_316_all.csv')\n",
    "tra_513 = pd.read_csv('/Users/suzukishinji/kaggle/recluit/tra_store_513.csv')\n",
    "tes_316 = pd.read_csv('/Users/suzukishinji/kaggle/recluit/tes_store_316.csv')\n",
    "tes_513 = pd.read_csv('/Users/suzukishinji/kaggle/recluit/tes_store_513.csv')"
   ]
  },
  {
   "cell_type": "code",
   "execution_count": 208,
   "metadata": {},
   "outputs": [
    {
     "name": "stdout",
     "output_type": "stream",
     "text": [
      "(252108, 6)\n",
      "(47699, 3)\n",
      "(126700, 3)\n",
      "(220806, 3)\n",
      "\n",
      "(268505, 3)\n",
      "\n",
      "(32019, 7)\n",
      "(12207, 2)\n",
      "(19812, 2)\n"
     ]
    }
   ],
   "source": [
    "print(tra.shape)\n",
    "print(tra_316_6.shape)\n",
    "print(tra_316_all.shape)\n",
    "print(tra_513.shape)\n",
    "print()\n",
    "tra_513_316 = pd.concat([tra_316_6, tra_513])\n",
    "print(tra_513_316.shape)\n",
    "print()\n",
    "print(tes.shape)\n",
    "print(tes_316.shape)\n",
    "print(tes_513.shape)"
   ]
  },
  {
   "cell_type": "code",
   "execution_count": 210,
   "metadata": {},
   "outputs": [
    {
     "name": "stdout",
     "output_type": "stream",
     "text": [
      "(252108, 3)\n",
      "(32019, 2)\n",
      "↑元データ\n",
      "(245315, 7)\n",
      "(41680, 3)\n",
      "(120382, 3)\n",
      "(124933, 3)\n",
      "(6793, 3)\n",
      "\n",
      "(166613, 3)\n",
      "\n",
      "(13957, 8)\n",
      "(5321, 2)\n",
      "(8636, 2)\n",
      "(18062, 2)\n"
     ]
    }
   ],
   "source": [
    "import numpy as np\n",
    "import pandas as pd\n",
    "import datetime as dt\n",
    "from datetime import datetime\n",
    "\n",
    "tra = pd.read_csv('/Users/suzukishinji/kaggle/recluit/air_visit_data.csv')\n",
    "tes = pd.read_csv('/Users/suzukishinji/kaggle/recluit/sample_submission-3.csv')\n",
    "\n",
    "#あとでデータ数を確認するため\n",
    "print(tra.shape)\n",
    "print(tes.shape)\n",
    "print('↑元データ')\n",
    "\n",
    "#countで試してみましたが、「2016年初めからデータはあるものの営業日の少ないお店」と「データは途中からだけど営業日の多い店」が混じるため、2016/1~2016/6に営業していた店と営業していないお店という分け方をしてみました。\n",
    "\n",
    "tra['visit_date'] = pd.to_datetime(tra['visit_date'])\n",
    "tra['visit_date'] = pd.to_datetime(tra['visit_date'])\n",
    "tra['dow'] = tra['visit_date'].dt.dayofweek\n",
    "tra['year'] = tra['visit_date'].dt.year\n",
    "tra['month'] = tra['visit_date'].dt.month\n",
    "tra['visit_date'] = tra['visit_date'].dt.date\n",
    "\n",
    "tes['visit_date'] = tes['id'].map(lambda x: str(x).split('_')[2])\n",
    "tes['air_store_id'] = tes['id'].map(lambda x: '_'.join(x.split('_')[:2]))\n",
    "tes['visit_date'] = pd.to_datetime(tes['visit_date'])\n",
    "tes['dow'] = tes['visit_date'].dt.dayofweek\n",
    "tes['year'] = tes['visit_date'].dt.year\n",
    "tes['month'] = tes['visit_date'].dt.month\n",
    "tes['visit_date'] = tes['visit_date'].dt.date\n",
    "\n",
    "#リョウさんのGW_flagを利用させて頂きました（ここの日付の範囲は適当に3週間としたので変更しても良いと思います）\n",
    "combine = [tra, tes]\n",
    "gw_list = ['2016-04-23','2016-04-24','2016-04-25','2016-04-26','2016-04-27','2016-04-28','2016-04-29','2016-04-30','2016-04-23','2016-05-01','2016-05-02','2016-05-03','2016-05-04','2016-05-05','2016-05-06','2016-05-07','2016-05-08','2016-05-09','2016-05-10','2016-05-11','2016-05-12','2016-05-13','2016-05-14','2016-05-15','2017-04-22','2017-04-23','2017-04-24','2017-04-25','2017-04-26','2017-04-27','2017-04-28','2017-04-29','2017-04-30','2017-05-01','2017-05-02','2017-05-03','2017-05-04','2017-05-05','2017-05-06','2017-05-07','2017-05-08','2017-05-09','2017-05-10','2017-05-11','2017-05-12','2017-05-13','2017-05-14']\n",
    "tra['gw_flg'] = 0\n",
    "tes['gw_flg'] = 0\n",
    "update_gw_list = [[\"0\" for i in range(3)] for j in range(len(gw_list))]\n",
    "\n",
    "from datetime import date\n",
    "for index, gw_date in enumerate(gw_list):\n",
    "    temp_list = gw_date.split(\"-\")\n",
    "    for col_i, temp_figure in enumerate(temp_list):\n",
    "        update_gw_list[index][col_i]=int(temp_figure)\n",
    "        \n",
    "    #print(\"{}  {}  {}\".format(update_list[index][0],update_list[index][1],update_list[index][2]))\n",
    "\n",
    "for dataset in combine:\n",
    "    for index in range(len(update_gw_list)):\n",
    "        dataset.loc[dataset.visit_date == date(update_gw_list[index][0],update_gw_list[index][1],update_gw_list[index][2]), 'gw_flg'] = 1\n",
    "\n",
    "#gw部分とそれ以外を分けます。\n",
    "tra_gw = tra[tra['gw_flg'] == 1]\n",
    "tra = tra[tra['gw_flg'] == 0]\n",
    "\n",
    "tes_gw = tes[tes['gw_flg'] == 1]\n",
    "tes = tes[tes['gw_flg'] == 0]\n",
    "\n",
    "#2016/1~2016/6に営業しているお店は316店舗でした。\n",
    "year_2016 = tra[tra['year'] == 2016]\n",
    "month_1 = year_2016[year_2016['month'] == 1]\n",
    "month_2 = year_2016[year_2016['month'] == 2]\n",
    "month_3 = year_2016[year_2016['month'] == 3]\n",
    "month_4 = year_2016[year_2016['month'] == 4]\n",
    "month_5 = year_2016[year_2016['month'] == 5]\n",
    "month_6 = year_2016[year_2016['month'] == 6]\n",
    "tra_store_316_6 = pd.concat([month_1,month_2,month_3,month_4,month_5,month_6])\n",
    "\n",
    "id = list(tra_store_316_6['air_store_id'].values.flatten())\n",
    "\n",
    "#trainデータから2016/1~2016/6に営業しているお店の全期間を抜き出したもの。\n",
    "#trainデータから上記を除いたものが513店舗。\n",
    "tra_store_316_all = tra[tra['air_store_id'].isin(id)]\n",
    "tra_store_513 = tra[~tra['air_store_id'].isin(id)]\n",
    "\n",
    "#testデータから2016/1~2016/6に営業しているお店の全期間を抜き出したもの。\n",
    "#testデータから上記を除いたものが513店舗。\n",
    "tes_store_316 = tes[tes['air_store_id'].isin(id)]\n",
    "tes_store_513 = tes[~tes['air_store_id'].isin(id)]\n",
    "\n",
    "\n",
    "#使うのは①2016/1~2016/6の期間のデータ、②2016/1~2016/6に営業していたお店の全期間のデータ、③途中からの513店舗のデータ。\n",
    "tra_store_316_6[['air_store_id', 'visit_date','visitors']].to_csv('tra_store_316_6.csv', index = False)\n",
    "tra_store_316_all[['air_store_id', 'visit_date','visitors']].to_csv('tra_store_316_all.csv', index = False)\n",
    "tra_store_513[['air_store_id', 'visit_date','visitors']].to_csv('tra_store_513.csv', index = False)\n",
    "tra_gw[['air_store_id', 'visit_date','visitors']].to_csv('tra_gw.csv', index = False)\n",
    "\n",
    "#テストデータは期間で分けずに最初からの316店舗と途中からの513店舗\n",
    "tes_store_316[['id','visitors']].to_csv('tes_store_316.csv', index = False)\n",
    "tes_store_513[['id','visitors']].to_csv('tes_store_513.csv', index = False)\n",
    "tes_gw[['id','visitors']].to_csv('tes_gw.csv', index = False)\n",
    "\n",
    "\n",
    "tra_316_6 = pd.read_csv('/Users/suzukishinji/kaggle/recluit/tra_store_316_6.csv')\n",
    "tra_316_all = pd.read_csv('/Users/suzukishinji/kaggle/recluit/tra_store_316_all.csv')\n",
    "tra_513 = pd.read_csv('/Users/suzukishinji/kaggle/recluit/tra_store_513.csv')\n",
    "tra_gw = pd.read_csv('/Users/suzukishinji/kaggle/recluit/tra_gw.csv')\n",
    "\n",
    "tes_316 = pd.read_csv('/Users/suzukishinji/kaggle/recluit/tes_store_316.csv')\n",
    "tes_513 = pd.read_csv('/Users/suzukishinji/kaggle/recluit/tes_store_513.csv')\n",
    "tes_gw = pd.read_csv('/Users/suzukishinji/kaggle/recluit/tes_gw.csv')\n",
    "\n",
    "#出力されているか確認。（①と③はくっつけて使う）\n",
    "print(tra_316_6.shape)\n",
    "print(tra_316_all.shape)\n",
    "print(tra_513.shape)\n",
    "print(tra_gw.shape)\n",
    "print()\n",
    "tra_513_316 = pd.concat([tra_316_6, tra_513])\n",
    "print(tra_513_316.shape)\n",
    "print()\n",
    "print(tes_316.shape)\n",
    "print(tes_513.shape)\n",
    "print(tes_gw.shape)"
   ]
  }
 ],
 "metadata": {
  "kernelspec": {
   "display_name": "Python 3",
   "language": "python",
   "name": "python3"
  },
  "language_info": {
   "codemirror_mode": {
    "name": "ipython",
    "version": 3
   },
   "file_extension": ".py",
   "mimetype": "text/x-python",
   "name": "python",
   "nbconvert_exporter": "python",
   "pygments_lexer": "ipython3",
   "version": "3.6.1"
  }
 },
 "nbformat": 4,
 "nbformat_minor": 2
}
