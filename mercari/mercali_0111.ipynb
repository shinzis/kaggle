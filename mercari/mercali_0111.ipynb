{
 "cells": [
  {
   "cell_type": "code",
   "execution_count": null,
   "metadata": {
    "_cell_guid": "77f42e14-2b75-47b1-a2a6-ec3e2cded2b5",
    "_uuid": "22daf029b24afdbe84078e537cd23b200b865370",
    "collapsed": true
   },
   "outputs": [],
   "source": [
    "# This Python 3 environment comes with many helpful analytics libraries installed\n",
    "# It is defined by the kaggle/python docker image: https://github.com/kaggle/docker-python\n",
    "# For example, here's several helpful packages to load in \n",
    "\n",
    "import numpy as np # linear algebra\n",
    "import pandas as pd # data processing, CSV file I/O (e.g. pd.read_csv)\n",
    "\n",
    "# Input data files are available in the \"../input/\" directory.\n",
    "# For example, running this (by clicking run or pressing Shift+Enter) will list the files in the input directory\n",
    "\n",
    "from subprocess import check_output\n",
    "print(check_output([\"ls\", \"../input\"]).decode(\"utf8\"))\n",
    "\n",
    "# Any results you write to the current directory are saved as output."
   ]
  },
  {
   "cell_type": "code",
   "execution_count": null,
   "metadata": {
    "_cell_guid": "cffd241a-56b3-4b66-924c-890a1b0e3a8f",
    "_uuid": "eeb23aa056f67d2582c1409f525db90320e93e63",
    "collapsed": true
   },
   "outputs": [],
   "source": [
    "from sklearn.linear_model import ElasticNet, Lasso,  BayesianRidge, LassoLarsIC\n",
    "from sklearn.ensemble import RandomForestRegressor,  GradientBoostingRegressor\n",
    "from sklearn.kernel_ridge import KernelRidge\n",
    "from sklearn.pipeline import make_pipeline\n",
    "from sklearn.preprocessing import RobustScaler\n",
    "from sklearn.base import BaseEstimator, TransformerMixin, RegressorMixin, clone\n",
    "from sklearn.model_selection import KFold, cross_val_score, train_test_split\n",
    "from sklearn.metrics import mean_squared_error\n",
    "import xgboost as xgb\n",
    "import lightgbm as lgb"
   ]
  },
  {
   "cell_type": "code",
   "execution_count": null,
   "metadata": {
    "_cell_guid": "9518d088-a31c-478c-83a0-d5973db2e711",
    "_uuid": "1a35f97f7524c47ab51c64dd5cde37bb5e549983",
    "collapsed": true
   },
   "outputs": [],
   "source": [
    "train = pd.read_csv('../input/train.tsv',delimiter='\\t')\n",
    "test = pd.read_csv('../input/test.tsv',delimiter='\\t')\n",
    "sample = pd.read_csv('../input/sample_submission.csv')"
   ]
  },
  {
   "cell_type": "code",
   "execution_count": null,
   "metadata": {
    "_cell_guid": "910840bc-23eb-42ef-a65f-9db63732737b",
    "_uuid": "833c8d64ea5982ec49522998c0949d4094d6c350",
    "collapsed": true
   },
   "outputs": [],
   "source": [
    "y_train = train.price.values\n",
    "test_id = test.test_id\n",
    "train = train.drop(\"train_id\", axis = 1)\n",
    "test = test.drop(\"test_id\", axis = 1)"
   ]
  },
  {
   "cell_type": "code",
   "execution_count": null,
   "metadata": {
    "_cell_guid": "f055a42b-22fa-4463-b65f-685e1ded18d9",
    "_uuid": "976d47105db413dd144fa7355cfe81b8b733971a",
    "collapsed": true
   },
   "outputs": [],
   "source": [
    "from sklearn.feature_extraction.text import CountVectorizer\n",
    "count_vect = CountVectorizer()"
   ]
  },
  {
   "cell_type": "code",
   "execution_count": null,
   "metadata": {
    "_cell_guid": "f1924204-6fd8-4e12-9543-91cd2c389f72",
    "_uuid": "e542b6145540ec8faac74dc60f41795b87f59285",
    "collapsed": true
   },
   "outputs": [],
   "source": [
    "all_data = pd.concat((train, test)).reset_index(drop = True)"
   ]
  },
  {
   "cell_type": "code",
   "execution_count": null,
   "metadata": {
    "_cell_guid": "7671bace-d1d6-4f3f-96e6-be423b4c0f59",
    "_uuid": "dc8c3048a57c75f3d0db0dceff5f61e1f4b06763",
    "collapsed": true
   },
   "outputs": [],
   "source": [
    "all_data= count_vect.fit_transform(all_data['name'])"
   ]
  },
  {
   "cell_type": "code",
   "execution_count": null,
   "metadata": {
    "_cell_guid": "54ee75a5-f6b8-4bc7-99ad-6ed24bcc6028",
    "_uuid": "028f0888892f9edcbac2ff1b7c93ba86fa901bb2",
    "collapsed": true
   },
   "outputs": [],
   "source": [
    "from sklearn.decomposition import TruncatedSVD\n",
    "svd = TruncatedSVD(n_components=50)\n",
    "all_data = svd.fit_transform(all_data)"
   ]
  },
  {
   "cell_type": "code",
   "execution_count": null,
   "metadata": {
    "_cell_guid": "10756b63-9d6b-426b-aab7-c64d6a6ad6fd",
    "_uuid": "8c6ac5efb5260fc938f5dacf05e1e9c703ea407f",
    "collapsed": true
   },
   "outputs": [],
   "source": [
    "def rmsle(y, y_pred):\n",
    "    return np.sqrt(mean_squared_error(y, y_pred))\n",
    "\n",
    "model_lgb = lgb.LGBMRegressor(boosting_type='gbdt', num_leaves=80, max_depth=8, learning_rate=0.05, n_estimators=900, max_bin=255, \n",
    "                       seed=42, nthread=-1, silent=True)\n",
    "#model_lgb = lgb.LGBMRegressor (objective= 'regression', num_leaves = 5,learning_rate = 0.05, n_estimators = 720,\n",
    "#                                                          max_bin = 55, bagging_fraction = 0.2319, feature_fraction_seed = 9, bagging_seed = 9,\n",
    " #                                                         min_data_in_leaf = 6, min_sum_hessian_in_leaf = 11)"
   ]
  },
  {
   "cell_type": "code",
   "execution_count": null,
   "metadata": {
    "_cell_guid": "c51de7aa-dc95-44ef-89a5-46d65bd16607",
    "_uuid": "815cdd0927afcd780129e1c6583b8a0c8d76eabd",
    "collapsed": true
   },
   "outputs": [],
   "source": [
    "model_lgb.fit(all_data[:1482535], y_train)\n",
    "lgb_train_pred = model_lgb.predict(all_data[:1482535])\n",
    "lgb_pred_1 = np.expm1(model_lgb.predict(all_data[1482535:]))\n",
    "print(rmsle(y_train, lgb_train_pred))"
   ]
  },
  {
   "cell_type": "code",
   "execution_count": null,
   "metadata": {
    "_cell_guid": "fb6d6b30-0335-4328-bd76-ff6bc18607ac",
    "_uuid": "54659ace67b95c5c0a296f958364c8426da75c3c",
    "collapsed": true
   },
   "outputs": [],
   "source": [
    "model_lgb.score(all_data[:1482535], y_train)"
   ]
  },
  {
   "cell_type": "code",
   "execution_count": null,
   "metadata": {
    "_cell_guid": "c6044d4d-fd35-41d1-8830-198e58bc30d0",
    "_uuid": "76209c6c70f0c33e81de7a0433e31ba285e506f0",
    "collapsed": true
   },
   "outputs": [],
   "source": [
    "train[\"brand_name\"] = train[\"brand_name\"].fillna(\"None\")"
   ]
  },
  {
   "cell_type": "code",
   "execution_count": null,
   "metadata": {
    "_cell_guid": "b69168c8-ec01-4dd9-bd68-1b124e223622",
    "_uuid": "e5aa00a3708f3a78268bc26e357c1f1ca8036fc1",
    "collapsed": true
   },
   "outputs": [],
   "source": [
    "train_mean = train.groupby('brand_name')['price'].mean().reset_index()\n",
    "train_min = train.groupby('brand_name')['price'].min().reset_index()\n",
    "train_max = train.groupby('brand_name')['price'].max().reset_index()\n",
    "train_med = train.groupby('brand_name')['price'].median().reset_index()\n",
    "train_cou = train.groupby('brand_name')['price'].count().reset_index()"
   ]
  },
  {
   "cell_type": "code",
   "execution_count": null,
   "metadata": {
    "_cell_guid": "0bcfa6f4-4481-4797-a765-cadb5e83600d",
    "_uuid": "7284083d5375785b22b14d2aa725ea9652cf14a4",
    "collapsed": true
   },
   "outputs": [],
   "source": [
    "train_mean = train_mean.rename(columns={'price': 'price_mean'})\n",
    "train_min = train_min.rename(columns={'price': 'price_min'})\n",
    "train_max = train_max.rename(columns={'price': 'price_max'})\n",
    "train_med = train_med.rename(columns={'price': 'price_med'})\n",
    "train_cou = train_cou.rename(columns={'price': 'price_cou'})\n",
    "col_1 =['brand_name']\n",
    "col_2 =['brand_name']\n",
    "train_min = train_min.drop(col_2, axis =1)\n",
    "train_max = train_max.drop(col_1, axis =1)\n",
    "train_med = train_med.drop(col_2, axis =1)\n",
    "train_cou = train_cou.drop(col_2, axis =1)"
   ]
  },
  {
   "cell_type": "code",
   "execution_count": null,
   "metadata": {
    "_cell_guid": "55bd98af-5912-4c61-9f89-bf5a6fa429a5",
    "_uuid": "1660f2b30e1a7b941ecf6691b11103d9a116518f",
    "collapsed": true
   },
   "outputs": [],
   "source": [
    "brand =  pd.concat([train_mean,train_min, train_max,train_med,train_cou], axis = 1)"
   ]
  },
  {
   "cell_type": "code",
   "execution_count": null,
   "metadata": {
    "_cell_guid": "fe0a5449-345c-4b82-8c76-0adf24867d0e",
    "_uuid": "5f5497152c3d2eb1e7966cfac7a9e916411ddd34",
    "collapsed": true
   },
   "outputs": [],
   "source": [
    "train[\"category_name\"] = train[\"category_name\"].fillna(\"None\")\n",
    "test[\"category_name\"] = test[\"category_name\"].fillna(\"None\")"
   ]
  },
  {
   "cell_type": "code",
   "execution_count": null,
   "metadata": {
    "_cell_guid": "03c42d29-de6b-4af5-ab00-669574e53831",
    "_uuid": "39102aa2de38fa4b7e00e5320988de3a8bf949c2",
    "collapsed": true
   },
   "outputs": [],
   "source": [
    "splitted_date = train['category_name'].str.split('/', expand=True)\n",
    "splitted_date.columns = ['cat_1', 'cat_2', 'cat_3', 'cat_4', 'cat_5']\n",
    "train = pd.concat([train,splitted_date ], axis = 1)"
   ]
  },
  {
   "cell_type": "code",
   "execution_count": null,
   "metadata": {
    "_cell_guid": "d1477f13-60f7-4816-b280-e5ebbdf35044",
    "_uuid": "64c2b0e91a533c013417ac81f0425b64749f5257",
    "collapsed": true
   },
   "outputs": [],
   "source": [
    "splitted_date = test['category_name'].str.split('/', expand=True)\n",
    "splitted_date.columns = ['cat_1', 'cat_2', 'cat_3', 'cat_4', 'cat_5']\n",
    "test = pd.concat([test,splitted_date ], axis = 1)"
   ]
  },
  {
   "cell_type": "code",
   "execution_count": null,
   "metadata": {
    "_cell_guid": "be751198-75af-4971-b927-cfffb6e97ce6",
    "_uuid": "8566f5b0964974404267a68c59cacf020161b870",
    "collapsed": true
   },
   "outputs": [],
   "source": [
    "train[\"cat_2\"] = train[\"cat_2\"].fillna(\"None\")\n",
    "train[\"cat_3\"] = train[\"cat_3\"].fillna(\"None\")\n",
    "train[\"cat_4\"] = train[\"cat_4\"].fillna(\"None\")\n",
    "train[\"cat_5\"] = train[\"cat_5\"].fillna(\"None\")\n",
    "test[\"cat_2\"] = test[\"cat_2\"].fillna(\"None\")\n",
    "test[\"cat_3\"] = test[\"cat_3\"].fillna(\"None\")\n",
    "test[\"cat_4\"] = test[\"cat_4\"].fillna(\"None\")\n",
    "test[\"cat_5\"] = test[\"cat_5\"].fillna(\"None\")"
   ]
  },
  {
   "cell_type": "code",
   "execution_count": null,
   "metadata": {
    "_cell_guid": "50ddeb48-4aed-4129-8a3a-4a7b1a428b38",
    "_uuid": "b80c2313fa69e8e927b32174d228eee9059399d1",
    "collapsed": true
   },
   "outputs": [],
   "source": [
    "train['cate_f_1'] = train['category_name'].str.contains('Women')\n",
    "train['cate_f_2'] = train['category_name'].str.contains('Men')\n",
    "train['cate_f_3'] = train['category_name'].str.contains('Kids')\n",
    "train['cate_f_4'] = train['category_name'].str.contains('Electronics')\n",
    "train['cate_f_5'] = train['category_name'].str.contains('Jewelry')"
   ]
  },
  {
   "cell_type": "code",
   "execution_count": null,
   "metadata": {
    "_cell_guid": "27393908-1289-432b-a44d-f1b76138fb57",
    "_uuid": "23294e038b61cd023f6f330ab04136743b6f7d6c",
    "collapsed": true
   },
   "outputs": [],
   "source": [
    "train['cate_f_1'] = train['cate_f_1'].replace([False,True],[\"0\",\"1\"])\n",
    "train['cate_f_2'] = train['cate_f_2'].replace([False,True],[\"0\",\"1\"])\n",
    "train['cate_f_3'] = train['cate_f_3'].replace([False,True],[\"0\",\"1\"])\n",
    "train['cate_f_4'] = train['cate_f_4'].replace([False,True],[\"0\",\"1\"])\n",
    "train['cate_f_5'] = train['cate_f_5'].replace([False,True],[\"0\",\"1\"])"
   ]
  },
  {
   "cell_type": "code",
   "execution_count": null,
   "metadata": {
    "_cell_guid": "4aaa7169-fe3e-4028-bfdc-9089185eaa1a",
    "_uuid": "66fb0ac6b90d7d3a8ba5dd3a16781b90908a8fff",
    "collapsed": true
   },
   "outputs": [],
   "source": [
    "train['cate_f_f'] = train[['cate_f_1', 'cate_f_2','cate_f_3','cate_f_4','cate_f_5']].apply(lambda x: '_'.join(x), axis=1)"
   ]
  },
  {
   "cell_type": "code",
   "execution_count": null,
   "metadata": {
    "_cell_guid": "88358cb3-a782-464c-97f0-df82242aeb95",
    "_uuid": "ecb51321578d2a3d3ae16cd3c283090f462b544d",
    "collapsed": true
   },
   "outputs": [],
   "source": [
    "test['cate_f_1'] = test['category_name'].str.contains('Women')\n",
    "test['cate_f_2'] = test['category_name'].str.contains('Men')\n",
    "test['cate_f_3'] = test['category_name'].str.contains('Kids')\n",
    "test['cate_f_4'] = test['category_name'].str.contains('Electronics')\n",
    "test['cate_f_5'] = test['category_name'].str.contains('Jewelry')"
   ]
  },
  {
   "cell_type": "code",
   "execution_count": null,
   "metadata": {
    "_cell_guid": "24e89d07-aed6-4b15-9daa-affa75ec881f",
    "_uuid": "39e5f95af47929c94163cfcdff07114dcf2a72c3",
    "collapsed": true
   },
   "outputs": [],
   "source": [
    "test['cate_f_1'] = test['cate_f_1'].replace([False,True],[\"0\",\"1\"])\n",
    "test['cate_f_2'] = test['cate_f_2'].replace([False,True],[\"0\",\"1\"])\n",
    "test['cate_f_3'] = test['cate_f_3'].replace([False,True],[\"0\",\"1\"])\n",
    "test['cate_f_4'] = test['cate_f_4'].replace([False,True],[\"0\",\"1\"])\n",
    "test['cate_f_5'] = test['cate_f_5'].replace([False,True],[\"0\",\"1\"])"
   ]
  },
  {
   "cell_type": "code",
   "execution_count": null,
   "metadata": {
    "_cell_guid": "a03d0272-08f4-4821-8d60-776fa121b701",
    "_uuid": "ee76f619e0f7200d20b818759f6348f0a8686496",
    "collapsed": true
   },
   "outputs": [],
   "source": [
    "test['cate_f_f'] = test[['cate_f_1', 'cate_f_2','cate_f_3','cate_f_4','cate_f_5']].apply(lambda x: '_'.join(x), axis=1)"
   ]
  },
  {
   "cell_type": "code",
   "execution_count": null,
   "metadata": {
    "_cell_guid": "de1bf3bb-7fe3-4393-a5ce-852f1e29aab1",
    "_uuid": "35b44aeb21d6fe42c6a216d1a610d3bf1a7a016d",
    "collapsed": true
   },
   "outputs": [],
   "source": [
    "cat_cat_mean = train.groupby(['cate_f_f'])['price'].mean().reset_index()\n",
    "cat_cat_mean = cat_cat_mean.rename(columns={'price': 'price_mean'})\n",
    "cat_cat_min = train.groupby(['cate_f_f'])['price'].min().reset_index()\n",
    "cat_cat_min = cat_cat_min.rename(columns={'price': 'price_min'})\n",
    "col_1 =['cate_f_f']\n",
    "cat_cat_min = cat_cat_min.drop(col_1, axis =1)\n",
    "cat_cat_max = train.groupby(['cate_f_f'])['price'].max().reset_index()\n",
    "cat_cat_max = cat_cat_max.rename(columns={'price': 'price_max'})\n",
    "cat_cat_max = cat_cat_max.drop(col_1, axis =1)\n",
    "cat_cat_med = train.groupby(['cate_f_f'])['price'].median().reset_index()\n",
    "cat_cat_med = cat_cat_med.rename(columns={'price': 'price_med'})\n",
    "cat_cat_med = cat_cat_med.drop(col_1, axis =1)\n",
    "cat_st = pd.concat([cat_cat_mean,cat_cat_min,cat_cat_max, cat_cat_med], axis =1)"
   ]
  },
  {
   "cell_type": "code",
   "execution_count": null,
   "metadata": {
    "_cell_guid": "363fb8c4-db5e-4c19-a0ea-a94d31ad3714",
    "_uuid": "ba3bc163291a1597bde3e96239b5d957c45633a2",
    "collapsed": true
   },
   "outputs": [],
   "source": [
    "train[\"item_description\"] = train[\"item_description\"].fillna(\"None\")\n",
    "test[\"item_description\"] = test[\"item_description\"].fillna(\"None\")"
   ]
  },
  {
   "cell_type": "code",
   "execution_count": null,
   "metadata": {
    "_cell_guid": "41469624-7f7a-4251-ae3a-efdc269ab68e",
    "_uuid": "ad83125a95e7794617a0e1e54f2c0f4b5b7324fd",
    "collapsed": true
   },
   "outputs": [],
   "source": [
    "train['des_f_1'] = train['item_description'].str.contains('great')\n",
    "train['des_f_2'] = train['item_description'].str.contains('rare')\n",
    "train['des_f_3'] = train['item_description'].str.contains('heavy')\n",
    "train['des_f_4'] = train['item_description'].str.contains('beautiful')\n",
    "train['des_f_5'] = train['item_description'].str.contains('excellent')\n",
    "train['des_f_6'] = train['item_description'].str.contains('amazing')\n",
    "train['des_f_7'] = train['item_description'].str.contains('brand new')"
   ]
  },
  {
   "cell_type": "code",
   "execution_count": null,
   "metadata": {
    "_cell_guid": "28f14087-434a-475a-ac82-1ec40bb4dadc",
    "_uuid": "cd478635639babdcd3f8e260dffc0015a37f23ea",
    "collapsed": true
   },
   "outputs": [],
   "source": [
    "train['des_f_1'] = train['des_f_1'].replace([False,True],[\"0\",\"1\"])\n",
    "train['des_f_2'] = train['des_f_2'].replace([False,True],[\"0\",\"1\"])\n",
    "train['des_f_3'] = train['des_f_3'].replace([False,True],[\"0\",\"1\"])\n",
    "train['des_f_4'] = train['des_f_4'].replace([False,True],[\"0\",\"1\"])\n",
    "train['des_f_5'] = train['des_f_5'].replace([False,True],[\"0\",\"1\"])\n",
    "train['des_f_6'] = train['des_f_6'].replace([False,True],[\"0\",\"1\"])\n",
    "train['des_f_7'] = train['des_f_7'].replace([False,True],[\"0\",\"1\"])\n",
    "train['des_f_f'] = train[['des_f_1', 'des_f_2','des_f_3','des_f_4','des_f_5','des_f_6','des_f_7']].apply(lambda x: '_'.join(x), axis=1)"
   ]
  },
  {
   "cell_type": "code",
   "execution_count": null,
   "metadata": {
    "_cell_guid": "27fbb0f9-681e-48e1-b173-694fce6283e7",
    "_uuid": "e0e307d61b0b14e787161f8f0f2864e771bf21ff",
    "collapsed": true
   },
   "outputs": [],
   "source": [
    "test['des_f_1'] = test['item_description'].str.contains('great')\n",
    "test['des_f_2'] = test['item_description'].str.contains('rare')\n",
    "test['des_f_3'] = test['item_description'].str.contains('heavy')\n",
    "test['des_f_4'] = test['item_description'].str.contains('beautiful')\n",
    "test['des_f_5'] = test['item_description'].str.contains('excellent')\n",
    "test['des_f_6'] = test['item_description'].str.contains('amazing')\n",
    "test['des_f_7'] = test['item_description'].str.contains('brand new')"
   ]
  },
  {
   "cell_type": "code",
   "execution_count": null,
   "metadata": {
    "_cell_guid": "68289770-9ad1-4e5c-b712-2d442eac8c52",
    "_uuid": "4383921b65cf87f3bb5055a4b29b96dcb4d309fb",
    "collapsed": true
   },
   "outputs": [],
   "source": [
    "test['des_f_1'] = test['des_f_1'].replace([False,True],[\"0\",\"1\"])\n",
    "test['des_f_2'] = test['des_f_2'].replace([False,True],[\"0\",\"1\"])\n",
    "test['des_f_3'] = test['des_f_3'].replace([False,True],[\"0\",\"1\"])\n",
    "test['des_f_4'] = test['des_f_4'].replace([False,True],[\"0\",\"1\"])\n",
    "test['des_f_5'] = test['des_f_5'].replace([False,True],[\"0\",\"1\"])\n",
    "test['des_f_6'] = test['des_f_6'].replace([False,True],[\"0\",\"1\"])\n",
    "test['des_f_7'] = test['des_f_7'].replace([False,True],[\"0\",\"1\"])\n",
    "test['des_f_f'] = test[['des_f_1', 'des_f_2','des_f_3','des_f_4','des_f_5','des_f_6','des_f_7']].apply(lambda x: '_'.join(x), axis=1)"
   ]
  },
  {
   "cell_type": "code",
   "execution_count": null,
   "metadata": {
    "_cell_guid": "cd1f7fff-208a-4a9c-b4cf-0ecc5d82555d",
    "_uuid": "123ae5a55800b296efefda0419bc635ade28e7a4",
    "collapsed": true
   },
   "outputs": [],
   "source": [
    "train_des_mean = train.groupby(['des_f_f'])['price'].mean().reset_index()\n",
    "train_des_mean = train_des_mean.rename(columns={'price': 'price_mean_des'})\n",
    "train_des_min = train.groupby(['des_f_f'])['price'].min().reset_index()\n",
    "train_des_min = train_des_min.rename(columns={'price': 'price_min_des'})\n",
    "col_1 =['des_f_f']\n",
    "train_des_min = train_des_min.drop(col_1, axis =1)\n",
    "train_des_max = train.groupby(['des_f_f'])['price'].max().reset_index()\n",
    "train_des_max = train_des_max.rename(columns={'price': 'price_max_des'})\n",
    "train_des_max = train_des_max.drop(col_1, axis =1)\n",
    "train_des_med = train.groupby(['des_f_f'])['price'].median().reset_index()\n",
    "train_des_med = train_des_med.rename(columns={'price': 'price_med_des'})\n",
    "train_des_med = train_des_med.drop(col_1, axis =1)\n",
    "des_st = pd.concat([train_des_mean,train_des_min,train_des_max, train_des_med], axis =1)"
   ]
  },
  {
   "cell_type": "code",
   "execution_count": null,
   "metadata": {
    "_cell_guid": "4f31189c-98ac-4a73-8723-1e727e391859",
    "_uuid": "bef4f40d2036b0b5bc04b48f2a8db825afb0c94b",
    "collapsed": true
   },
   "outputs": [],
   "source": [
    "train[\"price\"] = np.log1p(train[\"price\"])"
   ]
  },
  {
   "cell_type": "code",
   "execution_count": null,
   "metadata": {
    "_cell_guid": "b531624b-9721-48b0-bbeb-7df5c2deb1d8",
    "_uuid": "abdd3aeb54232b49fe5243753092f3a4a05284e1",
    "collapsed": true
   },
   "outputs": [],
   "source": [
    "ntrain = train.shape[0]\n",
    "ntest = test.shape[0]\n",
    "y_train = train.price.values\n",
    "all_data = pd.concat((train, test)).reset_index(drop = True)\n",
    "all_data.drop(['price'], axis = 1, inplace = True)"
   ]
  },
  {
   "cell_type": "code",
   "execution_count": null,
   "metadata": {
    "_cell_guid": "797818ba-2085-4cf7-83e8-447cb8a01912",
    "_uuid": "19820c146852dfd5aa52fea820998e3c11cc9acc",
    "collapsed": true
   },
   "outputs": [],
   "source": [
    "all_data_na = (all_data.isnull().sum()/len(all_data))*100\n",
    "all_data_na = all_data_na.drop(all_data_na[all_data_na == 0].index).sort_values(ascending = False)[:30]\n",
    "missing_data = pd.DataFrame({'Missing Ratio' :all_data_na})\n",
    "missing_data.head(20)"
   ]
  },
  {
   "cell_type": "code",
   "execution_count": null,
   "metadata": {
    "_cell_guid": "f75c6f79-fce0-4eec-ba9b-59d4eae90293",
    "_uuid": "b9ee95455a9bafdda559af11b04f7fa9e2341c59",
    "collapsed": true
   },
   "outputs": [],
   "source": [
    "all_data[\"brand_name\"] = all_data[\"brand_name\"].fillna(\"None\")\n",
    "all_data[\"category_name\"] = all_data[\"category_name\"].fillna(\"None\")\n",
    "all_data[\"item_description\"] = all_data[\"item_description\"].fillna(\"None\")"
   ]
  },
  {
   "cell_type": "code",
   "execution_count": null,
   "metadata": {
    "_cell_guid": "c42d309c-b2bf-43c9-9380-1b8bc0733521",
    "_uuid": "0bbc09104749638c4662ff6dd59ce7d3c5c2f638",
    "collapsed": true
   },
   "outputs": [],
   "source": [
    "all_data = pd.merge(all_data, brand, on =('brand_name'), how='left')\n",
    "all_data = pd.merge(all_data, cat_st, on =('cate_f_f'), how='left')\n",
    "all_data = pd.merge(all_data, des_st, on =('des_f_f'), how='left')"
   ]
  },
  {
   "cell_type": "code",
   "execution_count": null,
   "metadata": {
    "_cell_guid": "ace5144f-ea47-4e50-a9ea-d4330fe3f87d",
    "_uuid": "b336c73d3bf1835fb82feb62b6253b7e225543ce",
    "collapsed": true
   },
   "outputs": [],
   "source": [
    "all_data['name_len'] = all_data['name'].str.len()\n",
    "all_data['description_len'] =all_data['item_description'].str.len()"
   ]
  },
  {
   "cell_type": "code",
   "execution_count": null,
   "metadata": {
    "_cell_guid": "1a7cf099-de48-4399-84b4-cc0012d5e77f",
    "_uuid": "47eaffcab1231db32cd069879c95d420dd829ed7",
    "collapsed": true
   },
   "outputs": [],
   "source": [
    "all_data.head()"
   ]
  },
  {
   "cell_type": "code",
   "execution_count": null,
   "metadata": {
    "_cell_guid": "6e4d02f7-18b5-4b2b-b619-0bd8b8703ec6",
    "_uuid": "20b94dcb2224bce98fab7ded65869899f1f6b4d5",
    "collapsed": true
   },
   "outputs": [],
   "source": [
    "drop_col = ['cate_f_f', 'des_f_f','cate_f_1', 'cate_f_2', 'cate_f_3', 'cate_f_4', 'cate_f_5', 'des_f_1', 'des_f_2', 'des_f_3', 'des_f_4', 'des_f_5', 'des_f_6', 'des_f_7', 'item_description','category_name','name']\n",
    "all_data = all_data.drop(drop_col, axis = 1)"
   ]
  },
  {
   "cell_type": "code",
   "execution_count": null,
   "metadata": {
    "_cell_guid": "bfaeb414-c9c7-44bb-86d9-966cd12e6644",
    "_uuid": "ce097aeda59d248f7991f578dd809d0ec7630067",
    "collapsed": true
   },
   "outputs": [],
   "source": [
    "cat_vars = ( 'brand_name', 'shipping',  'cat_1','cat_2','cat_3','cat_4','cat_5','cou_name')\n",
    "#'item_condition_id',"
   ]
  },
  {
   "cell_type": "code",
   "execution_count": null,
   "metadata": {
    "_cell_guid": "07c1927a-db7f-42da-83b6-e34757b77eb9",
    "_uuid": "d9970671509a8025bba61a7e273df91d206cb725",
    "collapsed": true
   },
   "outputs": [],
   "source": [
    "for v in cat_vars:\n",
    "    all_data[v] = all_data[v].astype('category').cat.as_ordered()"
   ]
  },
  {
   "cell_type": "code",
   "execution_count": null,
   "metadata": {
    "_cell_guid": "c5acfa34-337e-4059-8c58-15b617851ce7",
    "_uuid": "01facc947f9e6df435274a1fa5f68a9df285cd04",
    "collapsed": true
   },
   "outputs": [],
   "source": [
    "all_data.head()"
   ]
  },
  {
   "cell_type": "code",
   "execution_count": null,
   "metadata": {
    "_cell_guid": "0e33af94-9a26-4c73-b17e-e952a70839f8",
    "_uuid": "85fda9b21103302c5d04303b49d14a6124052e8a",
    "collapsed": true
   },
   "outputs": [],
   "source": [
    "for v in cat_vars:\n",
    "    all_data[v] = all_data[v].cat.codes"
   ]
  },
  {
   "cell_type": "code",
   "execution_count": null,
   "metadata": {
    "_cell_guid": "5fc8e1fd-6b8a-444c-a8ce-eca173a84e05",
    "_uuid": "698e006d0bfb8896a9c07043e8d8a616adaa6b32",
    "collapsed": true
   },
   "outputs": [],
   "source": [
    "from sklearn.preprocessing import StandardScaler\n",
    "from sklearn.preprocessing import LabelEncoder\n",
    "from sklearn import *"
   ]
  },
  {
   "cell_type": "code",
   "execution_count": null,
   "metadata": {
    "_cell_guid": "c2e7f7a9-b808-4e54-9369-35fd9e30fc73",
    "_uuid": "dd202465d4fe619c6ee79ea02220126c5cc4e05d",
    "collapsed": true
   },
   "outputs": [],
   "source": [
    "lbl = preprocessing.LabelEncoder()\n",
    "\n",
    "for c in cat_vars:\n",
    "    lbl = LabelEncoder()\n",
    "    lbl.fit(list(train[c].values))\n",
    "    train[c] = lbl.transform(list(train[c].values))\n",
    "    \n",
    "for c in cat_vars:\n",
    "    lbl = LabelEncoder()\n",
    "    lbl.fit(list(test[c].values))\n",
    "    test[c] = lbl.transform(list(test[c].values))"
   ]
  },
  {
   "cell_type": "code",
   "execution_count": null,
   "metadata": {
    "_cell_guid": "fe58832a-1a6b-424f-be82-b77ab25a076d",
    "_uuid": "540c1e79da581f6ea221d10a43ad84031188f0b6",
    "collapsed": true
   },
   "outputs": [],
   "source": [
    "train = all_data[:ntrain]\n",
    "test = all_data[ntrain:]"
   ]
  },
  {
   "cell_type": "code",
   "execution_count": null,
   "metadata": {
    "_cell_guid": "9ba0ca5c-e91a-4240-839a-920c24b93ba3",
    "_uuid": "bd1562f10f45c7d5d525ece72171e32b6a7fa696",
    "collapsed": true
   },
   "outputs": [],
   "source": [
    "def rmsle(y, y_pred):\n",
    "    return np.sqrt(mean_squared_error(y, y_pred))"
   ]
  },
  {
   "cell_type": "code",
   "execution_count": null,
   "metadata": {
    "_cell_guid": "c75bea86-b520-44e2-8026-4ee706cfc731",
    "_uuid": "6b1ec6996e4a9c08dad6f7396eb6b1b393922fcf",
    "collapsed": true
   },
   "outputs": [],
   "source": [
    "model_lgb.fit(train, y_train)\n",
    "lgb_train_pred = model_lgb.predict(train)\n",
    "lgb_pred_2 = np.expm1(model_lgb.predict(test.values))\n",
    "print(rmsle(y_train, lgb_train_pred))"
   ]
  },
  {
   "cell_type": "code",
   "execution_count": null,
   "metadata": {
    "_cell_guid": "175ad7ab-fa55-4577-b532-dbfcd2edf833",
    "_uuid": "b93563e583ef3ccc829fa4c1fc46b91796930b08",
    "collapsed": true
   },
   "outputs": [],
   "source": [
    "model_lgb.score(train, y_train)"
   ]
  },
  {
   "cell_type": "code",
   "execution_count": null,
   "metadata": {
    "_cell_guid": "65e1aca5-40ed-4250-bff8-9979384644db",
    "_uuid": "f5db362b9e80d61c8add133f612e022a4c25a9af",
    "collapsed": true
   },
   "outputs": [],
   "source": [
    "sub = lgb_pred_1*0.5 + lgb_pred_2*0.5"
   ]
  },
  {
   "cell_type": "code",
   "execution_count": null,
   "metadata": {
    "_cell_guid": "489c9f57-648b-4ee8-b58a-170a02049b1c",
    "_uuid": "55de7fb63a9756754f0385985ccca3df9dea0008",
    "collapsed": true
   },
   "outputs": [],
   "source": [
    "df_result = pd.DataFrame()\n",
    "df_result[\"test_id\"] = test_id\n",
    "df_result[\"price\"] = sub\n",
    "df_result.head()\n",
    "df_result.to_csv(\"submit_1227_2.csv\",index = False)"
   ]
  },
  {
   "cell_type": "code",
   "execution_count": null,
   "metadata": {
    "_cell_guid": "6c57d2e2-036a-492c-ba98-f9641f971ec0",
    "_uuid": "e4963004f01b8c87bbe26f2c7df569b95855fa39",
    "collapsed": true
   },
   "outputs": [],
   "source": []
  }
 ],
 "metadata": {
  "kernelspec": {
   "display_name": "Python 3",
   "language": "python",
   "name": "python3"
  },
  "language_info": {
   "codemirror_mode": {
    "name": "ipython",
    "version": 3
   },
   "file_extension": ".py",
   "mimetype": "text/x-python",
   "name": "python",
   "nbconvert_exporter": "python",
   "pygments_lexer": "ipython3",
   "version": "3.6.1"
  }
 },
 "nbformat": 4,
 "nbformat_minor": 1
}
