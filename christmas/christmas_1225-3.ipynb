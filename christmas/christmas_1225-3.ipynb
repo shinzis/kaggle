{
 "cells": [
  {
   "cell_type": "code",
   "execution_count": 39,
   "metadata": {
    "collapsed": true
   },
   "outputs": [],
   "source": [
    "import os\n",
    "import pandas as pd\n",
    "import numpy as np\n",
    "from scipy.optimize import linear_sum_assignment\n",
    "import datetime as dt\n",
    "from collections import defaultdict, Counter\n",
    "from tqdm import tqdm\n",
    "import matplotlib.pyplot as plt\n",
    "import datetime as dt\n",
    "plt.rcParams['figure.figsize'] = [16, 10]\n",
    "plt.rcParams['font.size'] = 16\n",
    "import seaborn as sns"
   ]
  },
  {
   "cell_type": "code",
   "execution_count": 3,
   "metadata": {
    "collapsed": true
   },
   "outputs": [],
   "source": [
    "import pandas as pd\n",
    "from keras.layers import Dense\n",
    "from keras.models import Sequential\n",
    "\n",
    "child_wishes = pd.read_csv('/Users/suzukishinji/kaggle/christmas/child_wishlist_v2.csv', header=None)\n",
    "targets = pd.read_csv('/Users/suzukishinji/kaggle/christmas/sample_submission_random_v2.csv')['GiftId']\n",
    "child_wishes['target'] = targets"
   ]
  },
  {
   "cell_type": "code",
   "execution_count": 4,
   "metadata": {
    "collapsed": true
   },
   "outputs": [],
   "source": [
    "train_data = pd.DataFrame()\n",
    "valid_data = pd.DataFrame()\n",
    "for gift_id in range(1000):\n",
    "    train_split = child_wishes.loc[child_wishes['target'] == gift_id].iloc[:80]\n",
    "    valid_split = child_wishes.loc[child_wishes['target'] == gift_id].iloc[80:100]\n",
    "    train_data = train_data.append(train_split)\n",
    "    valid_data = valid_data.append(valid_split)\n",
    "\n",
    "# Shuffle the training data\n",
    "train_data = train_data.sample(frac=1)"
   ]
  },
  {
   "cell_type": "code",
   "execution_count": 5,
   "metadata": {},
   "outputs": [
    {
     "name": "stdout",
     "output_type": "stream",
     "text": [
      "Shapes: X_train: (80000, 101), y_train: (80000, 1000), X_valid: (20000, 101), y_valid: (20000, 1000)\n"
     ]
    }
   ],
   "source": [
    "y_train = pd.get_dummies(train_data['target']).values\n",
    "X_train = train_data.drop('target', axis=1).values\n",
    "y_valid = pd.get_dummies(valid_data['target']).values\n",
    "X_valid = valid_data.drop('target', axis=1).values\n",
    "\n",
    "print('Shapes: X_train: %s, y_train: %s, X_valid: %s, y_valid: %s' % \n",
    "      (X_train.shape, y_train.shape, X_valid.shape, y_valid.shape))"
   ]
  },
  {
   "cell_type": "code",
   "execution_count": 8,
   "metadata": {},
   "outputs": [
    {
     "name": "stdout",
     "output_type": "stream",
     "text": [
      "Train on 80000 samples, validate on 20000 samples\n",
      "Epoch 1/2\n",
      "80000/80000 [==============================] - 35s - loss: 16.1022 - acc: 9.8750e-04 - val_loss: 16.1020 - val_acc: 1.0000e-03\n",
      "Epoch 2/2\n",
      "80000/80000 [==============================] - 36s - loss: 16.1020 - acc: 1.0000e-03 - val_loss: 16.1020 - val_acc: 1.0000e-03\n"
     ]
    },
    {
     "data": {
      "text/plain": [
       "<keras.callbacks.History at 0x1218e0cc0>"
      ]
     },
     "execution_count": 8,
     "metadata": {},
     "output_type": "execute_result"
    }
   ],
   "source": [
    "model = Sequential()\n",
    "model.add(Dense(200, activation='relu', input_shape=(101,)))\n",
    "model.add(Dense(200, activation='relu'))\n",
    "model.add(Dense(1000, activation='softmax'))\n",
    "model.compile(optimizer='rmsprop',\n",
    "              loss='categorical_crossentropy',\n",
    "              metrics=['accuracy'])\n",
    "model.fit(X_train, y_train, validation_data=(X_valid, y_valid), epochs=2)"
   ]
  },
  {
   "cell_type": "code",
   "execution_count": 9,
   "metadata": {},
   "outputs": [
    {
     "name": "stdout",
     "output_type": "stream",
     "text": [
      " 999584/1000000 [============================>.] - ETA: 0s"
     ]
    }
   ],
   "source": [
    "X_all = child_wishes.drop('target', axis=1).values\n",
    "predicted_probs = model.predict_proba(X_all)"
   ]
  },
  {
   "cell_type": "code",
   "execution_count": 11,
   "metadata": {},
   "outputs": [],
   "source": [
    "child_to_gift = {}\n",
    "# Keep track of how many gifts there are left to give\n",
    "gift_counts = dict((gift_id, 1000) for gift_id in range(1000))\n",
    "available_gifts = gift_counts.keys()\n",
    "\n",
    "for i, gift_probs in enumerate(predicted_probs):\n",
    "    child_id = child_wishes.iloc[i, 0]\n",
    "\n",
    "    # Ignore children (twins) that already have a gift\n",
    "    if child_id in child_to_gift:\n",
    "        continue\n",
    "\n",
    "    candidate_gifts = available_gifts\n",
    "    # If this is a twin we need the gift two times\n",
    "    if child_id < 4000:\n",
    "        candidate_gifts = [g for g in available_gifts if gift_counts[g] >= 2]\n",
    "\n",
    "    # Get the candidate gift with the highest probability\n",
    "    gift_id = max(candidate_gifts, key=lambda gift_id: gift_probs[gift_id])\n",
    "\n",
    "    child_to_gift[child_id] = gift_id\n",
    "    gift_counts[gift_id] -= 1\n",
    "\n",
    "    # If this is a twin, assign the gift to his other sibling as well\n",
    "    if child_id < 4000:\n",
    "        sibling_id = child_id + 1 if child_id % 2 == 0 else child_id - 1\n",
    "        child_to_gift[sibling_id] = gift_id\n",
    "        gift_counts[gift_id] -= 1\n",
    "\n",
    "    # Recalculate the available gifts\n",
    "    available_gifts = [g for g in available_gifts if gift_counts[g] > 0]\n",
    "    \n",
    "pred = sorted(child_to_gift.items(), key= lambda t: t[0])"
   ]
  },
  {
   "cell_type": "code",
   "execution_count": 17,
   "metadata": {},
   "outputs": [
    {
     "data": {
      "text/plain": [
       "list"
      ]
     },
     "execution_count": 17,
     "metadata": {},
     "output_type": "execute_result"
    }
   ],
   "source": [
    "type(pred)"
   ]
  },
  {
   "cell_type": "code",
   "execution_count": 26,
   "metadata": {
    "collapsed": true
   },
   "outputs": [],
   "source": [
    "y_pred = pd.DataFrame(pred)"
   ]
  },
  {
   "cell_type": "code",
   "execution_count": 41,
   "metadata": {},
   "outputs": [
    {
     "data": {
      "text/plain": [
       "(1000000, 2)"
      ]
     },
     "execution_count": 41,
     "metadata": {},
     "output_type": "execute_result"
    }
   ],
   "source": [
    "y_pred.shape"
   ]
  },
  {
   "cell_type": "code",
   "execution_count": 38,
   "metadata": {
    "collapsed": true
   },
   "outputs": [],
   "source": [
    "df_result = pd.DataFrame()\n",
    "df_result[\"ChildId\"] = y_pred[0]\n",
    "df_result[\"GiftId\"] = y_pred[1]\n",
    "df_result.head()\n",
    "df_result.to_csv(\"submit_1225_3.csv\",index = False)"
   ]
  },
  {
   "cell_type": "code",
   "execution_count": 42,
   "metadata": {},
   "outputs": [
    {
     "data": {
      "text/html": [
       "<div>\n",
       "<style>\n",
       "    .dataframe thead tr:only-child th {\n",
       "        text-align: right;\n",
       "    }\n",
       "\n",
       "    .dataframe thead th {\n",
       "        text-align: left;\n",
       "    }\n",
       "\n",
       "    .dataframe tbody tr th {\n",
       "        vertical-align: top;\n",
       "    }\n",
       "</style>\n",
       "<table border=\"1\" class=\"dataframe\">\n",
       "  <thead>\n",
       "    <tr style=\"text-align: right;\">\n",
       "      <th></th>\n",
       "      <th>ChildId</th>\n",
       "      <th>GiftId</th>\n",
       "    </tr>\n",
       "  </thead>\n",
       "  <tbody>\n",
       "    <tr>\n",
       "      <th>0</th>\n",
       "      <td>0</td>\n",
       "      <td>749</td>\n",
       "    </tr>\n",
       "    <tr>\n",
       "      <th>1</th>\n",
       "      <td>1</td>\n",
       "      <td>749</td>\n",
       "    </tr>\n",
       "    <tr>\n",
       "      <th>2</th>\n",
       "      <td>2</td>\n",
       "      <td>749</td>\n",
       "    </tr>\n",
       "    <tr>\n",
       "      <th>3</th>\n",
       "      <td>3</td>\n",
       "      <td>749</td>\n",
       "    </tr>\n",
       "    <tr>\n",
       "      <th>4</th>\n",
       "      <td>4</td>\n",
       "      <td>40</td>\n",
       "    </tr>\n",
       "    <tr>\n",
       "      <th>5</th>\n",
       "      <td>5</td>\n",
       "      <td>40</td>\n",
       "    </tr>\n",
       "    <tr>\n",
       "      <th>6</th>\n",
       "      <td>6</td>\n",
       "      <td>40</td>\n",
       "    </tr>\n",
       "    <tr>\n",
       "      <th>7</th>\n",
       "      <td>7</td>\n",
       "      <td>40</td>\n",
       "    </tr>\n",
       "    <tr>\n",
       "      <th>8</th>\n",
       "      <td>8</td>\n",
       "      <td>985</td>\n",
       "    </tr>\n",
       "    <tr>\n",
       "      <th>9</th>\n",
       "      <td>9</td>\n",
       "      <td>985</td>\n",
       "    </tr>\n",
       "    <tr>\n",
       "      <th>10</th>\n",
       "      <td>10</td>\n",
       "      <td>981</td>\n",
       "    </tr>\n",
       "    <tr>\n",
       "      <th>11</th>\n",
       "      <td>11</td>\n",
       "      <td>981</td>\n",
       "    </tr>\n",
       "    <tr>\n",
       "      <th>12</th>\n",
       "      <td>12</td>\n",
       "      <td>749</td>\n",
       "    </tr>\n",
       "    <tr>\n",
       "      <th>13</th>\n",
       "      <td>13</td>\n",
       "      <td>749</td>\n",
       "    </tr>\n",
       "    <tr>\n",
       "      <th>14</th>\n",
       "      <td>14</td>\n",
       "      <td>981</td>\n",
       "    </tr>\n",
       "    <tr>\n",
       "      <th>15</th>\n",
       "      <td>15</td>\n",
       "      <td>981</td>\n",
       "    </tr>\n",
       "    <tr>\n",
       "      <th>16</th>\n",
       "      <td>16</td>\n",
       "      <td>793</td>\n",
       "    </tr>\n",
       "    <tr>\n",
       "      <th>17</th>\n",
       "      <td>17</td>\n",
       "      <td>793</td>\n",
       "    </tr>\n",
       "    <tr>\n",
       "      <th>18</th>\n",
       "      <td>18</td>\n",
       "      <td>749</td>\n",
       "    </tr>\n",
       "    <tr>\n",
       "      <th>19</th>\n",
       "      <td>19</td>\n",
       "      <td>749</td>\n",
       "    </tr>\n",
       "    <tr>\n",
       "      <th>20</th>\n",
       "      <td>20</td>\n",
       "      <td>985</td>\n",
       "    </tr>\n",
       "    <tr>\n",
       "      <th>21</th>\n",
       "      <td>21</td>\n",
       "      <td>985</td>\n",
       "    </tr>\n",
       "    <tr>\n",
       "      <th>22</th>\n",
       "      <td>22</td>\n",
       "      <td>749</td>\n",
       "    </tr>\n",
       "    <tr>\n",
       "      <th>23</th>\n",
       "      <td>23</td>\n",
       "      <td>749</td>\n",
       "    </tr>\n",
       "    <tr>\n",
       "      <th>24</th>\n",
       "      <td>24</td>\n",
       "      <td>985</td>\n",
       "    </tr>\n",
       "    <tr>\n",
       "      <th>25</th>\n",
       "      <td>25</td>\n",
       "      <td>985</td>\n",
       "    </tr>\n",
       "    <tr>\n",
       "      <th>26</th>\n",
       "      <td>26</td>\n",
       "      <td>749</td>\n",
       "    </tr>\n",
       "    <tr>\n",
       "      <th>27</th>\n",
       "      <td>27</td>\n",
       "      <td>749</td>\n",
       "    </tr>\n",
       "    <tr>\n",
       "      <th>28</th>\n",
       "      <td>28</td>\n",
       "      <td>385</td>\n",
       "    </tr>\n",
       "    <tr>\n",
       "      <th>29</th>\n",
       "      <td>29</td>\n",
       "      <td>385</td>\n",
       "    </tr>\n",
       "    <tr>\n",
       "      <th>...</th>\n",
       "      <td>...</td>\n",
       "      <td>...</td>\n",
       "    </tr>\n",
       "    <tr>\n",
       "      <th>999970</th>\n",
       "      <td>999970</td>\n",
       "      <td>999</td>\n",
       "    </tr>\n",
       "    <tr>\n",
       "      <th>999971</th>\n",
       "      <td>999971</td>\n",
       "      <td>999</td>\n",
       "    </tr>\n",
       "    <tr>\n",
       "      <th>999972</th>\n",
       "      <td>999972</td>\n",
       "      <td>999</td>\n",
       "    </tr>\n",
       "    <tr>\n",
       "      <th>999973</th>\n",
       "      <td>999973</td>\n",
       "      <td>999</td>\n",
       "    </tr>\n",
       "    <tr>\n",
       "      <th>999974</th>\n",
       "      <td>999974</td>\n",
       "      <td>999</td>\n",
       "    </tr>\n",
       "    <tr>\n",
       "      <th>999975</th>\n",
       "      <td>999975</td>\n",
       "      <td>999</td>\n",
       "    </tr>\n",
       "    <tr>\n",
       "      <th>999976</th>\n",
       "      <td>999976</td>\n",
       "      <td>999</td>\n",
       "    </tr>\n",
       "    <tr>\n",
       "      <th>999977</th>\n",
       "      <td>999977</td>\n",
       "      <td>999</td>\n",
       "    </tr>\n",
       "    <tr>\n",
       "      <th>999978</th>\n",
       "      <td>999978</td>\n",
       "      <td>999</td>\n",
       "    </tr>\n",
       "    <tr>\n",
       "      <th>999979</th>\n",
       "      <td>999979</td>\n",
       "      <td>999</td>\n",
       "    </tr>\n",
       "    <tr>\n",
       "      <th>999980</th>\n",
       "      <td>999980</td>\n",
       "      <td>999</td>\n",
       "    </tr>\n",
       "    <tr>\n",
       "      <th>999981</th>\n",
       "      <td>999981</td>\n",
       "      <td>999</td>\n",
       "    </tr>\n",
       "    <tr>\n",
       "      <th>999982</th>\n",
       "      <td>999982</td>\n",
       "      <td>999</td>\n",
       "    </tr>\n",
       "    <tr>\n",
       "      <th>999983</th>\n",
       "      <td>999983</td>\n",
       "      <td>999</td>\n",
       "    </tr>\n",
       "    <tr>\n",
       "      <th>999984</th>\n",
       "      <td>999984</td>\n",
       "      <td>999</td>\n",
       "    </tr>\n",
       "    <tr>\n",
       "      <th>999985</th>\n",
       "      <td>999985</td>\n",
       "      <td>999</td>\n",
       "    </tr>\n",
       "    <tr>\n",
       "      <th>999986</th>\n",
       "      <td>999986</td>\n",
       "      <td>999</td>\n",
       "    </tr>\n",
       "    <tr>\n",
       "      <th>999987</th>\n",
       "      <td>999987</td>\n",
       "      <td>999</td>\n",
       "    </tr>\n",
       "    <tr>\n",
       "      <th>999988</th>\n",
       "      <td>999988</td>\n",
       "      <td>999</td>\n",
       "    </tr>\n",
       "    <tr>\n",
       "      <th>999989</th>\n",
       "      <td>999989</td>\n",
       "      <td>999</td>\n",
       "    </tr>\n",
       "    <tr>\n",
       "      <th>999990</th>\n",
       "      <td>999990</td>\n",
       "      <td>999</td>\n",
       "    </tr>\n",
       "    <tr>\n",
       "      <th>999991</th>\n",
       "      <td>999991</td>\n",
       "      <td>999</td>\n",
       "    </tr>\n",
       "    <tr>\n",
       "      <th>999992</th>\n",
       "      <td>999992</td>\n",
       "      <td>999</td>\n",
       "    </tr>\n",
       "    <tr>\n",
       "      <th>999993</th>\n",
       "      <td>999993</td>\n",
       "      <td>999</td>\n",
       "    </tr>\n",
       "    <tr>\n",
       "      <th>999994</th>\n",
       "      <td>999994</td>\n",
       "      <td>999</td>\n",
       "    </tr>\n",
       "    <tr>\n",
       "      <th>999995</th>\n",
       "      <td>999995</td>\n",
       "      <td>999</td>\n",
       "    </tr>\n",
       "    <tr>\n",
       "      <th>999996</th>\n",
       "      <td>999996</td>\n",
       "      <td>999</td>\n",
       "    </tr>\n",
       "    <tr>\n",
       "      <th>999997</th>\n",
       "      <td>999997</td>\n",
       "      <td>999</td>\n",
       "    </tr>\n",
       "    <tr>\n",
       "      <th>999998</th>\n",
       "      <td>999998</td>\n",
       "      <td>999</td>\n",
       "    </tr>\n",
       "    <tr>\n",
       "      <th>999999</th>\n",
       "      <td>999999</td>\n",
       "      <td>999</td>\n",
       "    </tr>\n",
       "  </tbody>\n",
       "</table>\n",
       "<p>1000000 rows × 2 columns</p>\n",
       "</div>"
      ],
      "text/plain": [
       "        ChildId  GiftId\n",
       "0             0     749\n",
       "1             1     749\n",
       "2             2     749\n",
       "3             3     749\n",
       "4             4      40\n",
       "5             5      40\n",
       "6             6      40\n",
       "7             7      40\n",
       "8             8     985\n",
       "9             9     985\n",
       "10           10     981\n",
       "11           11     981\n",
       "12           12     749\n",
       "13           13     749\n",
       "14           14     981\n",
       "15           15     981\n",
       "16           16     793\n",
       "17           17     793\n",
       "18           18     749\n",
       "19           19     749\n",
       "20           20     985\n",
       "21           21     985\n",
       "22           22     749\n",
       "23           23     749\n",
       "24           24     985\n",
       "25           25     985\n",
       "26           26     749\n",
       "27           27     749\n",
       "28           28     385\n",
       "29           29     385\n",
       "...         ...     ...\n",
       "999970   999970     999\n",
       "999971   999971     999\n",
       "999972   999972     999\n",
       "999973   999973     999\n",
       "999974   999974     999\n",
       "999975   999975     999\n",
       "999976   999976     999\n",
       "999977   999977     999\n",
       "999978   999978     999\n",
       "999979   999979     999\n",
       "999980   999980     999\n",
       "999981   999981     999\n",
       "999982   999982     999\n",
       "999983   999983     999\n",
       "999984   999984     999\n",
       "999985   999985     999\n",
       "999986   999986     999\n",
       "999987   999987     999\n",
       "999988   999988     999\n",
       "999989   999989     999\n",
       "999990   999990     999\n",
       "999991   999991     999\n",
       "999992   999992     999\n",
       "999993   999993     999\n",
       "999994   999994     999\n",
       "999995   999995     999\n",
       "999996   999996     999\n",
       "999997   999997     999\n",
       "999998   999998     999\n",
       "999999   999999     999\n",
       "\n",
       "[1000000 rows x 2 columns]"
      ]
     },
     "execution_count": 42,
     "metadata": {},
     "output_type": "execute_result"
    }
   ],
   "source": [
    "submit_1 = pd.read_csv('/Users/suzukishinji/kaggle/christmas/submit_1225_3.csv')\n",
    "submit_1"
   ]
  },
  {
   "cell_type": "code",
   "execution_count": 13,
   "metadata": {
    "collapsed": true
   },
   "outputs": [],
   "source": [
    "import numpy as np\n",
    "from collections import Counter\n",
    "\n",
    "n_children = 1000000  # n children to give\n",
    "n_gift_type = 1000  # n types of gifts available\n",
    "n_gift_quantity = 1000  # each type of gifts are limited to this quantity\n",
    "n_gift_pref = 10  # number of gifts a child ranks\n",
    "n_child_pref = 1000  # number of children a gift ranks\n",
    "twins = int(0.04 * n_children)  # 0.4% of all population, rounded to the closest even number\n",
    "ratio_gift_happiness = 2\n",
    "ratio_child_happiness = 2\n",
    "\n",
    "\n",
    "def avg_normalized_happiness(pred, child_pref, gift_pref):\n",
    "    # check if number of each gift exceeds n_gift_quantity\n",
    "    gift_counts = Counter(elem[1] for elem in pred)\n",
    "    for count in gift_counts.values():\n",
    "        assert count <= n_gift_quantity\n",
    "\n",
    "    # check if twins have the same gift\n",
    "    for t1 in range(0, twins, 2):\n",
    "        twin1 = pred[t1]\n",
    "        twin2 = pred[t1 + 1]\n",
    "        assert twin1[1] == twin2[1]\n",
    "\n",
    "    max_child_happiness = n_gift_pref * ratio_child_happiness\n",
    "    max_gift_happiness = n_child_pref * ratio_gift_happiness\n",
    "    total_child_happiness = 0\n",
    "    total_gift_happiness = np.zeros(n_gift_type)\n",
    "\n",
    "    for row in pred:\n",
    "        child_id = row[0]\n",
    "        gift_id = row[1]\n",
    "\n",
    "        # check if child_id and gift_id exist\n",
    "        assert child_id < n_children\n",
    "        assert gift_id < n_gift_type\n",
    "        assert child_id >= 0\n",
    "        assert gift_id >= 0\n",
    "        child_happiness = (n_gift_pref - np.where(gift_pref[child_id] == gift_id)[0]) * ratio_child_happiness\n",
    "        if not child_happiness:\n",
    "            child_happiness = -1\n",
    "\n",
    "        gift_happiness = (n_child_pref - np.where(child_pref[gift_id] == child_id)[0]) * ratio_gift_happiness\n",
    "        if not gift_happiness:\n",
    "            gift_happiness = -1\n",
    "\n",
    "        total_child_happiness += child_happiness\n",
    "        total_gift_happiness[gift_id] += gift_happiness\n",
    "\n",
    "    # print(max_child_happiness, max_gift_happiness\n",
    "    print('normalized child happiness=',\n",
    "          float(total_child_happiness) / (float(n_children) * float(max_child_happiness)), \\\n",
    "          ', normalized gift happiness', np.mean(total_gift_happiness) / float(max_gift_happiness * n_gift_quantity))\n",
    "    return float(total_child_happiness) / (float(n_children) * float(max_child_happiness)) + np.mean(\n",
    "        total_gift_happiness) / float(max_gift_happiness * n_gift_quantity)"
   ]
  },
  {
   "cell_type": "code",
   "execution_count": 18,
   "metadata": {},
   "outputs": [],
   "source": [
    "gift_pref = pd.read_csv('/Users/suzukishinji/kaggle/christmas/gift_goodkids_v2.csv', header=None).drop(0, 1).values\n",
    "child_pref = pd.read_csv('/Users/suzukishinji/kaggle/christmas/child_wishlist_v2.csv', header=None).drop(0, 1).values"
   ]
  },
  {
   "cell_type": "code",
   "execution_count": 25,
   "metadata": {},
   "outputs": [
    {
     "data": {
      "text/plain": [
       "(1000, 1000)"
      ]
     },
     "execution_count": 25,
     "metadata": {},
     "output_type": "execute_result"
    }
   ],
   "source": [
    "gift_pref.shape"
   ]
  },
  {
   "cell_type": "code",
   "execution_count": 20,
   "metadata": {},
   "outputs": [
    {
     "ename": "IndexError",
     "evalue": "index 1000 is out of bounds for axis 0 with size 1000",
     "output_type": "error",
     "traceback": [
      "\u001b[0;31m---------------------------------------------------------------------------\u001b[0m",
      "\u001b[0;31mIndexError\u001b[0m                                Traceback (most recent call last)",
      "\u001b[0;32m<ipython-input-20-0ff708df8898>\u001b[0m in \u001b[0;36m<module>\u001b[0;34m()\u001b[0m\n\u001b[0;32m----> 1\u001b[0;31m \u001b[0mscore\u001b[0m \u001b[0;34m=\u001b[0m \u001b[0mavg_normalized_happiness\u001b[0m\u001b[0;34m(\u001b[0m\u001b[0mpred\u001b[0m\u001b[0;34m,\u001b[0m \u001b[0mchild_pref\u001b[0m\u001b[0;34m,\u001b[0m \u001b[0mgift_pref\u001b[0m\u001b[0;34m)\u001b[0m\u001b[0;34m\u001b[0m\u001b[0m\n\u001b[0m",
      "\u001b[0;32m<ipython-input-13-4b64cbe6d280>\u001b[0m in \u001b[0;36mavg_normalized_happiness\u001b[0;34m(pred, child_pref, gift_pref)\u001b[0m\n\u001b[1;32m     38\u001b[0m         \u001b[0;32massert\u001b[0m \u001b[0mchild_id\u001b[0m \u001b[0;34m>=\u001b[0m \u001b[0;36m0\u001b[0m\u001b[0;34m\u001b[0m\u001b[0m\n\u001b[1;32m     39\u001b[0m         \u001b[0;32massert\u001b[0m \u001b[0mgift_id\u001b[0m \u001b[0;34m>=\u001b[0m \u001b[0;36m0\u001b[0m\u001b[0;34m\u001b[0m\u001b[0m\n\u001b[0;32m---> 40\u001b[0;31m         \u001b[0mchild_happiness\u001b[0m \u001b[0;34m=\u001b[0m \u001b[0;34m(\u001b[0m\u001b[0mn_gift_pref\u001b[0m \u001b[0;34m-\u001b[0m \u001b[0mnp\u001b[0m\u001b[0;34m.\u001b[0m\u001b[0mwhere\u001b[0m\u001b[0;34m(\u001b[0m\u001b[0mgift_pref\u001b[0m\u001b[0;34m[\u001b[0m\u001b[0mchild_id\u001b[0m\u001b[0;34m]\u001b[0m \u001b[0;34m==\u001b[0m \u001b[0mgift_id\u001b[0m\u001b[0;34m)\u001b[0m\u001b[0;34m[\u001b[0m\u001b[0;36m0\u001b[0m\u001b[0;34m]\u001b[0m\u001b[0;34m)\u001b[0m \u001b[0;34m*\u001b[0m \u001b[0mratio_child_happiness\u001b[0m\u001b[0;34m\u001b[0m\u001b[0m\n\u001b[0m\u001b[1;32m     41\u001b[0m         \u001b[0;32mif\u001b[0m \u001b[0;32mnot\u001b[0m \u001b[0mchild_happiness\u001b[0m\u001b[0;34m:\u001b[0m\u001b[0;34m\u001b[0m\u001b[0m\n\u001b[1;32m     42\u001b[0m             \u001b[0mchild_happiness\u001b[0m \u001b[0;34m=\u001b[0m \u001b[0;34m-\u001b[0m\u001b[0;36m1\u001b[0m\u001b[0;34m\u001b[0m\u001b[0m\n",
      "\u001b[0;31mIndexError\u001b[0m: index 1000 is out of bounds for axis 0 with size 1000"
     ]
    }
   ],
   "source": [
    "score = avg_normalized_happiness(pred, child_pref, gift_pref)"
   ]
  },
  {
   "cell_type": "code",
   "execution_count": null,
   "metadata": {
    "collapsed": true
   },
   "outputs": [],
   "source": [
    "print(score)"
   ]
  },
  {
   "cell_type": "code",
   "execution_count": null,
   "metadata": {
    "collapsed": true
   },
   "outputs": [],
   "source": [
    "df_result = pd.DataFrame()\n",
    "df_result[\"ChildId\"] = test_air_store_id\n",
    "df_result[\"GiftId\"] = predicted_probs\n",
    "df_result.head()\n",
    "df_result.to_csv(\"submit_1225_3.csv\",index = False)"
   ]
  },
  {
   "cell_type": "code",
   "execution_count": null,
   "metadata": {
    "collapsed": true
   },
   "outputs": [],
   "source": []
  },
  {
   "cell_type": "code",
   "execution_count": 69,
   "metadata": {
    "collapsed": true
   },
   "outputs": [],
   "source": [
    "def my_avg_normalized_happiness(pred):\n",
    "    total_child_happiness = 0\n",
    "    total_gift_happiness = np.zeros(1000)\n",
    "    for c, g in pred:\n",
    "        total_child_happiness +=  -CHILD_HAPPINESS[c][g]\n",
    "        total_gift_happiness[g] += -GIFT_HAPPINESS[g][c]\n",
    "    nch = total_child_happiness / N_CHILDREN\n",
    "    ngh = np.mean(total_gift_happiness) / 1000\n",
    "    print('normalized child happiness', nch)\n",
    "    print('normalized gift happiness', ngh)\n",
    "    return nch + ngh"
   ]
  },
  {
   "cell_type": "code",
   "execution_count": 70,
   "metadata": {
    "collapsed": true
   },
   "outputs": [],
   "source": [
    "def optimize_block(child_block, current_gift_ids):\n",
    "    gift_block = current_gift_ids[child_block]\n",
    "    C = np.zeros((BLOCK_SIZE, BLOCK_SIZE))\n",
    "    for i in range(BLOCK_SIZE):\n",
    "        c = child_block[i]\n",
    "        for j in range(BLOCK_SIZE):\n",
    "            g = GIFT_IDS[gift_block[j]]\n",
    "            C[i, j] = CHILD_HAPPINESS[c][g] + GIFT_HAPPINESS[g][c]\n",
    "    row_ind, col_ind = linear_sum_assignment(C)\n",
    "    return (child_block[row_ind], gift_block[col_ind])"
   ]
  },
  {
   "cell_type": "code",
   "execution_count": 71,
   "metadata": {},
   "outputs": [
    {
     "name": "stdout",
     "output_type": "stream",
     "text": [
      "Block size: 400, n_blocks 2400.0\n"
     ]
    }
   ],
   "source": [
    "BLOCK_SIZE = 400\n",
    "INITIAL_SUBMISSION = '/Users/suzukishinji/kaggle/christmas/sample_submission_random_v2.csv'\n",
    "N_BLOCKS = (N_CHILDREN - TWINS) / BLOCK_SIZE\n",
    "print('Block size: {}, n_blocks {}'.format(BLOCK_SIZE, N_BLOCKS))"
   ]
  },
  {
   "cell_type": "code",
   "execution_count": 72,
   "metadata": {},
   "outputs": [
    {
     "name": "stdout",
     "output_type": "stream",
     "text": [
      "normalized child happiness 0.04621203000047112\n",
      "normalized gift happiness -4.59355e-05\n",
      "0.0461660945005\n"
     ]
    }
   ],
   "source": [
    "subm = pd.read_csv(INITIAL_SUBMISSION)\n",
    "initial_anh = my_avg_normalized_happiness(subm[['ChildId', 'GiftId']].values.tolist())\n",
    "print(initial_anh)\n",
    "subm['gift_rank'] = subm.groupby('GiftId').rank() - 1\n",
    "subm['gift_id'] = subm['GiftId'] * 1000 + subm['gift_rank']\n",
    "subm['gift_id'] = subm['gift_id'].astype(np.int64)\n",
    "current_gift_ids = subm['gift_id'].values"
   ]
  },
  {
   "cell_type": "code",
   "execution_count": null,
   "metadata": {},
   "outputs": [
    {
     "name": "stderr",
     "output_type": "stream",
     "text": [
      "\n",
      "  0%|          | 0/500 [00:00<?, ?it/s]\u001b[A\n",
      "Exception in thread Thread-4:\n",
      "Traceback (most recent call last):\n",
      "  File \"/Users/suzukishinji/anaconda/lib/python3.6/threading.py\", line 916, in _bootstrap_inner\n",
      "    self.run()\n",
      "  File \"/Users/suzukishinji/anaconda/lib/python3.6/site-packages/tqdm/_tqdm.py\", line 144, in run\n",
      "    for instance in self.tqdm_cls._instances:\n",
      "  File \"/Users/suzukishinji/anaconda/lib/python3.6/_weakrefset.py\", line 60, in __iter__\n",
      "    for itemref in self.data:\n",
      "RuntimeError: Set changed size during iteration\n",
      "\n",
      "100%|██████████| 500/500 [26:39<00:00,  3.20s/it]\n"
     ]
    }
   ],
   "source": [
    "start_time = dt.datetime.now()\n",
    "for i in range(1):\n",
    "    child_blocks = np.split(np.random.permutation(range(TWINS, N_CHILDREN)), N_BLOCKS)\n",
    "    for child_block in tqdm(child_blocks[:500]):\n",
    "        cids, gids = optimize_block(child_block, current_gift_ids=current_gift_ids)\n",
    "        current_gift_ids[cids] = gids\n",
    "    subm['GiftId'] = GIFT_IDS[current_gift_ids]\n",
    "    anh = my_avg_normalized_happiness(subm[['ChildId', 'GiftId']].values.tolist())\n",
    "    end_time = dt.datetime.now()\n",
    "    print(i, anh, (end_time-start_time).total_seconds())\n",
    "subm[['ChildId', 'GiftId']].to_csv(\"submit_1225_2.csv\",index = False)"
   ]
  },
  {
   "cell_type": "code",
   "execution_count": null,
   "metadata": {
    "collapsed": true
   },
   "outputs": [],
   "source": [
    "submit_1 = pd.read_csv('/Users/suzukishinji/kaggle/recluit/submit_1225_2.csv')\n",
    "submit_1.head()"
   ]
  }
 ],
 "metadata": {
  "kernelspec": {
   "display_name": "Python 3",
   "language": "python",
   "name": "python3"
  },
  "language_info": {
   "codemirror_mode": {
    "name": "ipython",
    "version": 3
   },
   "file_extension": ".py",
   "mimetype": "text/x-python",
   "name": "python",
   "nbconvert_exporter": "python",
   "pygments_lexer": "ipython3",
   "version": "3.6.1"
  }
 },
 "nbformat": 4,
 "nbformat_minor": 2
}
