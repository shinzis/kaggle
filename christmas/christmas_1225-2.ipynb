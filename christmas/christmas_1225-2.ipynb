{
 "cells": [
  {
   "cell_type": "code",
   "execution_count": 2,
   "metadata": {
    "collapsed": true
   },
   "outputs": [],
   "source": [
    "import numpy   as np\n",
    "import pandas  as pd"
   ]
  },
  {
   "cell_type": "code",
   "execution_count": 3,
   "metadata": {
    "collapsed": true
   },
   "outputs": [],
   "source": [
    "brats = pd.read_csv('/Users/suzukishinji/kaggle/christmas/child_wishlist_v2.csv', header=None, index_col=0).as_matrix()\n",
    "gifts = pd.read_csv('/Users/suzukishinji/kaggle/christmas/gift_goodkids_v2.csv', header=None, index_col=0).as_matrix()\n",
    "submission = pd.read_csv('/Users/suzukishinji/kaggle/christmas/sample_submission_random_v2.csv')"
   ]
  },
  {
   "cell_type": "code",
   "execution_count": 14,
   "metadata": {},
   "outputs": [
    {
     "data": {
      "text/html": [
       "<div>\n",
       "<style>\n",
       "    .dataframe thead tr:only-child th {\n",
       "        text-align: right;\n",
       "    }\n",
       "\n",
       "    .dataframe thead th {\n",
       "        text-align: left;\n",
       "    }\n",
       "\n",
       "    .dataframe tbody tr th {\n",
       "        vertical-align: top;\n",
       "    }\n",
       "</style>\n",
       "<table border=\"1\" class=\"dataframe\">\n",
       "  <thead>\n",
       "    <tr style=\"text-align: right;\">\n",
       "      <th></th>\n",
       "      <th>ChildId</th>\n",
       "      <th>GiftId</th>\n",
       "    </tr>\n",
       "  </thead>\n",
       "  <tbody>\n",
       "    <tr>\n",
       "      <th>0</th>\n",
       "      <td>0</td>\n",
       "      <td>61</td>\n",
       "    </tr>\n",
       "    <tr>\n",
       "      <th>1</th>\n",
       "      <td>1</td>\n",
       "      <td>61</td>\n",
       "    </tr>\n",
       "    <tr>\n",
       "      <th>2</th>\n",
       "      <td>2</td>\n",
       "      <td>61</td>\n",
       "    </tr>\n",
       "    <tr>\n",
       "      <th>3</th>\n",
       "      <td>3</td>\n",
       "      <td>322</td>\n",
       "    </tr>\n",
       "    <tr>\n",
       "      <th>4</th>\n",
       "      <td>4</td>\n",
       "      <td>322</td>\n",
       "    </tr>\n",
       "  </tbody>\n",
       "</table>\n",
       "</div>"
      ],
      "text/plain": [
       "   ChildId  GiftId\n",
       "0        0      61\n",
       "1        1      61\n",
       "2        2      61\n",
       "3        3     322\n",
       "4        4     322"
      ]
     },
     "execution_count": 14,
     "metadata": {},
     "output_type": "execute_result"
    }
   ],
   "source": [
    "submission.head()"
   ]
  },
  {
   "cell_type": "code",
   "execution_count": 51,
   "metadata": {},
   "outputs": [
    {
     "data": {
      "text/plain": [
       "(1000000, 100)"
      ]
     },
     "metadata": {},
     "output_type": "display_data"
    },
    {
     "data": {
      "text/plain": [
       "(1000, 1000)"
      ]
     },
     "metadata": {},
     "output_type": "display_data"
    }
   ],
   "source": [
    "display(child_wish.shape)\n",
    "display(gift.shape)"
   ]
  },
  {
   "cell_type": "code",
   "execution_count": 4,
   "metadata": {
    "collapsed": true
   },
   "outputs": [],
   "source": [
    "TRIPS_COUNT =  5_001\n",
    "TWINS_COUNT = 40_000\n",
    "TWINS_START = TRIPS_COUNT\n",
    "TWINS_END   = TWINS_START + TWINS_COUNT\n",
    "GIFTS_LIMIT =  1_000\n",
    "\n",
    "BRAT_PREF_COUNT = brats.shape[1]\n",
    "GIFT_PREF_COUNT = gifts.shape[1]"
   ]
  },
  {
   "cell_type": "code",
   "execution_count": 5,
   "metadata": {
    "collapsed": true
   },
   "outputs": [],
   "source": [
    "assigned = [None] * len(brats)\n",
    "gift_cnt = [0]    * len(gifts)\n",
    "\n",
    "def assign(brat_id, gift_id):\n",
    "    assigned[brat_id]  = gift_id\n",
    "    gift_cnt[gift_id] += 1\n",
    "    \n",
    "def find_best_preferred(brat_id, copies=0):\n",
    "    for preference_order in range(BRAT_PREF_COUNT):\n",
    "        preference = brats[brat_id, preference_order]\n",
    "        if gift_cnt[preference] + copies < GIFTS_LIMIT:\n",
    "            return preference\n",
    "    return np.argmin(gift_cnt) # least_popular_gift\n",
    "\n",
    "def display_progress(curr_id, total=len(brats)):\n",
    "    completed = curr_id + 1\n",
    "    percent   = completed / total * 100\n",
    "    if percent % 10 == 0:\n",
    "        percent_str = str(percent).rjust(5)\n",
    "        print(f\"Completed: {percent_str}%\")"
   ]
  },
  {
   "cell_type": "code",
   "execution_count": 6,
   "metadata": {
    "collapsed": true
   },
   "outputs": [],
   "source": [
    "for trip_1 in range(0, TRIPS_COUNT, 3):\n",
    "    trip_1_preference = find_best_preferred(trip_1, 2)\n",
    "    assign(trip_1,     trip_1_preference)\n",
    "    assign(trip_1 + 1, trip_1_preference)\n",
    "    assign(trip_1 + 2, trip_1_preference)"
   ]
  },
  {
   "cell_type": "code",
   "execution_count": 7,
   "metadata": {
    "collapsed": true
   },
   "outputs": [],
   "source": [
    "for twin_1 in range(TWINS_START, TWINS_END, 2):\n",
    "    twin_1_preference = find_best_preferred(twin_1, 1)\n",
    "    assign(twin_1,     twin_1_preference)\n",
    "    assign(twin_1 + 1, twin_1_preference)"
   ]
  },
  {
   "cell_type": "code",
   "execution_count": 8,
   "metadata": {},
   "outputs": [
    {
     "name": "stdout",
     "output_type": "stream",
     "text": [
      "Completed:  10.0%\n",
      "Completed:  20.0%\n",
      "Completed:  30.0%\n",
      "Completed:  40.0%\n",
      "Completed:  50.0%\n",
      "Completed:  60.0%\n",
      "Completed:  70.0%\n",
      "Completed:  80.0%\n",
      "Completed:  90.0%\n",
      "Completed: 100.0%\n"
     ]
    }
   ],
   "source": [
    "for brat_id in range(TWINS_END, len(brats)):\n",
    "    best_gift = find_best_preferred(brat_id)\n",
    "    assign(brat_id, best_gift)\n",
    "    \n",
    "    display_progress(brat_id)"
   ]
  },
  {
   "cell_type": "code",
   "execution_count": 9,
   "metadata": {},
   "outputs": [
    {
     "name": "stdout",
     "output_type": "stream",
     "text": [
      "Quantity of Gifts:\n"
     ]
    },
    {
     "data": {
      "text/plain": [
       "1000    1000\n",
       "dtype: int64"
      ]
     },
     "execution_count": 9,
     "metadata": {},
     "output_type": "execute_result"
    }
   ],
   "source": [
    "print(\"Quantity of Gifts:\")\n",
    "pd.Series(gift_cnt).value_counts()"
   ]
  },
  {
   "cell_type": "code",
   "execution_count": 11,
   "metadata": {
    "collapsed": true
   },
   "outputs": [],
   "source": [
    "submission = pd.DataFrame({\n",
    "    \"ChildId\": range(len(brats)),\n",
    "    \"GiftId\":  assigned\n",
    "})"
   ]
  },
  {
   "cell_type": "code",
   "execution_count": 12,
   "metadata": {
    "collapsed": true
   },
   "outputs": [],
   "source": [
    "submission.to_csv(\"submit_1225_1.csv\", index=False)"
   ]
  },
  {
   "cell_type": "code",
   "execution_count": 13,
   "metadata": {},
   "outputs": [
    {
     "data": {
      "text/html": [
       "<div>\n",
       "<style>\n",
       "    .dataframe thead tr:only-child th {\n",
       "        text-align: right;\n",
       "    }\n",
       "\n",
       "    .dataframe thead th {\n",
       "        text-align: left;\n",
       "    }\n",
       "\n",
       "    .dataframe tbody tr th {\n",
       "        vertical-align: top;\n",
       "    }\n",
       "</style>\n",
       "<table border=\"1\" class=\"dataframe\">\n",
       "  <thead>\n",
       "    <tr style=\"text-align: right;\">\n",
       "      <th></th>\n",
       "      <th>id</th>\n",
       "      <th>visitors</th>\n",
       "    </tr>\n",
       "  </thead>\n",
       "  <tbody>\n",
       "    <tr>\n",
       "      <th>0</th>\n",
       "      <td>air_00a91d42b08b08d9_2017-04-23</td>\n",
       "      <td>17.912939</td>\n",
       "    </tr>\n",
       "    <tr>\n",
       "      <th>1</th>\n",
       "      <td>air_00a91d42b08b08d9_2017-04-24</td>\n",
       "      <td>16.944117</td>\n",
       "    </tr>\n",
       "    <tr>\n",
       "      <th>2</th>\n",
       "      <td>air_00a91d42b08b08d9_2017-04-25</td>\n",
       "      <td>19.992022</td>\n",
       "    </tr>\n",
       "    <tr>\n",
       "      <th>3</th>\n",
       "      <td>air_00a91d42b08b08d9_2017-04-26</td>\n",
       "      <td>23.235420</td>\n",
       "    </tr>\n",
       "    <tr>\n",
       "      <th>4</th>\n",
       "      <td>air_00a91d42b08b08d9_2017-04-27</td>\n",
       "      <td>23.813169</td>\n",
       "    </tr>\n",
       "  </tbody>\n",
       "</table>\n",
       "</div>"
      ],
      "text/plain": [
       "                                id   visitors\n",
       "0  air_00a91d42b08b08d9_2017-04-23  17.912939\n",
       "1  air_00a91d42b08b08d9_2017-04-24  16.944117\n",
       "2  air_00a91d42b08b08d9_2017-04-25  19.992022\n",
       "3  air_00a91d42b08b08d9_2017-04-26  23.235420\n",
       "4  air_00a91d42b08b08d9_2017-04-27  23.813169"
      ]
     },
     "execution_count": 13,
     "metadata": {},
     "output_type": "execute_result"
    }
   ],
   "source": [
    "submit_1 = pd.read_csv('/Users/suzukishinji/kaggle/recluit/submit_1225_1.csv')\n",
    "submit_1.head()"
   ]
  }
 ],
 "metadata": {
  "kernelspec": {
   "display_name": "Python 3",
   "language": "python",
   "name": "python3"
  },
  "language_info": {
   "codemirror_mode": {
    "name": "ipython",
    "version": 3
   },
   "file_extension": ".py",
   "mimetype": "text/x-python",
   "name": "python",
   "nbconvert_exporter": "python",
   "pygments_lexer": "ipython3",
   "version": "3.6.1"
  }
 },
 "nbformat": 4,
 "nbformat_minor": 2
}
