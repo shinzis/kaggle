{
 "cells": [
  {
   "cell_type": "code",
   "execution_count": 1,
   "metadata": {
    "collapsed": true
   },
   "outputs": [],
   "source": [
    "import os, operator, math\n",
    "import pandas as pd\n",
    "import numpy as np\n",
    "import datetime as dt\n",
    "from tqdm import tqdm\n",
    "import matplotlib.pyplot as plt\n",
    "from scipy.optimize import linear_sum_assignment\n",
    "from collections import defaultdict, Counter"
   ]
  },
  {
   "cell_type": "code",
   "execution_count": 2,
   "metadata": {
    "collapsed": true
   },
   "outputs": [],
   "source": [
    "child_data = pd.read_csv('/Users/suzukishinji/kaggle/christmas/child_wishlist_v2.csv', \n",
    "                         header=None).drop(0, 1).values\n",
    "gift_data = pd.read_csv('/Users/suzukishinji/kaggle/christmas/gift_goodkids_v2.csv', \n",
    "                        header=None).drop(0, 1).values\n",
    "\n",
    "n_children = 1000000\n",
    "n_gift_type = 1000 \n",
    "n_gift_quantity = 1000\n",
    "n_child_wish = 100\n",
    "triplets = 5001\n",
    "twins = 40000\n",
    "tts = triplets + twins "
   ]
  },
  {
   "cell_type": "code",
   "execution_count": 3,
   "metadata": {
    "collapsed": true
   },
   "outputs": [],
   "source": [
    "gift_happiness = (1. / (2 * n_gift_type)) * np.ones(\n",
    "    shape=(n_gift_type, n_children), dtype = np.float32)\n",
    "\n",
    "for g in range(n_gift_type):\n",
    "    for i, c in enumerate(gift_data[g]):\n",
    "        gift_happiness[g,c] = -2. * (n_gift_type - i)  \n",
    "\n",
    "child_happiness = (1. / (2 * n_child_wish)) * np.ones(\n",
    "    shape=(n_children, n_gift_type), dtype = np.float32)\n",
    "\n",
    "for c in range(n_children):\n",
    "    for i, g in enumerate(child_data[c]):\n",
    "        child_happiness[c,g] = -2. * (n_child_wish - i) \n",
    "\n",
    "gift_ids = np.array([[g] * n_gift_quantity for g in range(n_gift_type)]).flatten()"
   ]
  },
  {
   "cell_type": "code",
   "execution_count": 4,
   "metadata": {
    "collapsed": true
   },
   "outputs": [],
   "source": [
    "def lcm(a, b):\n",
    "    \"\"\"Compute the lowest common multiple of a and b\"\"\"\n",
    "    # in case of large numbers, using floor division\n",
    "    return a * b // math.gcd(a, b)\n",
    "\n",
    "def avg_normalized_happiness(pred, gift, wish):\n",
    "    \n",
    "    n_children = 1000000 \n",
    "    n_gift_type = 1000 \n",
    "    n_gift_quantity = 1000 \n",
    "    n_gift_pref = 100 \n",
    "    n_child_pref = 1000\n",
    "    twins = math.ceil(0.04 * n_children / 2.) * 2   \n",
    "    triplets = math.ceil(0.005 * n_children / 3.) * 3   \n",
    "    ratio_gift_happiness = 2\n",
    "    ratio_child_happiness = 2\n",
    "\n",
    "    # check if triplets have the same gift\n",
    "    for t1 in np.arange(0, triplets, 3):\n",
    "        triplet1 = pred[t1]\n",
    "        triplet2 = pred[t1+1]\n",
    "        triplet3 = pred[t1+2]\n",
    "        assert triplet1 == triplet2 and triplet2 == triplet3\n",
    "                \n",
    "    # check if twins have the same gift\n",
    "    for t1 in np.arange(triplets, triplets+twins, 2):\n",
    "        twin1 = pred[t1]\n",
    "        twin2 = pred[t1+1]\n",
    "        assert twin1 == twin2\n",
    "\n",
    "    max_child_happiness = n_gift_pref * ratio_child_happiness\n",
    "    max_gift_happiness = n_child_pref * ratio_gift_happiness\n",
    "    total_child_happiness = 0\n",
    "    total_gift_happiness = np.zeros(n_gift_type)\n",
    "    \n",
    "    for i in range(len(pred)):\n",
    "        child_id = i\n",
    "        gift_id = pred[i]\n",
    "        \n",
    "        # check if child_id and gift_id exist\n",
    "        assert child_id < n_children\n",
    "        assert gift_id < n_gift_type\n",
    "        assert child_id >= 0 \n",
    "        assert gift_id >= 0\n",
    "        child_happiness = (n_gift_pref - np.where(wish[child_id]==gift_id)[0]\n",
    "                          ) * ratio_child_happiness\n",
    "        if not child_happiness:\n",
    "            child_happiness = -1\n",
    "\n",
    "        gift_happiness = ( n_child_pref - np.where(gift[gift_id]==child_id)[0]\n",
    "                         ) * ratio_gift_happiness\n",
    "        if not gift_happiness:\n",
    "            gift_happiness = -1\n",
    "\n",
    "        total_child_happiness += child_happiness\n",
    "        total_gift_happiness[gift_id] += gift_happiness\n",
    "        \n",
    "    denominator1 = n_children*max_child_happiness\n",
    "    denominator2 = n_gift_quantity*max_gift_happiness*n_gift_type\n",
    "    common_denom = lcm(denominator1, denominator2)\n",
    "    multiplier = common_denom / denominator1\n",
    "\n",
    "    ret = float(math.pow(total_child_happiness*multiplier,3) \n",
    "                + math.pow(np.sum(total_gift_happiness),3)\n",
    "               ) / float(math.pow(common_denom,3))\n",
    "\n",
    "    return ret"
   ]
  },
  {
   "cell_type": "code",
   "execution_count": 5,
   "metadata": {
    "collapsed": true
   },
   "outputs": [],
   "source": [
    "initial_sub = '/Users/suzukishinji/kaggle/christmas/sample_submission_random_v2.csv'\n",
    "subm = pd.read_csv(initial_sub)\n",
    "subm['gift_rank'] = subm.groupby('GiftId').rank() - 1\n",
    "subm['gift_id'] = subm['GiftId'] * 1000 + subm['gift_rank']\n",
    "subm['gift_id'] = subm['gift_id'].astype(np.int64)\n",
    "current_gift_ids = subm['gift_id'].values"
   ]
  },
  {
   "cell_type": "code",
   "execution_count": 6,
   "metadata": {},
   "outputs": [
    {
     "name": "stdout",
     "output_type": "stream",
     "text": [
      "Time to evaluate performance in seconds: 20.36\n",
      "Predicted score: 0.0000986882\n"
     ]
    }
   ],
   "source": [
    "wish = pd.read_csv('/Users/suzukishinji/kaggle/christmas/child_wishlist_v2.csv', \n",
    "                   header=None).as_matrix()[:, 1:]\n",
    "gift_init = pd.read_csv('/Users/suzukishinji/kaggle/christmas/gift_goodkids_v2.csv', \n",
    "                        header=None).as_matrix()[:, 1:]\n",
    "gift = gift_init.copy()\n",
    "answ_org = np.zeros(len(wish), dtype=np.int32)\n",
    "answ_org[subm[['ChildId']]] = subm[['GiftId']]\n",
    "score_org = avg_normalized_happiness(answ_org, gift, wish)\n",
    "print('Predicted score: {:.8f}'.format(score_org))"
   ]
  },
  {
   "cell_type": "code",
   "execution_count": 7,
   "metadata": {
    "collapsed": true
   },
   "outputs": [],
   "source": [
    "def optimize_block(child_block, current_gift_ids):\n",
    "    gift_block = current_gift_ids[child_block]\n",
    "    C = np.zeros((block_size, block_size))\n",
    "    for i in range(block_size):\n",
    "        c = child_block[i]\n",
    "        for j in range(block_size):\n",
    "            g = gift_ids[gift_block[j]]\n",
    "            C[i, j] = child_happiness[c][g]\n",
    "    row_ind, col_ind = linear_sum_assignment(C)\n",
    "    return (child_block[row_ind], gift_block[col_ind])"
   ]
  },
  {
   "cell_type": "code",
   "execution_count": 8,
   "metadata": {},
   "outputs": [
    {
     "name": "stdout",
     "output_type": "stream",
     "text": [
      "block size: 1200, num blocks: 795, children reminder: 999\n"
     ]
    }
   ],
   "source": [
    "block_size = 1200\n",
    "n_blocks = int((n_children - tts) / block_size)\n",
    "children_rmd = 1000000 - 45001 - n_blocks * block_size\n",
    "print('block size: {}, num blocks: {}, children reminder: {}'.\n",
    "      format(block_size, n_blocks, children_rmd))"
   ]
  },
  {
   "cell_type": "code",
   "execution_count": 9,
   "metadata": {},
   "outputs": [
    {
     "name": "stdout",
     "output_type": "stream",
     "text": [
      "Current permutation step is: 1"
     ]
    },
    {
     "name": "stderr",
     "output_type": "stream",
     "text": [
      "\r",
      "  0%|          | 0/10 [00:00<?, ?it/s]"
     ]
    },
    {
     "name": "stdout",
     "output_type": "stream",
     "text": [
      "\n",
      "Time to optimize block in seconds: 115.01\n"
     ]
    },
    {
     "name": "stderr",
     "output_type": "stream",
     "text": [
      "\r",
      " 10%|█         | 1/10 [02:16<20:24, 136.03s/it]"
     ]
    },
    {
     "name": "stdout",
     "output_type": "stream",
     "text": [
      "Time to evaluate performance in seconds: 20.95\n",
      "Score achieved in current iteration: 0.0001059287\n",
      "This is a performance improvement!\n",
      "Time to optimize block in seconds: 113.90\n"
     ]
    },
    {
     "name": "stderr",
     "output_type": "stream",
     "text": [
      "\r",
      " 20%|██        | 2/10 [04:31<18:04, 135.58s/it]"
     ]
    },
    {
     "name": "stdout",
     "output_type": "stream",
     "text": [
      "Time to evaluate performance in seconds: 21.18\n",
      "Score achieved in current iteration: 0.0001135061\n",
      "This is a performance improvement!\n",
      "Time to optimize block in seconds: 94.05\n"
     ]
    },
    {
     "name": "stderr",
     "output_type": "stream",
     "text": [
      "\r",
      " 30%|███       | 3/10 [06:24<14:57, 128.28s/it]"
     ]
    },
    {
     "name": "stdout",
     "output_type": "stream",
     "text": [
      "Time to evaluate performance in seconds: 19.59\n",
      "Score achieved in current iteration: 0.0001214179\n",
      "This is a performance improvement!\n",
      "Time to optimize block in seconds: 108.68\n"
     ]
    },
    {
     "name": "stderr",
     "output_type": "stream",
     "text": [
      "\r",
      " 40%|████      | 4/10 [08:36<12:54, 129.12s/it]"
     ]
    },
    {
     "name": "stdout",
     "output_type": "stream",
     "text": [
      "Time to evaluate performance in seconds: 22.90\n",
      "Score achieved in current iteration: 0.0001296674\n",
      "This is a performance improvement!\n",
      "Time to optimize block in seconds: 125.20\n"
     ]
    },
    {
     "name": "stderr",
     "output_type": "stream",
     "text": [
      "\r",
      " 50%|█████     | 5/10 [11:01<11:01, 132.36s/it]"
     ]
    },
    {
     "name": "stdout",
     "output_type": "stream",
     "text": [
      "Time to evaluate performance in seconds: 20.10\n",
      "Score achieved in current iteration: 0.0001384200\n",
      "This is a performance improvement!\n",
      "Time to optimize block in seconds: 104.55\n"
     ]
    },
    {
     "name": "stderr",
     "output_type": "stream",
     "text": [
      "\r",
      " 60%|██████    | 6/10 [13:06<08:44, 131.08s/it]"
     ]
    },
    {
     "name": "stdout",
     "output_type": "stream",
     "text": [
      "Time to evaluate performance in seconds: 20.06\n",
      "Score achieved in current iteration: 0.0001473277\n",
      "This is a performance improvement!\n",
      "Time to optimize block in seconds: 121.89\n"
     ]
    },
    {
     "name": "stderr",
     "output_type": "stream",
     "text": [
      "\r",
      " 70%|███████   | 7/10 [15:30<06:38, 132.97s/it]"
     ]
    },
    {
     "name": "stdout",
     "output_type": "stream",
     "text": [
      "Time to evaluate performance in seconds: 22.36\n",
      "Score achieved in current iteration: 0.0001566946\n",
      "This is a performance improvement!\n",
      "Time to optimize block in seconds: 135.06\n"
     ]
    },
    {
     "name": "stderr",
     "output_type": "stream",
     "text": [
      "\r",
      " 80%|████████  | 8/10 [18:17<04:34, 137.17s/it]"
     ]
    },
    {
     "name": "stdout",
     "output_type": "stream",
     "text": [
      "Time to evaluate performance in seconds: 31.48\n",
      "Score achieved in current iteration: 0.0001665222\n",
      "This is a performance improvement!\n",
      "Time to optimize block in seconds: 117.43\n"
     ]
    },
    {
     "name": "stderr",
     "output_type": "stream",
     "text": [
      "\r",
      " 90%|█████████ | 9/10 [20:34<02:17, 137.21s/it]"
     ]
    },
    {
     "name": "stdout",
     "output_type": "stream",
     "text": [
      "Time to evaluate performance in seconds: 20.02\n",
      "Score achieved in current iteration: 0.0001768397\n",
      "This is a performance improvement!\n",
      "Time to optimize block in seconds: 98.27\n"
     ]
    },
    {
     "name": "stderr",
     "output_type": "stream",
     "text": [
      "\r",
      "100%|██████████| 10/10 [22:32<00:00, 135.30s/it]"
     ]
    },
    {
     "name": "stdout",
     "output_type": "stream",
     "text": [
      "Time to evaluate performance in seconds: 19.81\n",
      "Score achieved in current iteration: 0.0001872894\n",
      "This is a performance improvement!\n"
     ]
    },
    {
     "name": "stderr",
     "output_type": "stream",
     "text": [
      "\n",
      "\r",
      "  0%|          | 0/10 [00:00<?, ?it/s]"
     ]
    },
    {
     "name": "stdout",
     "output_type": "stream",
     "text": [
      "Current permutation step is: 2\n",
      "Time to optimize block in seconds: 111.40\n"
     ]
    },
    {
     "name": "stderr",
     "output_type": "stream",
     "text": [
      "\r",
      " 10%|█         | 1/10 [02:11<19:43, 131.49s/it]"
     ]
    },
    {
     "name": "stdout",
     "output_type": "stream",
     "text": [
      "Time to evaluate performance in seconds: 20.05\n",
      "Score achieved in current iteration: 0.0001980950\n",
      "This is a performance improvement!\n",
      "Time to optimize block in seconds: 117.97\n"
     ]
    },
    {
     "name": "stderr",
     "output_type": "stream",
     "text": [
      "\r",
      " 20%|██        | 2/10 [04:28<17:55, 134.49s/it]"
     ]
    },
    {
     "name": "stdout",
     "output_type": "stream",
     "text": [
      "Time to evaluate performance in seconds: 19.47\n",
      "Score achieved in current iteration: 0.0002093515\n",
      "This is a performance improvement!\n",
      "Time to optimize block in seconds: 92.76\n"
     ]
    },
    {
     "name": "stderr",
     "output_type": "stream",
     "text": [
      "\r",
      " 30%|███       | 3/10 [06:22<14:52, 127.57s/it]"
     ]
    },
    {
     "name": "stdout",
     "output_type": "stream",
     "text": [
      "Time to evaluate performance in seconds: 20.93\n",
      "Score achieved in current iteration: 0.0002210070\n",
      "This is a performance improvement!\n",
      "Time to optimize block in seconds: 118.87\n"
     ]
    },
    {
     "name": "stderr",
     "output_type": "stream",
     "text": [
      "\r",
      " 40%|████      | 4/10 [08:45<13:07, 131.25s/it]"
     ]
    },
    {
     "name": "stdout",
     "output_type": "stream",
     "text": [
      "Time to evaluate performance in seconds: 23.38\n",
      "Score achieved in current iteration: 0.0002330177\n",
      "This is a performance improvement!\n",
      "Time to optimize block in seconds: 110.97\n"
     ]
    },
    {
     "name": "stderr",
     "output_type": "stream",
     "text": [
      "\r",
      " 50%|█████     | 5/10 [10:56<10:56, 131.31s/it]"
     ]
    },
    {
     "name": "stdout",
     "output_type": "stream",
     "text": [
      "Time to evaluate performance in seconds: 20.55\n",
      "Score achieved in current iteration: 0.0002453653\n",
      "This is a performance improvement!\n",
      "Time to optimize block in seconds: 112.34\n"
     ]
    },
    {
     "name": "stderr",
     "output_type": "stream",
     "text": [
      "\r",
      " 60%|██████    | 6/10 [13:17<08:51, 132.91s/it]"
     ]
    },
    {
     "name": "stdout",
     "output_type": "stream",
     "text": [
      "Time to evaluate performance in seconds: 28.47\n",
      "Score achieved in current iteration: 0.0002582834\n",
      "This is a performance improvement!\n",
      "Time to optimize block in seconds: 106.40\n"
     ]
    },
    {
     "name": "stderr",
     "output_type": "stream",
     "text": [
      "\r",
      " 70%|███████   | 7/10 [15:24<06:36, 132.11s/it]"
     ]
    },
    {
     "name": "stdout",
     "output_type": "stream",
     "text": [
      "Time to evaluate performance in seconds: 20.87\n",
      "Score achieved in current iteration: 0.0002716732\n",
      "This is a performance improvement!\n",
      "Time to optimize block in seconds: 99.20\n"
     ]
    },
    {
     "name": "stderr",
     "output_type": "stream",
     "text": [
      "\r",
      " 80%|████████  | 8/10 [17:22<04:20, 130.37s/it]"
     ]
    },
    {
     "name": "stdout",
     "output_type": "stream",
     "text": [
      "Time to evaluate performance in seconds: 18.95\n",
      "Score achieved in current iteration: 0.0002857289\n",
      "This is a performance improvement!\n",
      "Time to optimize block in seconds: 97.75\n"
     ]
    },
    {
     "name": "stderr",
     "output_type": "stream",
     "text": [
      "\r",
      " 90%|█████████ | 9/10 [19:19<02:08, 128.85s/it]"
     ]
    },
    {
     "name": "stdout",
     "output_type": "stream",
     "text": [
      "Time to evaluate performance in seconds: 18.95\n",
      "Score achieved in current iteration: 0.0003001416\n",
      "This is a performance improvement!\n",
      "Time to optimize block in seconds: 98.67\n"
     ]
    },
    {
     "name": "stderr",
     "output_type": "stream",
     "text": [
      "\r",
      "100%|██████████| 10/10 [21:17<00:00, 127.74s/it]"
     ]
    },
    {
     "name": "stdout",
     "output_type": "stream",
     "text": [
      "Time to evaluate performance in seconds: 18.99\n",
      "Score achieved in current iteration: 0.0003150017\n",
      "This is a performance improvement!\n"
     ]
    },
    {
     "name": "stderr",
     "output_type": "stream",
     "text": [
      "\n"
     ]
    },
    {
     "name": "stdout",
     "output_type": "stream",
     "text": [
      "Best score achieved is: 0.0003150017\n"
     ]
    }
   ],
   "source": [
    "answ_iter = np.zeros(len(wish), dtype=np.int32)\n",
    "score_best = score_org\n",
    "subm_best = subm\n",
    "perm_len = 2\n",
    "block_len = 10\n",
    "for i in range(perm_len):  \n",
    "    print('Current permutation step is: %d' %(i+1))\n",
    "    child_blocks = np.split(np.random.permutation\n",
    "                            (range(tts, n_children - children_rmd)), n_blocks)\n",
    "    for child_block in tqdm(child_blocks[:block_len]):\n",
    "        start_time = dt.datetime.now()\n",
    "        cids, gids = optimize_block(child_block, current_gift_ids=current_gift_ids)\n",
    "        current_gift_ids[cids] = gids\n",
    "        end_time = dt.datetime.now()\n",
    "        print('Time to optimize block in seconds: {:.2f}'.\n",
    "              format((end_time-start_time).total_seconds()))\n",
    "        ## need evaluation step for every block iteration \n",
    "        subm['GiftId'] = gift_ids[current_gift_ids]\n",
    "        answ_iter[subm[['ChildId']]] = subm[['GiftId']]\n",
    "        score_iter = avg_normalized_happiness(answ_iter, gift, wish)\n",
    "        print('Score achieved in current iteration: {:.10f}'.format(score_iter))\n",
    "        if score_iter > score_best:\n",
    "            subm_best['GiftId'] = gift_ids[current_gift_ids]\n",
    "            score_best = score_iter\n",
    "            print('This is a performance improvement!')\n",
    "        else: print('No improvement at this iteration!')\n",
    "            \n",
    "subm_best[['ChildId', 'GiftId']].to_csv('improved_sub.csv', index=False)\n",
    "print('Best score achieved is: {:.10f}'.format(score_best))"
   ]
  },
  {
   "cell_type": "code",
   "execution_count": null,
   "metadata": {
    "collapsed": true
   },
   "outputs": [],
   "source": []
  },
  {
   "cell_type": "code",
   "execution_count": null,
   "metadata": {
    "collapsed": true
   },
   "outputs": [],
   "source": []
  },
  {
   "cell_type": "code",
   "execution_count": null,
   "metadata": {
    "collapsed": true
   },
   "outputs": [],
   "source": []
  },
  {
   "cell_type": "code",
   "execution_count": null,
   "metadata": {
    "collapsed": true
   },
   "outputs": [],
   "source": []
  }
 ],
 "metadata": {
  "kernelspec": {
   "display_name": "Python 3",
   "language": "python",
   "name": "python3"
  },
  "language_info": {
   "codemirror_mode": {
    "name": "ipython",
    "version": 3
   },
   "file_extension": ".py",
   "mimetype": "text/x-python",
   "name": "python",
   "nbconvert_exporter": "python",
   "pygments_lexer": "ipython3",
   "version": "3.6.1"
  }
 },
 "nbformat": 4,
 "nbformat_minor": 2
}
