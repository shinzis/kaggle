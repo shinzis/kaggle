{
 "cells": [
  {
   "cell_type": "code",
   "execution_count": 26,
   "metadata": {
    "collapsed": true
   },
   "outputs": [],
   "source": [
    "import numpy as np\n",
    "import pandas as pd\n",
    "import datetime as dt\n",
    "from datetime import datetime"
   ]
  },
  {
   "cell_type": "code",
   "execution_count": 40,
   "metadata": {
    "collapsed": true
   },
   "outputs": [],
   "source": [
    "tra = pd.read_csv('/Users/suzukishinji/kaggle/recluit/air_visit_data.csv')\n",
    "tes = pd.read_csv('/Users/suzukishinji/kaggle/recluit/sample_submission-3.csv')"
   ]
  },
  {
   "cell_type": "code",
   "execution_count": 41,
   "metadata": {},
   "outputs": [
    {
     "name": "stdout",
     "output_type": "stream",
     "text": [
      "(252108, 3)\n",
      "(32019, 2)\n",
      "↑元データ\n"
     ]
    }
   ],
   "source": [
    "#あとでデータ数を確認するため\n",
    "print(tra.shape)\n",
    "print(tes.shape)\n",
    "print('↑元データ')"
   ]
  },
  {
   "cell_type": "code",
   "execution_count": 49,
   "metadata": {},
   "outputs": [
    {
     "ename": "NameError",
     "evalue": "name 'days' is not defined",
     "output_type": "error",
     "traceback": [
      "\u001b[0;31m---------------------------------------------------------------------------\u001b[0m",
      "\u001b[0;31mNameError\u001b[0m                                 Traceback (most recent call last)",
      "\u001b[0;32m<ipython-input-49-4e45524972f1>\u001b[0m in \u001b[0;36m<module>\u001b[0;34m()\u001b[0m\n\u001b[1;32m      3\u001b[0m \u001b[0;34m\u001b[0m\u001b[0m\n\u001b[1;32m      4\u001b[0m \u001b[0mstart_date\u001b[0m \u001b[0;34m=\u001b[0m \u001b[0;34m'2017-03-12'\u001b[0m\u001b[0;34m\u001b[0m\u001b[0m\n\u001b[0;32m----> 5\u001b[0;31m \u001b[0mend_date\u001b[0m \u001b[0;34m=\u001b[0m \u001b[0mparse\u001b[0m\u001b[0;34m(\u001b[0m\u001b[0mstart_date\u001b[0m\u001b[0;34m[\u001b[0m\u001b[0;34m:\u001b[0m\u001b[0;36m10\u001b[0m\u001b[0;34m]\u001b[0m\u001b[0;34m)\u001b[0m \u001b[0;34m+\u001b[0m \u001b[0mtimedelta\u001b[0m\u001b[0;34m(\u001b[0m\u001b[0mdays\u001b[0m\u001b[0;34m=\u001b[0m\u001b[0mdays\u001b[0m\u001b[0;34m)\u001b[0m\u001b[0;34m\u001b[0m\u001b[0m\n\u001b[0m\u001b[1;32m      6\u001b[0m \u001b[0mend_date\u001b[0m \u001b[0;34m=\u001b[0m \u001b[0mend_date\u001b[0m\u001b[0;34m.\u001b[0m\u001b[0mstrftime\u001b[0m\u001b[0;34m(\u001b[0m\u001b[0;34m'%Y-%m-%d'\u001b[0m\u001b[0;34m)\u001b[0m\u001b[0;34m\u001b[0m\u001b[0m\n\u001b[1;32m      7\u001b[0m \u001b[0mdays\u001b[0m \u001b[0;34m=\u001b[0m \u001b[0;34m(\u001b[0m\u001b[0mparse\u001b[0m\u001b[0;34m(\u001b[0m\u001b[0mday1\u001b[0m\u001b[0;34m[\u001b[0m\u001b[0;34m:\u001b[0m\u001b[0;36m10\u001b[0m\u001b[0;34m]\u001b[0m\u001b[0;34m)\u001b[0m \u001b[0;34m-\u001b[0m \u001b[0mparse\u001b[0m\u001b[0;34m(\u001b[0m\u001b[0mday2\u001b[0m\u001b[0;34m[\u001b[0m\u001b[0;34m:\u001b[0m\u001b[0;36m10\u001b[0m\u001b[0;34m]\u001b[0m\u001b[0;34m)\u001b[0m\u001b[0;34m)\u001b[0m\u001b[0;34m.\u001b[0m\u001b[0mdays\u001b[0m\u001b[0;34m\u001b[0m\u001b[0m\n",
      "\u001b[0;31mNameError\u001b[0m: name 'days' is not defined"
     ]
    }
   ],
   "source": [
    "from dateutil.parser import parse\n",
    "from datetime import date, timedelta\n",
    "\n",
    "start_date = '2017-03-12'\n",
    "end_date = parse(start_date[:10]) + timedelta(days=days)\n",
    "end_date = end_date.strftime('%Y-%m-%d')\n",
    "days = (parse(day1[:10]) - parse(day2[:10])).days\n",
    "\n",
    "temp = tra[(tra.visit_date < key[0]) & (tra.visit_date > start_date)]"
   ]
  },
  {
   "cell_type": "code",
   "execution_count": 43,
   "metadata": {},
   "outputs": [
    {
     "data": {
      "text/html": [
       "<div>\n",
       "<style>\n",
       "    .dataframe thead tr:only-child th {\n",
       "        text-align: right;\n",
       "    }\n",
       "\n",
       "    .dataframe thead th {\n",
       "        text-align: left;\n",
       "    }\n",
       "\n",
       "    .dataframe tbody tr th {\n",
       "        vertical-align: top;\n",
       "    }\n",
       "</style>\n",
       "<table border=\"1\" class=\"dataframe\">\n",
       "  <thead>\n",
       "    <tr style=\"text-align: right;\">\n",
       "      <th></th>\n",
       "      <th>air_store_id</th>\n",
       "      <th>visit_date</th>\n",
       "      <th>visitors</th>\n",
       "    </tr>\n",
       "  </thead>\n",
       "  <tbody>\n",
       "    <tr>\n",
       "      <th>353</th>\n",
       "      <td>air_ba937bf13d40fb24</td>\n",
       "      <td>2017-03-13</td>\n",
       "      <td>7</td>\n",
       "    </tr>\n",
       "    <tr>\n",
       "      <th>354</th>\n",
       "      <td>air_ba937bf13d40fb24</td>\n",
       "      <td>2017-03-14</td>\n",
       "      <td>7</td>\n",
       "    </tr>\n",
       "    <tr>\n",
       "      <th>355</th>\n",
       "      <td>air_ba937bf13d40fb24</td>\n",
       "      <td>2017-03-15</td>\n",
       "      <td>21</td>\n",
       "    </tr>\n",
       "    <tr>\n",
       "      <th>356</th>\n",
       "      <td>air_ba937bf13d40fb24</td>\n",
       "      <td>2017-03-16</td>\n",
       "      <td>12</td>\n",
       "    </tr>\n",
       "    <tr>\n",
       "      <th>357</th>\n",
       "      <td>air_ba937bf13d40fb24</td>\n",
       "      <td>2017-03-17</td>\n",
       "      <td>35</td>\n",
       "    </tr>\n",
       "  </tbody>\n",
       "</table>\n",
       "</div>"
      ],
      "text/plain": [
       "             air_store_id  visit_date  visitors\n",
       "353  air_ba937bf13d40fb24  2017-03-13         7\n",
       "354  air_ba937bf13d40fb24  2017-03-14         7\n",
       "355  air_ba937bf13d40fb24  2017-03-15        21\n",
       "356  air_ba937bf13d40fb24  2017-03-16        12\n",
       "357  air_ba937bf13d40fb24  2017-03-17        35"
      ]
     },
     "execution_count": 43,
     "metadata": {},
     "output_type": "execute_result"
    }
   ],
   "source": [
    "temp.head()"
   ]
  },
  {
   "cell_type": "code",
   "execution_count": 38,
   "metadata": {
    "collapsed": true
   },
   "outputs": [],
   "source": [
    "tra['visit_date'] = pd.to_datetime(tra['visit_date'])\n",
    "tra['visit_date'] = pd.to_datetime(tra['visit_date'])\n",
    "tra['dow'] = tra['visit_date'].dt.dayofweek\n",
    "tra['year'] = tra['visit_date'].dt.year\n",
    "tra['month'] = tra['visit_date'].dt.month\n",
    "tra['visit_date'] = tra['visit_date'].dt.date"
   ]
  },
  {
   "cell_type": "code",
   "execution_count": 39,
   "metadata": {},
   "outputs": [
    {
     "ename": "TypeError",
     "evalue": "'>' not supported between instances of 'datetime.date' and 'str'",
     "output_type": "error",
     "traceback": [
      "\u001b[0;31m---------------------------------------------------------------------------\u001b[0m",
      "\u001b[0;31mTypeError\u001b[0m                                 Traceback (most recent call last)",
      "\u001b[0;32m<ipython-input-39-814948e3f8db>\u001b[0m in \u001b[0;36m<module>\u001b[0;34m()\u001b[0m\n\u001b[1;32m      1\u001b[0m \u001b[0mstart_date\u001b[0m \u001b[0;34m=\u001b[0m \u001b[0;34m'2017-03-12'\u001b[0m\u001b[0;34m\u001b[0m\u001b[0m\n\u001b[0;32m----> 2\u001b[0;31m \u001b[0mtemp\u001b[0m \u001b[0;34m=\u001b[0m \u001b[0mtra\u001b[0m\u001b[0;34m[\u001b[0m\u001b[0;34m(\u001b[0m\u001b[0mtra\u001b[0m\u001b[0;34m.\u001b[0m\u001b[0mvisit_date\u001b[0m \u001b[0;34m>\u001b[0m \u001b[0mstart_date\u001b[0m \u001b[0;34m)\u001b[0m\u001b[0;34m]\u001b[0m\u001b[0;34m.\u001b[0m\u001b[0mhead\u001b[0m\u001b[0;34m(\u001b[0m\u001b[0;34m)\u001b[0m\u001b[0;34m\u001b[0m\u001b[0m\n\u001b[0m",
      "\u001b[0;32m/Users/suzukishinji/anaconda/lib/python3.6/site-packages/pandas/core/ops.py\u001b[0m in \u001b[0;36mwrapper\u001b[0;34m(self, other, axis)\u001b[0m\n\u001b[1;32m    859\u001b[0m \u001b[0;34m\u001b[0m\u001b[0m\n\u001b[1;32m    860\u001b[0m             \u001b[0;32mwith\u001b[0m \u001b[0mnp\u001b[0m\u001b[0;34m.\u001b[0m\u001b[0merrstate\u001b[0m\u001b[0;34m(\u001b[0m\u001b[0mall\u001b[0m\u001b[0;34m=\u001b[0m\u001b[0;34m'ignore'\u001b[0m\u001b[0;34m)\u001b[0m\u001b[0;34m:\u001b[0m\u001b[0;34m\u001b[0m\u001b[0m\n\u001b[0;32m--> 861\u001b[0;31m                 \u001b[0mres\u001b[0m \u001b[0;34m=\u001b[0m \u001b[0mna_op\u001b[0m\u001b[0;34m(\u001b[0m\u001b[0mvalues\u001b[0m\u001b[0;34m,\u001b[0m \u001b[0mother\u001b[0m\u001b[0;34m)\u001b[0m\u001b[0;34m\u001b[0m\u001b[0m\n\u001b[0m\u001b[1;32m    862\u001b[0m             \u001b[0;32mif\u001b[0m \u001b[0mis_scalar\u001b[0m\u001b[0;34m(\u001b[0m\u001b[0mres\u001b[0m\u001b[0;34m)\u001b[0m\u001b[0;34m:\u001b[0m\u001b[0;34m\u001b[0m\u001b[0m\n\u001b[1;32m    863\u001b[0m                 raise TypeError('Could not compare %s type with Series' %\n",
      "\u001b[0;32m/Users/suzukishinji/anaconda/lib/python3.6/site-packages/pandas/core/ops.py\u001b[0m in \u001b[0;36mna_op\u001b[0;34m(x, y)\u001b[0m\n\u001b[1;32m    763\u001b[0m \u001b[0;34m\u001b[0m\u001b[0m\n\u001b[1;32m    764\u001b[0m         \u001b[0;32mif\u001b[0m \u001b[0mis_object_dtype\u001b[0m\u001b[0;34m(\u001b[0m\u001b[0mx\u001b[0m\u001b[0;34m.\u001b[0m\u001b[0mdtype\u001b[0m\u001b[0;34m)\u001b[0m\u001b[0;34m:\u001b[0m\u001b[0;34m\u001b[0m\u001b[0m\n\u001b[0;32m--> 765\u001b[0;31m             \u001b[0mresult\u001b[0m \u001b[0;34m=\u001b[0m \u001b[0m_comp_method_OBJECT_ARRAY\u001b[0m\u001b[0;34m(\u001b[0m\u001b[0mop\u001b[0m\u001b[0;34m,\u001b[0m \u001b[0mx\u001b[0m\u001b[0;34m,\u001b[0m \u001b[0my\u001b[0m\u001b[0;34m)\u001b[0m\u001b[0;34m\u001b[0m\u001b[0m\n\u001b[0m\u001b[1;32m    766\u001b[0m         \u001b[0;32melse\u001b[0m\u001b[0;34m:\u001b[0m\u001b[0;34m\u001b[0m\u001b[0m\n\u001b[1;32m    767\u001b[0m \u001b[0;34m\u001b[0m\u001b[0m\n",
      "\u001b[0;32m/Users/suzukishinji/anaconda/lib/python3.6/site-packages/pandas/core/ops.py\u001b[0m in \u001b[0;36m_comp_method_OBJECT_ARRAY\u001b[0;34m(op, x, y)\u001b[0m\n\u001b[1;32m    743\u001b[0m         \u001b[0mresult\u001b[0m \u001b[0;34m=\u001b[0m \u001b[0mlib\u001b[0m\u001b[0;34m.\u001b[0m\u001b[0mvec_compare\u001b[0m\u001b[0;34m(\u001b[0m\u001b[0mx\u001b[0m\u001b[0;34m,\u001b[0m \u001b[0my\u001b[0m\u001b[0;34m,\u001b[0m \u001b[0mop\u001b[0m\u001b[0;34m)\u001b[0m\u001b[0;34m\u001b[0m\u001b[0m\n\u001b[1;32m    744\u001b[0m     \u001b[0;32melse\u001b[0m\u001b[0;34m:\u001b[0m\u001b[0;34m\u001b[0m\u001b[0m\n\u001b[0;32m--> 745\u001b[0;31m         \u001b[0mresult\u001b[0m \u001b[0;34m=\u001b[0m \u001b[0mlib\u001b[0m\u001b[0;34m.\u001b[0m\u001b[0mscalar_compare\u001b[0m\u001b[0;34m(\u001b[0m\u001b[0mx\u001b[0m\u001b[0;34m,\u001b[0m \u001b[0my\u001b[0m\u001b[0;34m,\u001b[0m \u001b[0mop\u001b[0m\u001b[0;34m)\u001b[0m\u001b[0;34m\u001b[0m\u001b[0m\n\u001b[0m\u001b[1;32m    746\u001b[0m     \u001b[0;32mreturn\u001b[0m \u001b[0mresult\u001b[0m\u001b[0;34m\u001b[0m\u001b[0m\n\u001b[1;32m    747\u001b[0m \u001b[0;34m\u001b[0m\u001b[0m\n",
      "\u001b[0;32mpandas/_libs/lib.pyx\u001b[0m in \u001b[0;36mpandas._libs.lib.scalar_compare (pandas/_libs/lib.c:13713)\u001b[0;34m()\u001b[0m\n",
      "\u001b[0;31mTypeError\u001b[0m: '>' not supported between instances of 'datetime.date' and 'str'"
     ]
    }
   ],
   "source": [
    "start_date = '2017-03-12'\n",
    "temp = tra[(tra.visit_date > start_date )].head()"
   ]
  },
  {
   "cell_type": "code",
   "execution_count": 22,
   "metadata": {
    "collapsed": true
   },
   "outputs": [],
   "source": [
    "tes['visit_date'] = tes['id'].map(lambda x: str(x).split('_')[2])\n",
    "tes['air_store_id'] = tes['id'].map(lambda x: '_'.join(x.split('_')[:2]))\n",
    "tes['visit_date'] = pd.to_datetime(tes['visit_date'])\n",
    "tes['dow'] = tes['visit_date'].dt.dayofweek\n",
    "tes['year'] = tes['visit_date'].dt.year\n",
    "tes['month'] = tes['visit_date'].dt.month\n",
    "tes['visit_date'] = tes['visit_date'].dt.date"
   ]
  },
  {
   "cell_type": "code",
   "execution_count": 23,
   "metadata": {
    "collapsed": true
   },
   "outputs": [],
   "source": [
    "#リョウさんのGW_flagを利用させて頂きました（ここの日付の範囲は適当に3週間としたので変更しても良いと思います）\n",
    "combine = [tra, tes]\n",
    "gw_list = ['2016-04-23','2016-04-24','2016-04-25','2016-04-26','2016-04-27','2016-04-28','2016-04-29','2016-04-30','2016-04-23','2016-05-01','2016-05-02','2016-05-03','2016-05-04','2016-05-05','2016-05-06','2016-05-07','2016-05-08','2016-05-09','2016-05-10','2016-05-11','2016-05-12','2016-05-13','2016-05-14','2016-05-15','2017-04-22','2017-04-23','2017-04-24','2017-04-25','2017-04-26','2017-04-27','2017-04-28','2017-04-29','2017-04-30','2017-05-01','2017-05-02','2017-05-03','2017-05-04','2017-05-05','2017-05-06','2017-05-07','2017-05-08','2017-05-09','2017-05-10','2017-05-11','2017-05-12','2017-05-13','2017-05-14']\n",
    "tra['gw_flg'] = 0\n",
    "tes['gw_flg'] = 0\n",
    "update_gw_list = [[\"0\" for i in range(3)] for j in range(len(gw_list))]\n",
    "\n",
    "from datetime import date\n",
    "for index, gw_date in enumerate(gw_list):\n",
    "    temp_list = gw_date.split(\"-\")\n",
    "    for col_i, temp_figure in enumerate(temp_list):\n",
    "        update_gw_list[index][col_i]=int(temp_figure)\n",
    "        \n",
    "    #print(\"{}  {}  {}\".format(update_list[index][0],update_list[index][1],update_list[index][2]))\n",
    "\n",
    "for dataset in combine:\n",
    "    for index in range(len(update_gw_list)):\n",
    "        dataset.loc[dataset.visit_date == date(update_gw_list[index][0],update_gw_list[index][1],update_gw_list[index][2]), 'gw_flg'] = 1\n",
    "\n",
    "#gw部分とそれ以外を分けます。今回はtraはgwを含んで学習する\n",
    "tra_gw = tra[tra['gw_flg'] == 1]\n",
    "#tra = tra[tra['gw_flg'] == 0]\n",
    "\n",
    "tes_gw = tes[tes['gw_flg'] == 1]\n",
    "#tes = tes[tes['gw_flg'] == 0]"
   ]
  },
  {
   "cell_type": "code",
   "execution_count": 24,
   "metadata": {
    "collapsed": true
   },
   "outputs": [],
   "source": [
    "#513店舗ように316店舗の2016/4/23〜2016/5/31（テスト期間だけ）のtrainデーたを作る\n",
    "\n",
    "combine = [tra, tes]\n",
    "test_list = ['2016-04-23','2016-04-24','2016-04-25','2016-04-26','2016-04-27','2016-04-28','2016-04-29','2016-04-30',\n",
    "           '2016-04-23','2016-05-01','2016-05-02','2016-05-03','2016-05-04','2016-05-05','2016-05-06','2016-05-07',\n",
    "           '2016-05-08','2016-05-09','2016-05-10','2016-05-11','2016-05-12','2016-05-13','2016-05-14','2016-05-15',\n",
    "          '2016-05-16','2016-05-17','2016-05-18','2016-05-19','2016-05-20','2016-05-21','2016-05-22','2016-05-23','2016-05-24'\n",
    "          ,'2016-05-25','2016-05-26','2016-05-27','2016-05-28','2016-05-29','2016-05-30','2016-05-31']\n",
    "tra['test_flg'] = 0\n",
    "update_test_list = [[\"0\" for i in range(3)] for j in range(len(test_list))]\n",
    "\n",
    "from datetime import date\n",
    "for index, test_date in enumerate(test_list):\n",
    "    temp_list = test_date.split(\"-\")\n",
    "    for col_i, temp_figure in enumerate(temp_list):\n",
    "        update_test_list[index][col_i]=int(temp_figure)\n",
    "        \n",
    "    #print(\"{}  {}  {}\".format(update_list[index][0],update_list[index][1],update_list[index][2]))\n",
    "\n",
    "for dataset in combine:\n",
    "    for index in range(len(update_test_list)):\n",
    "        dataset.loc[dataset.visit_date == date(update_test_list[index][0],update_test_list[index][1],update_test_list[index][2]), 'test_flg'] = 1\n",
    "\n",
    "#test部分とそれ以外を分けます。今回はtraはgwを含んで学習する\n",
    "tra_test = tra[tra['test_flg'] == 1]\n",
    "#tra = tra[tra['gw_flg'] == 0]\n",
    "\n",
    "#tes_gw = tes[tes['gw_flg'] == 1]\n",
    "#tes = tes[tes['gw_flg'] == 0]"
   ]
  },
  {
   "cell_type": "code",
   "execution_count": 25,
   "metadata": {},
   "outputs": [
    {
     "data": {
      "text/plain": [
       "(10336, 8)"
      ]
     },
     "execution_count": 25,
     "metadata": {},
     "output_type": "execute_result"
    }
   ],
   "source": [
    "tra_test.shape"
   ]
  },
  {
   "cell_type": "code",
   "execution_count": 12,
   "metadata": {
    "collapsed": true
   },
   "outputs": [],
   "source": [
    "#2016/1~2016/6に営業しているお店は316店舗でした。\n",
    "year_2016 = tra[tra['year'] == 2016]\n",
    "month_1 = year_2016[year_2016['month'] == 1]\n",
    "month_2 = year_2016[year_2016['month'] == 2]\n",
    "month_3 = year_2016[year_2016['month'] == 3]\n",
    "month_4 = year_2016[year_2016['month'] == 4]\n",
    "month_5 = year_2016[year_2016['month'] == 5]\n",
    "month_6 = year_2016[year_2016['month'] == 6]\n",
    "tra_store_316_6 = pd.concat([month_1,month_2,month_3,month_4,month_5,month_6])"
   ]
  },
  {
   "cell_type": "code",
   "execution_count": 13,
   "metadata": {
    "collapsed": true
   },
   "outputs": [],
   "source": [
    "id = list(tra_store_316_6['air_store_id'].values.flatten())\n",
    "\n",
    "#trainデータから2016/1~2016/6に営業しているお店の全期間を抜き出したもの。\n",
    "#trainデータから上記を除いたものが513店舗。\n",
    "tra_store_316_all = tra[tra['air_store_id'].isin(id)]\n",
    "tra_store_513 = tra[~tra['air_store_id'].isin(id)]\n",
    "\n",
    "#testデータから2016/1~2016/6に営業しているお店の全期間を抜き出したもの。\n",
    "#testデータから上記を除いたものが513店舗。\n",
    "tes_store_316 = tes[tes['air_store_id'].isin(id)]\n",
    "tes_store_513 = tes[~tes['air_store_id'].isin(id)]"
   ]
  },
  {
   "cell_type": "code",
   "execution_count": 15,
   "metadata": {
    "collapsed": true
   },
   "outputs": [],
   "source": [
    "tra_513_tes = pd.concat([tra_store_513, tra_test])"
   ]
  },
  {
   "cell_type": "code",
   "execution_count": 16,
   "metadata": {
    "collapsed": true
   },
   "outputs": [],
   "source": [
    "\n",
    "#使うのは①2016/1~2016/6の期間のデータ、②2016/1~2016/6に営業していたお店の全期間のデータ、③途中からの513店舗のデータ。\n",
    "#tra_store_316_6[['air_store_id', 'visit_date','visitors']].to_csv('tra_store_316_6.csv', index = False)\n",
    "tra_513_tes[['air_store_id', 'visit_date','visitors']].to_csv('tra_store_513_tes.csv', index = False)\n",
    "tra_store_316_all[['air_store_id', 'visit_date','visitors']].to_csv('tra_store_316_all.csv', index = False)\n",
    "#tra_store_513[['air_store_id', 'visit_date','visitors']].to_csv('tra_store_513.csv', index = False)\n",
    "tra_gw[['air_store_id', 'visit_date','visitors']].to_csv('tra_gw.csv', index = False)\n",
    "\n",
    "#テストデータは期間で分けずに最初からの316店舗と途中からの513店舗\n",
    "tes_store_316[['id','visitors']].to_csv('tes_store_316.csv', index = False)\n",
    "tes_store_513[['id','visitors']].to_csv('tes_store_513.csv', index = False)\n",
    "tes_gw[['id','visitors']].to_csv('tes_gw.csv', index = False)"
   ]
  },
  {
   "cell_type": "code",
   "execution_count": 17,
   "metadata": {},
   "outputs": [
    {
     "name": "stdout",
     "output_type": "stream",
     "text": [
      "(126700, 3)\n",
      "(135744, 3)\n",
      "(6793, 3)\n",
      "\n",
      "\n",
      "(12207, 2)\n",
      "(19812, 2)\n",
      "(18062, 2)\n"
     ]
    }
   ],
   "source": [
    "tra_316_all = pd.read_csv('/Users/suzukishinji/kaggle/recluit/tra_store_316_all.csv')\n",
    "tra_513_tes = pd.read_csv('/Users/suzukishinji/kaggle/recluit/tra_store_513_tes.csv')\n",
    "tra_gw = pd.read_csv('/Users/suzukishinji/kaggle/recluit/tra_gw.csv')\n",
    "\n",
    "tes_316 = pd.read_csv('/Users/suzukishinji/kaggle/recluit/tes_store_316.csv')\n",
    "tes_513 = pd.read_csv('/Users/suzukishinji/kaggle/recluit/tes_store_513.csv')\n",
    "tes_gw = pd.read_csv('/Users/suzukishinji/kaggle/recluit/tes_gw.csv')\n",
    "\n",
    "#出力されているか確認。（①と③はくっつけて使う）\n",
    "print(tra_316_all.shape)\n",
    "print(tra_513_tes.shape)\n",
    "print(tra_gw.shape)\n",
    "print()\n",
    "print()\n",
    "print(tes_316.shape)\n",
    "print(tes_513.shape)\n",
    "print(tes_gw.shape)"
   ]
  },
  {
   "cell_type": "code",
   "execution_count": null,
   "metadata": {
    "collapsed": true
   },
   "outputs": [],
   "source": []
  }
 ],
 "metadata": {
  "kernelspec": {
   "display_name": "Python 3",
   "language": "python",
   "name": "python3"
  },
  "language_info": {
   "codemirror_mode": {
    "name": "ipython",
    "version": 3
   },
   "file_extension": ".py",
   "mimetype": "text/x-python",
   "name": "python",
   "nbconvert_exporter": "python",
   "pygments_lexer": "ipython3",
   "version": "3.6.1"
  }
 },
 "nbformat": 4,
 "nbformat_minor": 2
}
